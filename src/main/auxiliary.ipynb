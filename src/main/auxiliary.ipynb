{
 "cells": [
  {
   "cell_type": "code",
   "execution_count": 1,
   "id": "6f232f27-59c2-4174-a28a-0766f82ff5d2",
   "metadata": {},
   "outputs": [],
   "source": [
    "import numpy as np\n",
    "import matplotlib.pyplot as plt\n",
    "%matplotlib inline\n",
    "\n",
    "import torch\n",
    "import torch.nn as nn\n",
    "import torch.optim as optim\n",
    "\n",
    "import models\n",
    "from config import Config\n",
    "from evaluation import ModelEvaluator"
   ]
  },
  {
   "cell_type": "markdown",
   "id": "668012e7-0aea-4c2f-a1c9-1575778f6f3f",
   "metadata": {},
   "source": [
    "# (If necessary) Load the k fold performances"
   ]
  },
  {
   "cell_type": "code",
   "execution_count": 81,
   "id": "7e701692-f7e3-441e-92c3-0822ffa0705f",
   "metadata": {},
   "outputs": [
    {
     "name": "stdout",
     "output_type": "stream",
     "text": [
      "[{'precision': 0.0, 'recall': 0.0, 'f1_score': 0.0, 'mcc': -0.05556094532666466, 'auc': 0.21369797997033627}, {'precision': 0.0024630541871921183, 'recall': 3.517163759144626e-05, 'f1_score': 6.935293709688605e-05, 'mcc': -0.08438312477671042, 'auc': 0.21389973196520348}, {'precision': 0.0, 'recall': 0.0, 'f1_score': 0.0, 'mcc': -0.056036641053859484, 'auc': 0.2126443449845601}, {'precision': 0.006993006993006993, 'recall': 0.00014068655036578504, 'f1_score': 0.00027582402427251415, 'mcc': -0.0993934464827609, 'auc': 0.21373961207069225}, {'precision': 0.009333333333333334, 'recall': 0.0002462014631401238, 'f1_score': 0.0004797477897333973, 'mcc': -0.11345184650995346, 'auc': 0.2137988312268881}, {'precision': 0.0, 'recall': 0.0, 'f1_score': 0.0, 'mcc': -0.06685129850693274, 'auc': 0.21366596526926473}, {'precision': 0.0, 'recall': 0.0, 'f1_score': 0.0, 'mcc': -0.055719956206157814, 'auc': 0.2127439344561392}, {'precision': 0.0, 'recall': 0.0, 'f1_score': 0.0, 'mcc': -0.08448473382961708, 'auc': 0.21423758911764595}, {'precision': 0.007836990595611285, 'recall': 0.00017585818795723128, 'f1_score': 0.0003439972480220158, 'mcc': -0.10485296365377353, 'auc': 0.2129478475670331}, {'precision': 0.0, 'recall': 0.0, 'f1_score': 0.0, 'mcc': -0.0819130389513921, 'auc': 0.2139225146062249}]\n"
     ]
    }
   ],
   "source": [
    "import pickle\n",
    "\n",
    "with open('latent_ocnn_fold_performances.pkl', 'rb') as file: # variational_autoencoder_fold_performances.pkl / denoising_autoencoder_fold_performances.pkl / autoencoder_fold_performances.pkl / ocnn_fold_performances.pkl\n",
    "    metrics_list = pickle.load(file)\n",
    "\n",
    "print(metrics_list)"
   ]
  },
  {
   "cell_type": "markdown",
   "id": "5c4ca2c7-9e6f-43da-a773-4115480468e8",
   "metadata": {},
   "source": [
    "# Compute k-fold average metrics\n",
    "- one time with auc\n",
    "- one time without auc"
   ]
  },
  {
   "cell_type": "code",
   "execution_count": 57,
   "id": "5a37c0ba-e599-4c33-a667-bb5686f738a2",
   "metadata": {},
   "outputs": [
    {
     "name": "stdout",
     "output_type": "stream",
     "text": [
      "{'average_precision': 0.819412301138453, 'average_recall': 0.8322867374344545, 'average_f1_score': 0.8257920054521515, 'average_mcc': 0.7288839174876693, 'average_auc': 0.9200142659697678}\n"
     ]
    }
   ],
   "source": [
    "# Initialize accumulators\n",
    "total_precision = 0\n",
    "total_recall = 0\n",
    "total_f1_score = 0\n",
    "total_mcc = 0\n",
    "total_auc = 0\n",
    "\n",
    "# Iterate through each dictionary and add up the metric values\n",
    "for metrics in metrics_list:\n",
    "    total_precision += metrics[\"precision\"]\n",
    "    total_recall += metrics[\"recall\"]\n",
    "    total_f1_score += metrics[\"f1_score\"]\n",
    "    total_mcc += metrics[\"mcc\"]\n",
    "    total_auc += metrics[\"auc\"]\n",
    "\n",
    "# Calculate averages\n",
    "average_precision = total_precision / len(metrics_list)\n",
    "average_recall = total_recall / len(metrics_list)\n",
    "average_f1_score = total_f1_score / len(metrics_list)\n",
    "average_mcc = total_mcc / len(metrics_list)\n",
    "average_auc = total_auc / len(metrics_list)\n",
    "\n",
    "# Print or return the averages\n",
    "averages = {\n",
    "    \"average_precision\": average_precision,\n",
    "    \"average_recall\": average_recall,\n",
    "    \"average_f1_score\": average_f1_score,\n",
    "    \"average_mcc\": average_mcc,\n",
    "    \"average_auc\": average_auc\n",
    "}\n",
    "\n",
    "print(averages)"
   ]
  },
  {
   "cell_type": "code",
   "execution_count": 68,
   "id": "834c1a3d-a9e4-4674-9cf8-1dbf648e241e",
   "metadata": {},
   "outputs": [
    {
     "name": "stdout",
     "output_type": "stream",
     "text": [
      "{'average_precision': 0.25660210167361935, 'average_recall': 0.23727490151941474, 'average_f1_score': 0.24655929128588167, 'average_mcc': -0.4514119147555958}\n"
     ]
    }
   ],
   "source": [
    "# Initialize accumulators\n",
    "total_precision = 0\n",
    "total_recall = 0\n",
    "total_f1_score = 0\n",
    "total_mcc = 0\n",
    "\n",
    "# Iterate through each dictionary and add up the metric values\n",
    "for metrics in metrics_list:\n",
    "    total_precision += metrics[\"precision\"]\n",
    "    total_recall += metrics[\"recall\"]\n",
    "    total_f1_score += metrics[\"f1_score\"]\n",
    "    total_mcc += metrics[\"mcc\"]\n",
    "\n",
    "# Calculate averages\n",
    "average_precision = total_precision / len(metrics_list)\n",
    "average_recall = total_recall / len(metrics_list)\n",
    "average_f1_score = total_f1_score / len(metrics_list)\n",
    "average_mcc = total_mcc / len(metrics_list)\n",
    "\n",
    "# Print or return the averages\n",
    "averages = {\n",
    "    \"average_precision\": average_precision,\n",
    "    \"average_recall\": average_recall,\n",
    "    \"average_f1_score\": average_f1_score,\n",
    "    \"average_mcc\": average_mcc,\n",
    "}\n",
    "\n",
    "print(averages)"
   ]
  },
  {
   "cell_type": "markdown",
   "id": "a16efda1-1cdf-46f9-bdb5-638859778c62",
   "metadata": {},
   "source": [
    "# Running Baselines models k times if they have random seeds"
   ]
  },
  {
   "cell_type": "markdown",
   "id": "ea945290-0dab-4a39-aded-56a4cba3f1c0",
   "metadata": {},
   "source": [
    "### normal dataset"
   ]
  },
  {
   "cell_type": "code",
   "execution_count": 61,
   "id": "45886b6c-4fec-4ec1-8d83-c12fbb1885f1",
   "metadata": {},
   "outputs": [
    {
     "name": "stdout",
     "output_type": "stream",
     "text": [
      "Training Data Shape: (255883, 29)\n",
      "Testing Data Shape: (56864, 29)\n",
      "Label Shape: (56864,)\n"
     ]
    }
   ],
   "source": [
    "from data_loader import MyDataLoader\n",
    "\n",
    "loader = MyDataLoader()\n",
    "\n",
    "# Load setups\n",
    "setup = loader.load_setup('../../data/setup_1.pkl')\n",
    "\n",
    "loader.fit_data(setup['X_train'])\n",
    "X_train = loader.transform_data(setup['X_train'])\n",
    "X_test = loader.transform_data(setup['X_test'])\n",
    "\n",
    "print(\"Training Data Shape:\", X_train.shape)\n",
    "print(\"Testing Data Shape:\", X_test.shape)\n",
    "\n",
    "y_test = setup['y_test']\n",
    "\n",
    "print(\"Label Shape:\", y_test.shape)"
   ]
  },
  {
   "cell_type": "markdown",
   "id": "10ef9397-0668-4915-8824-e77997ba0331",
   "metadata": {},
   "source": [
    "### autoencoder encoded dataset"
   ]
  },
  {
   "cell_type": "code",
   "execution_count": 65,
   "id": "9efd5719-740f-4442-898e-b514a4556a88",
   "metadata": {},
   "outputs": [
    {
     "name": "stdout",
     "output_type": "stream",
     "text": [
      "Training Data Shape: (255883, 8)\n",
      "Testing Data Shape: (56864, 8)\n",
      "Label Shape: (56864,)\n"
     ]
    }
   ],
   "source": [
    "from data_loader import MyDataLoader\n",
    "\n",
    "loader = MyDataLoader()\n",
    "\n",
    "# Load setups\n",
    "setup = loader.load_setup('../../data/setup_1_latent.pkl')\n",
    "\n",
    "X_train = setup['X_train']\n",
    "X_test = setup['X_test']\n",
    "\n",
    "print(\"Training Data Shape:\", X_train.shape)\n",
    "print(\"Testing Data Shape:\", X_test.shape)\n",
    "\n",
    "y_test = setup['y_test']\n",
    "\n",
    "print(\"Label Shape:\", y_test.shape)"
   ]
  },
  {
   "cell_type": "markdown",
   "id": "10657bdc-17ac-4084-847d-ec5fcb775fea",
   "metadata": {},
   "source": [
    "### import evaluation scheme and models"
   ]
  },
  {
   "cell_type": "code",
   "execution_count": 56,
   "id": "ddc31308-23f0-47ca-b3b8-f64511c584d9",
   "metadata": {},
   "outputs": [],
   "source": [
    "import models\n",
    "from evaluation import ModelEvaluator"
   ]
  },
  {
   "cell_type": "markdown",
   "id": "cad0c798-fa01-4cc8-90a0-c09e5be10766",
   "metadata": {},
   "source": [
    "## naive baseline (no randomness)"
   ]
  },
  {
   "cell_type": "code",
   "execution_count": 9,
   "id": "b2a2fae0-f91e-471f-a9a9-b6f06b27183f",
   "metadata": {},
   "outputs": [
    {
     "name": "stdout",
     "output_type": "stream",
     "text": [
      "Basic Evaluation Metrics:\n",
      "Precision: 0.5\n",
      "Recall: 1.0\n",
      "F1-Score: 0.6666666666666666\n",
      "MCC: 0.0\n",
      "AUC: 0.5\n"
     ]
    },
    {
     "data": {
      "text/plain": [
       "{'precision': 0.5,\n",
       " 'recall': 1.0,\n",
       " 'f1_score': 0.6666666666666666,\n",
       " 'mcc': 0.0,\n",
       " 'auc': 0.5}"
      ]
     },
     "execution_count": 9,
     "metadata": {},
     "output_type": "execute_result"
    }
   ],
   "source": [
    "model = models.NaiveBaseline()\n",
    "y_pred = model.predict(X_test)\n",
    "\n",
    "evaluator = ModelEvaluator(y_test, y_pred, y_pred)\n",
    "evaluator.basic_report()"
   ]
  },
  {
   "cell_type": "markdown",
   "id": "8841bf1f-fa5a-405c-a8c3-94132209f38b",
   "metadata": {},
   "source": [
    "## kmeans (randomness)"
   ]
  },
  {
   "cell_type": "code",
   "execution_count": 66,
   "id": "b875b43d-2e67-4fcc-909b-b38b4378d6bb",
   "metadata": {
    "scrolled": true
   },
   "outputs": [
    {
     "name": "stdout",
     "output_type": "stream",
     "text": [
      "Basic Evaluation Metrics:\n",
      "Precision: 0.25669363108123505\n",
      "Recall: 0.23772509848058526\n",
      "F1-Score: 0.24684549787265125\n",
      "MCC: -0.45188966696929866\n",
      "Basic Evaluation Metrics:\n",
      "Precision: 0.25692704774918396\n",
      "Recall: 0.23807681485649973\n",
      "F1-Score: 0.24714301361860602\n",
      "MCC: -0.4516956839717428\n",
      "Basic Evaluation Metrics:\n",
      "Precision: 0.256796780072904\n",
      "Recall: 0.23786578503095104\n",
      "F1-Score: 0.24696903301197778\n",
      "MCC: -0.4517779666925079\n",
      "Basic Evaluation Metrics:\n",
      "Precision: 0.25682499905076506\n",
      "Recall: 0.2379009566685425\n",
      "F1-Score: 0.2470010407347222\n",
      "MCC: -0.45174152167835746\n",
      "Basic Evaluation Metrics:\n",
      "Precision: 0.2563468199292049\n",
      "Recall: 0.23688097917839054\n",
      "F1-Score: 0.24622977789964356\n",
      "MCC: -0.4516063871161217\n",
      "Basic Evaluation Metrics:\n",
      "Precision: 0.2558909594948406\n",
      "Recall: 0.23375070343275184\n",
      "F1-Score: 0.24432027056834058\n",
      "MCC: -0.44765510692526994\n",
      "Basic Evaluation Metrics:\n",
      "Precision: 0.25672185933464986\n",
      "Recall: 0.23776027011817671\n",
      "F1-Score: 0.24687751077350084\n",
      "MCC: -0.45185321836286096\n",
      "Basic Evaluation Metrics:\n",
      "Precision: 0.2564969604863222\n",
      "Recall: 0.2374437253798537\n",
      "F1-Score: 0.24660286382232613\n",
      "MCC: -0.45207903708072056\n",
      "Basic Evaluation Metrics:\n",
      "Precision: 0.25682499905076506\n",
      "Recall: 0.2379009566685425\n",
      "F1-Score: 0.2470010407347222\n",
      "MCC: -0.45174152167835746\n",
      "Basic Evaluation Metrics:\n",
      "Precision: 0.2564969604863222\n",
      "Recall: 0.2374437253798537\n",
      "F1-Score: 0.24660286382232613\n",
      "MCC: -0.45207903708072056\n"
     ]
    }
   ],
   "source": [
    "metrics_list = []\n",
    "for random_seed in range(10):\n",
    "    model = models.KMeansAnomalyDetector(n_clusters=2, n_init=10, random_state=random_seed)\n",
    "    model.fit(X_test)\n",
    "    y_pred = model.predict(X_test)\n",
    "    \n",
    "    evaluator = ModelEvaluator(y_test, y_pred)\n",
    "    metrics_list.append(evaluator.basic_report())"
   ]
  },
  {
   "cell_type": "markdown",
   "id": "f106a237-ec5e-45fc-ac8b-224727a13607",
   "metadata": {},
   "source": [
    "## ocsvm (no randomness)"
   ]
  },
  {
   "cell_type": "code",
   "execution_count": 80,
   "id": "129c0f60-b8ea-4222-87f2-739efa9b00d4",
   "metadata": {},
   "outputs": [
    {
     "name": "stdout",
     "output_type": "stream",
     "text": [
      "Basic Evaluation Metrics:\n",
      "Precision: 0.579232693911593\n",
      "Recall: 0.683947664603264\n",
      "F1-Score: 0.6272498548480743\n",
      "MCC: 0.19024779606091166\n",
      "AUC: 0.6166273070575404\n"
     ]
    },
    {
     "data": {
      "text/plain": [
       "{'precision': 0.579232693911593,\n",
       " 'recall': 0.683947664603264,\n",
       " 'f1_score': 0.6272498548480743,\n",
       " 'mcc': 0.19024779606091166,\n",
       " 'auc': 0.6166273070575404}"
      ]
     },
     "execution_count": 80,
     "metadata": {},
     "output_type": "execute_result"
    }
   ],
   "source": [
    "model = models.OCSVM()\n",
    "model.fit(X_train)\n",
    "y_pred = model.predict(X_test)\n",
    "y_pred = (y_pred == -1).astype(int)\n",
    "\n",
    "# anomaly scores (e.g. for ROC or PR curve)\n",
    "y_scores = model.anomaly_scores(X_test)\n",
    "\n",
    "evaluator = ModelEvaluator(y_test, y_pred, -y_scores)\n",
    "evaluator.basic_report()"
   ]
  },
  {
   "cell_type": "markdown",
   "id": "624612d7-8a45-4a76-91d6-ef26bc6aebd3",
   "metadata": {},
   "source": [
    "## sgd ocsvm (randomness)"
   ]
  },
  {
   "cell_type": "code",
   "execution_count": 72,
   "id": "68b5e9f3-7e2d-4f5b-a146-070b9d5d167e",
   "metadata": {},
   "outputs": [
    {
     "name": "stdout",
     "output_type": "stream",
     "text": [
      "Basic Evaluation Metrics:\n",
      "Precision: 0.07680101555061886\n",
      "Recall: 0.01702307259425999\n",
      "F1-Score: 0.027868946853227387\n",
      "MCC: -0.29881451510236395\n",
      "AUC: 0.20974178555221173\n",
      "Basic Evaluation Metrics:\n",
      "Precision: 0.07693517935808684\n",
      "Recall: 0.01719893078221722\n",
      "F1-Score: 0.028113142462918246\n",
      "MCC: -0.30015720158699616\n",
      "AUC: 0.20973935537909522\n",
      "Basic Evaluation Metrics:\n",
      "Precision: 0.07651924912503977\n",
      "Recall: 0.01691755768148565\n",
      "F1-Score: 0.027708969410680337\n",
      "MCC: -0.2985864067392642\n",
      "AUC: 0.20974409325796323\n",
      "Basic Evaluation Metrics:\n",
      "Precision: 0.07692307692307693\n",
      "Recall: 0.01712858750703433\n",
      "F1-Score: 0.02801829531398326\n",
      "MCC: -0.2995007737407682\n",
      "AUC: 0.20973984834116544\n",
      "Basic Evaluation Metrics:\n",
      "Precision: 0.07671580282136631\n",
      "Recall: 0.01702307259425999\n",
      "F1-Score: 0.02786333151031922\n",
      "MCC: -0.29906132759549836\n",
      "AUC: 0.20973533622284402\n",
      "Basic Evaluation Metrics:\n",
      "Precision: 0.07681410357311506\n",
      "Recall: 0.017163759144625774\n",
      "F1-Score: 0.02805807100761823\n",
      "MCC: -0.30016332359334913\n",
      "AUC: 0.20974071674611722\n",
      "Basic Evaluation Metrics:\n",
      "Precision: 0.07676479898702121\n",
      "Recall: 0.017058244231851434\n",
      "F1-Score: 0.027913669064748202\n",
      "MCC: -0.2992665598200222\n",
      "AUC: 0.2097427343650294\n",
      "Basic Evaluation Metrics:\n",
      "Precision: 0.07665505226480836\n",
      "Recall: 0.01702307259425999\n",
      "F1-Score: 0.027859321936337996\n",
      "MCC: -0.29923754680867265\n",
      "AUC: 0.20974479775457297\n",
      "Basic Evaluation Metrics:\n",
      "Precision: 0.0767644726407613\n",
      "Recall: 0.01702307259425999\n",
      "F1-Score: 0.027866540000575757\n",
      "MCC: -0.29892030698574196\n",
      "AUC: 0.20974065736800085\n",
      "Basic Evaluation Metrics:\n",
      "Precision: 0.07676479898702121\n",
      "Recall: 0.017058244231851434\n",
      "F1-Score: 0.027913669064748202\n",
      "MCC: -0.2992665598200222\n",
      "AUC: 0.20974120599705517\n"
     ]
    }
   ],
   "source": [
    "metrics_list = []\n",
    "for random_seed in range(10):\n",
    "    model = models.SGDOCSVM(random_state=random_seed)\n",
    "    model.fit(X_train)\n",
    "    y_pred = model.predict(X_test)\n",
    "    y_pred = (y_pred == -1).astype(int)\n",
    "    \n",
    "    # anomaly scores (e.g. for ROC or PR curve)\n",
    "    y_scores = model.anomaly_scores(X_test)\n",
    "    \n",
    "    evaluator = ModelEvaluator(y_test, y_pred, -y_scores)\n",
    "    metrics_list.append(evaluator.basic_report())"
   ]
  },
  {
   "cell_type": "markdown",
   "id": "4371c8fc-0319-4db9-8e10-aba848c424eb",
   "metadata": {},
   "source": [
    "## knn distance (no randomness)"
   ]
  },
  {
   "cell_type": "code",
   "execution_count": 71,
   "id": "b9c13f7e-dcad-4e34-b231-fb21bd0a1f43",
   "metadata": {},
   "outputs": [
    {
     "name": "stdout",
     "output_type": "stream",
     "text": [
      "Basic Evaluation Metrics:\n",
      "Precision: 0.866166405541354\n",
      "Recall: 0.36944288126055147\n",
      "F1-Score: 0.5179614882023719\n",
      "MCC: 0.3812867842550902\n",
      "AUC: 0.8273388102355363\n"
     ]
    },
    {
     "data": {
      "text/plain": [
       "{'precision': 0.866166405541354,\n",
       " 'recall': 0.36944288126055147,\n",
       " 'f1_score': 0.5179614882023719,\n",
       " 'mcc': 0.3812867842550902,\n",
       " 'auc': 0.8273388102355363}"
      ]
     },
     "execution_count": 71,
     "metadata": {},
     "output_type": "execute_result"
    }
   ],
   "source": [
    "model = models.KNNAnomalyDetector(n_neighbors=5)\n",
    "model.fit(X_train)\n",
    "model.compute_threshold(X_train, percentile=95) #distances as anomaly score\n",
    "y_pred, kth_distances = model.predict(X_test)\n",
    "y_pred = (y_pred == True).astype(int)\n",
    "\n",
    "evaluator = ModelEvaluator(y_test, y_pred, kth_distances)\n",
    "evaluator.basic_report()"
   ]
  },
  {
   "cell_type": "markdown",
   "id": "6c5104f8-7b97-489f-893b-dca520b8ed47",
   "metadata": {},
   "source": [
    "## LOF (no randomness)"
   ]
  },
  {
   "cell_type": "code",
   "execution_count": 74,
   "id": "711db37d-8da1-473c-a8fa-c18985864ff8",
   "metadata": {},
   "outputs": [
    {
     "name": "stdout",
     "output_type": "stream",
     "text": [
      "Basic Evaluation Metrics:\n",
      "Precision: 0.4225168823860439\n",
      "Recall: 0.4225168823860439\n",
      "F1-Score: 0.4225168823860439\n",
      "MCC: -0.15496623522791222\n",
      "AUC: 0.38585964761977676\n"
     ]
    },
    {
     "data": {
      "text/plain": [
       "{'precision': 0.4225168823860439,\n",
       " 'recall': 0.4225168823860439,\n",
       " 'f1_score': 0.4225168823860439,\n",
       " 'mcc': -0.15496623522791222,\n",
       " 'auc': 0.38585964761977676}"
      ]
     },
     "execution_count": 74,
     "metadata": {},
     "output_type": "execute_result"
    }
   ],
   "source": [
    "model = models.LOFAnomalyDetector(n_neighbors=5, contamination=0.5)\n",
    "y_pred = model.fit_predict(X_test) # fit and predict not possible for novelty=False, have to use fit_predict\n",
    "y_pred = (y_pred == -1).astype(int)\n",
    "\n",
    "evaluator = ModelEvaluator(y_test, y_pred, -model.model.negative_outlier_factor_)\n",
    "evaluator.basic_report()"
   ]
  },
  {
   "cell_type": "markdown",
   "id": "01057e75-6315-4319-ad9d-4ba56535b6ba",
   "metadata": {},
   "source": [
    "## Isolation Forest (randomness)"
   ]
  },
  {
   "cell_type": "code",
   "execution_count": 75,
   "id": "82c945a0-1bad-491f-90a6-5d680947a228",
   "metadata": {
    "scrolled": true
   },
   "outputs": [
    {
     "name": "stdout",
     "output_type": "stream",
     "text": [
      "Basic Evaluation Metrics:\n",
      "Precision: 0.6695301728709301\n",
      "Recall: 0.22203854811480023\n",
      "F1-Score: 0.33348300361849925\n",
      "MCC: 0.15116817358038961\n",
      "AUC: 0.6272805415003155\n",
      "Basic Evaluation Metrics:\n",
      "Precision: 0.6120030007501875\n",
      "Recall: 0.14346510973550927\n",
      "F1-Score: 0.23244151921816678\n",
      "MCC: 0.08162293328418369\n",
      "AUC: 0.6056315450023577\n",
      "Basic Evaluation Metrics:\n",
      "Precision: 0.6570065176908753\n",
      "Recall: 0.19854389420371413\n",
      "F1-Score: 0.30493733794295597\n",
      "MCC: 0.13247903767396105\n",
      "AUC: 0.6416974195002959\n",
      "Basic Evaluation Metrics:\n",
      "Precision: 0.6408853519025118\n",
      "Recall: 0.18127462014631401\n",
      "F1-Score: 0.2826122717552229\n",
      "MCC: 0.11435893124503842\n",
      "AUC: 0.6232101431717225\n",
      "Basic Evaluation Metrics:\n",
      "Precision: 0.6684979230872303\n",
      "Recall: 0.17547129994372537\n",
      "F1-Score: 0.27797743418303383\n",
      "MCC: 0.1309825371356371\n",
      "AUC: 0.621285968714581\n",
      "Basic Evaluation Metrics:\n",
      "Precision: 0.6669985617878084\n",
      "Recall: 0.21204980303882948\n",
      "F1-Score: 0.3217955218702463\n",
      "MCC: 0.14520294689945581\n",
      "AUC: 0.62420629086303\n",
      "Basic Evaluation Metrics:\n",
      "Precision: 0.6619333697433096\n",
      "Recall: 0.21314012380416433\n",
      "F1-Score: 0.3224519115651688\n",
      "MCC: 0.14187156729957126\n",
      "AUC: 0.6266433914264413\n",
      "Basic Evaluation Metrics:\n",
      "Precision: 0.7002772002772003\n",
      "Recall: 0.21324563871693866\n",
      "F1-Score: 0.3269344836883257\n",
      "MCC: 0.16975389574492722\n",
      "AUC: 0.6522302852233758\n",
      "Basic Evaluation Metrics:\n",
      "Precision: 0.6451692307692307\n",
      "Recall: 0.1843697242543613\n",
      "F1-Score: 0.2867850206526794\n",
      "MCC: 0.11854355547822966\n",
      "AUC: 0.6405826751549532\n",
      "Basic Evaluation Metrics:\n",
      "Precision: 0.6271439224459359\n",
      "Recall: 0.17747608328643782\n",
      "F1-Score: 0.2766599046000329\n",
      "MCC: 0.10323468185670459\n",
      "AUC: 0.6192418121140224\n"
     ]
    }
   ],
   "source": [
    "metrics_list = []\n",
    "for random_seed in range(10):\n",
    "    model = models.IsolationForestDetector(n_estimators=100, max_samples='auto', contamination='auto', random_state=random_seed)\n",
    "    model.fit(X_train)\n",
    "    y_pred = model.predict(X_test)\n",
    "    y_pred = (y_pred == -1).astype(int)\n",
    "    \n",
    "    # anomaly scores (e.g. for ROC or PR curve)\n",
    "    y_scores = model.anomaly_scores(X_test)\n",
    "    \n",
    "    evaluator = ModelEvaluator(y_test, y_pred, -y_scores)\n",
    "    metrics_list.append(evaluator.basic_report())"
   ]
  },
  {
   "cell_type": "markdown",
   "id": "4dc7fb1a-619a-4f51-b790-00be09590604",
   "metadata": {},
   "source": [
    "## Mahalonobis distance (no randomness)"
   ]
  },
  {
   "cell_type": "code",
   "execution_count": 77,
   "id": "7c56a335-e4eb-41a8-b259-d8f158cfcf14",
   "metadata": {},
   "outputs": [
    {
     "name": "stdout",
     "output_type": "stream",
     "text": [
      "Basic Evaluation Metrics:\n",
      "Precision: 0.6040342636087317\n",
      "Recall: 0.07688519977490152\n",
      "F1-Score: 0.1364076003868834\n",
      "MCC: 0.05424519427886983\n",
      "AUC: 0.6012423938117393\n"
     ]
    },
    {
     "data": {
      "text/plain": [
       "{'precision': 0.6040342636087317,\n",
       " 'recall': 0.07688519977490152,\n",
       " 'f1_score': 0.1364076003868834,\n",
       " 'mcc': 0.05424519427886983,\n",
       " 'auc': 0.6012423938117393}"
      ]
     },
     "execution_count": 77,
     "metadata": {},
     "output_type": "execute_result"
    }
   ],
   "source": [
    "model = models.MahalanobisAnomalyDetector()\n",
    "model.fit(X_train)\n",
    "model.compute_threshold(X_train, percentile=95) #distances as anomaly score\n",
    "y_pred, y_scores = model.predict(X_test)\n",
    "y_pred = (y_pred == True).astype(int)\n",
    "\n",
    "evaluator = ModelEvaluator(y_test, y_pred, y_scores)\n",
    "evaluator.basic_report()"
   ]
  },
  {
   "cell_type": "markdown",
   "id": "83711790-c97d-4652-9f76-39d5c6d12e2a",
   "metadata": {},
   "source": [
    "## GMM (randomness)"
   ]
  },
  {
   "cell_type": "code",
   "execution_count": 78,
   "id": "cc4d97b2-be09-4149-aa86-bcd3e1d2be0d",
   "metadata": {
    "scrolled": true
   },
   "outputs": [
    {
     "name": "stdout",
     "output_type": "stream",
     "text": [
      "Basic Evaluation Metrics:\n",
      "Precision: 0.623342175066313\n",
      "Recall: 0.008265334833989871\n",
      "F1-Score: 0.016314346211253432\n",
      "MCC: 0.020152921738873782\n",
      "AUC: 0.6928433971059581\n",
      "Basic Evaluation Metrics:\n",
      "Precision: 0.6780415430267063\n",
      "Recall: 0.03214687675858188\n",
      "F1-Score: 0.061383478844862324\n",
      "MCC: 0.05548648424124656\n",
      "AUC: 0.6583618903312317\n",
      "Basic Evaluation Metrics:\n",
      "Precision: 0.6780415430267063\n",
      "Recall: 0.03214687675858188\n",
      "F1-Score: 0.061383478844862324\n",
      "MCC: 0.05548648424124656\n",
      "AUC: 0.6583594273764467\n",
      "Basic Evaluation Metrics:\n",
      "Precision: 0.6780415430267063\n",
      "Recall: 0.03214687675858188\n",
      "F1-Score: 0.061383478844862324\n",
      "MCC: 0.05548648424124656\n",
      "AUC: 0.6583552993603157\n",
      "Basic Evaluation Metrics:\n",
      "Precision: 0.6780415430267063\n",
      "Recall: 0.03214687675858188\n",
      "F1-Score: 0.061383478844862324\n",
      "MCC: 0.05548648424124656\n",
      "AUC: 0.6583554243017687\n",
      "Basic Evaluation Metrics:\n",
      "Precision: 0.6780415430267063\n",
      "Recall: 0.03214687675858188\n",
      "F1-Score: 0.061383478844862324\n",
      "MCC: 0.05548648424124656\n",
      "AUC: 0.6583616602410308\n",
      "Basic Evaluation Metrics:\n",
      "Precision: 0.6921164253327483\n",
      "Recall: 0.1664321890827237\n",
      "F1-Score: 0.26833763361592333\n",
      "MCC: 0.14204470619049675\n",
      "AUC: 0.6501086080178192\n",
      "Basic Evaluation Metrics:\n",
      "Precision: 0.6780415430267063\n",
      "Recall: 0.03214687675858188\n",
      "F1-Score: 0.061383478844862324\n",
      "MCC: 0.05548648424124656\n",
      "AUC: 0.6583572811049492\n",
      "Basic Evaluation Metrics:\n",
      "Precision: 0.6925320886814469\n",
      "Recall: 0.16699493528418682\n",
      "F1-Score: 0.26909997732940377\n",
      "MCC: 0.1425767725227034\n",
      "AUC: 0.6501121274082575\n",
      "Basic Evaluation Metrics:\n",
      "Precision: 0.6780415430267063\n",
      "Recall: 0.03214687675858188\n",
      "F1-Score: 0.061383478844862324\n",
      "MCC: 0.05548648424124656\n",
      "AUC: 0.6583622490740181\n"
     ]
    }
   ],
   "source": [
    "metrics_list = []\n",
    "for random_seed in range(10):\n",
    "    model = models.GMMAnomalyDetector(n_components=3, random_state=random_seed)\n",
    "    model.fit(X_train) \n",
    "    model.compute_threshold(X_train, std_multiplier=1)\n",
    "    \n",
    "    y_pred, y_scores = model.predict(X_test) \n",
    "    y_pred = (y_pred == True).astype(int)\n",
    "    \n",
    "    evaluator = ModelEvaluator(y_test, y_pred, -y_scores)\n",
    "    metrics_list.append(evaluator.basic_report())"
   ]
  },
  {
   "cell_type": "markdown",
   "id": "ade01185-5df3-4385-abc6-84c838ab81fb",
   "metadata": {},
   "source": [
    "## KDE (no randomness)"
   ]
  },
  {
   "cell_type": "code",
   "execution_count": 85,
   "id": "62e21931-3d59-4d66-b721-ddf8ef59d57d",
   "metadata": {},
   "outputs": [
    {
     "name": "stdout",
     "output_type": "stream",
     "text": [
      "Basic Evaluation Metrics:\n",
      "Precision: 0.662109375\n",
      "Recall: 0.2503868880135059\n",
      "F1-Score: 0.3633625969783585\n",
      "MCC: 0.1565581841013374\n",
      "AUC: 0.6353614763569009\n"
     ]
    },
    {
     "data": {
      "text/plain": [
       "{'precision': 0.662109375,\n",
       " 'recall': 0.2503868880135059,\n",
       " 'f1_score': 0.3633625969783585,\n",
       " 'mcc': 0.1565581841013374,\n",
       " 'auc': 0.6353614763569009}"
      ]
     },
     "execution_count": 85,
     "metadata": {},
     "output_type": "execute_result"
    }
   ],
   "source": [
    "model = models.KDEAnomalyDetector(kernel='gaussian', bandwidth=0.5)\n",
    "model.fit(X_train)  # X_train: Training data\n",
    "model.compute_threshold(X_train, std_multiplier=1)\n",
    "\n",
    "y_pred, y_scores = model.predict(X_test)\n",
    "\n",
    "evaluator = ModelEvaluator(y_test, y_pred, -y_scores)\n",
    "evaluator.basic_report()"
   ]
  },
  {
   "cell_type": "markdown",
   "id": "cfa59156-81be-46b4-9095-da85b0b24af0",
   "metadata": {},
   "source": [
    "# Make \"new\" dataset through latent reprentation of the datasets with the best autoencoders encoder"
   ]
  },
  {
   "cell_type": "code",
   "execution_count": 19,
   "id": "0b20b0a9-486b-4eb2-aabc-34c3ae79eb62",
   "metadata": {},
   "outputs": [],
   "source": [
    "from dl_models import CustomAE, Autoencoder\n",
    "from config import Config\n",
    "import torch\n",
    "import torch.nn as nn\n",
    "import numpy as np"
   ]
  },
  {
   "cell_type": "code",
   "execution_count": 20,
   "id": "6a5f2687-7ec8-4abc-9d0d-d00be8d8d20f",
   "metadata": {},
   "outputs": [
    {
     "data": {
      "text/plain": [
       "<torch._C.Generator at 0x2024c8237b0>"
      ]
     },
     "execution_count": 20,
     "metadata": {},
     "output_type": "execute_result"
    }
   ],
   "source": [
    "# Set random seed\n",
    "np.random.seed(Config.RANDOM_SEED)\n",
    "torch.manual_seed(Config.RANDOM_SEED)"
   ]
  },
  {
   "cell_type": "code",
   "execution_count": 21,
   "id": "55bc7016-f807-4673-916f-4f846ac31c02",
   "metadata": {},
   "outputs": [
    {
     "name": "stdout",
     "output_type": "stream",
     "text": [
      "Device used:  cuda\n"
     ]
    }
   ],
   "source": [
    "device = torch.device(\"cuda\" if torch.cuda.is_available() else \"cpu\") # device = \"cpu\"\n",
    "print(\"Device used: \", device)"
   ]
  },
  {
   "cell_type": "code",
   "execution_count": 22,
   "id": "3819cd4a-342a-4393-831e-f0b2d12d653c",
   "metadata": {},
   "outputs": [],
   "source": [
    "# Convert training set to PyTorch tensor\n",
    "X_train_tensor = torch.Tensor(X_train).to(device)\n",
    "\n",
    "# Convert the test set to PyTorch tensor\n",
    "X_test_tensor = torch.Tensor(X_test).to(device)"
   ]
  },
  {
   "cell_type": "code",
   "execution_count": 23,
   "id": "8ad85c2e-871b-4444-af68-5f2e6e71a1b9",
   "metadata": {},
   "outputs": [
    {
     "data": {
      "text/plain": [
       "29"
      ]
     },
     "execution_count": 23,
     "metadata": {},
     "output_type": "execute_result"
    }
   ],
   "source": [
    "input_dim=X_train_tensor.shape[1]\n",
    "input_dim"
   ]
  },
  {
   "cell_type": "code",
   "execution_count": 11,
   "id": "d48bdfb0-4770-444d-a691-fe50e787e94d",
   "metadata": {},
   "outputs": [],
   "source": [
    "# best autoencoder had this structure:\n",
    "\n",
    "# class CustomAE(nn.Module):\n",
    "#     def __init__(self, input_dim):\n",
    "#         super(CustomAE, self).__init__()\n",
    "#         # Encoder\n",
    "#         self.encoder = nn.Sequential(\n",
    "#             nn.Linear(input_dim, 16),\n",
    "#             nn.BatchNorm1d(16),\n",
    "#             nn.ELU(),\n",
    "#             nn.Linear(16, 8),\n",
    "#             nn.ELU()\n",
    "#         )\n",
    "#         # Decoder\n",
    "#         self.decoder = nn.Sequential(\n",
    "#             nn.Linear(8, 16),\n",
    "#             nn.BatchNorm1d(16),\n",
    "#             nn.ELU(),\n",
    "#             nn.Linear(16, input_dim),\n",
    "#             nn.ELU()\n",
    "#         )\n",
    "\n",
    "#     def forward(self, x):\n",
    "#         x = self.encoder(x)\n",
    "#         x = self.decoder(x)\n",
    "#         return x"
   ]
  },
  {
   "cell_type": "code",
   "execution_count": 24,
   "id": "ecd8aced-60df-456c-b300-837180f2a914",
   "metadata": {},
   "outputs": [
    {
     "data": {
      "text/plain": [
       "CustomAE(\n",
       "  (encoder): Sequential(\n",
       "    (0): Linear(in_features=29, out_features=16, bias=True)\n",
       "    (1): BatchNorm1d(16, eps=1e-05, momentum=0.1, affine=True, track_running_stats=True)\n",
       "    (2): ELU(alpha=1.0)\n",
       "    (3): Linear(in_features=16, out_features=8, bias=True)\n",
       "    (4): ELU(alpha=1.0)\n",
       "  )\n",
       "  (decoder): Sequential(\n",
       "    (0): Linear(in_features=8, out_features=16, bias=True)\n",
       "    (1): BatchNorm1d(16, eps=1e-05, momentum=0.1, affine=True, track_running_stats=True)\n",
       "    (2): ELU(alpha=1.0)\n",
       "    (3): Linear(in_features=16, out_features=29, bias=True)\n",
       "    (4): ELU(alpha=1.0)\n",
       "  )\n",
       ")"
      ]
     },
     "execution_count": 24,
     "metadata": {},
     "output_type": "execute_result"
    }
   ],
   "source": [
    "model = CustomAE(input_dim=input_dim)\n",
    "model"
   ]
  },
  {
   "cell_type": "code",
   "execution_count": 25,
   "id": "e1c88454-7e9e-4170-bdbb-a194f05ec4d1",
   "metadata": {},
   "outputs": [],
   "source": [
    "model = model.to(device)"
   ]
  },
  {
   "cell_type": "code",
   "execution_count": 26,
   "id": "b64ec76c-bcb5-4207-a354-fa9aeb58537c",
   "metadata": {},
   "outputs": [
    {
     "data": {
      "text/plain": [
       "<All keys matched successfully>"
      ]
     },
     "execution_count": 26,
     "metadata": {},
     "output_type": "execute_result"
    }
   ],
   "source": [
    "model.load_state_dict(torch.load('best_autoencoder_for_encoding_dataset.pth'))"
   ]
  },
  {
   "cell_type": "markdown",
   "id": "4af1445b-5a5a-49c5-a42e-b055082d886f",
   "metadata": {},
   "source": [
    "### test that the model is actually \"good\""
   ]
  },
  {
   "cell_type": "code",
   "execution_count": 33,
   "id": "c5cc27e1-9f1b-45a5-b7e7-38fb5cc94a3f",
   "metadata": {},
   "outputs": [
    {
     "data": {
      "image/png": "[encoded data removed]",
      "text/plain": [
       "<Figure size 600x600 with 1 Axes>"
      ]
     },
     "metadata": {},
     "output_type": "display_data"
    },
    {
     "name": "stdout",
     "output_type": "stream",
     "text": [
      "Number of outliers:  28164\n",
      "Basic Evaluation Metrics:\n",
      "Precision: 0.898096861241301\n",
      "Recall: 0.8896314012380416\n",
      "F1-Score: 0.8938440879214078\n",
      "MCC: 0.7887238409705429\n",
      "AUC: 0.9379925303418215\n"
     ]
    }
   ],
   "source": [
    "from evaluation import ModelEvaluator\n",
    "import matplotlib.pyplot as plt\n",
    "\n",
    "# Get the model's reconstruction of the test set\n",
    "model.eval()\n",
    "with torch.no_grad():\n",
    "    reconstructions = model(X_train_tensor).cpu().numpy()\n",
    "\n",
    "# Calculate the MSE reconstruction loss per row\n",
    "train_mse = np.mean(np.power(X_train_tensor.cpu().numpy() - reconstructions, 2), axis=1)\n",
    "\n",
    "threshold = np.quantile(train_mse, 0.90)\n",
    "\n",
    "#### Evaluation\n",
    "    \n",
    "with torch.no_grad():\n",
    "    reconstructions = model(X_test_tensor).cpu().numpy()\n",
    "\n",
    "# Calculate the MSE reconstruction loss per row\n",
    "mse = np.mean(np.power(X_test_tensor.cpu().numpy() - reconstructions, 2), axis=1)\n",
    "\n",
    "clean = mse[y_test == 0]\n",
    "fraud = mse[y_test == 1]\n",
    "\n",
    "# Plotting the distribution of reconstruction loss\n",
    "fig, ax = plt.subplots(figsize=(6,6))\n",
    "ax.hist(clean[clean <= Config.PLOT_CLIPPING_VALUE], bins=50, density=True, label=\"clean\", alpha=.6, color=\"green\")\n",
    "ax.hist(fraud[fraud <= Config.PLOT_CLIPPING_VALUE], bins=50, density=True, label=\"fraud\", alpha=.6, color=\"red\")\n",
    "ax.axvline(threshold, color='black', linestyle='dashed', linewidth=2, label=f'threshold={threshold}')\n",
    "plt.title(\"(Normalized) Distribution of the Reconstruction Loss\")\n",
    "plt.xlabel(\"Reconstruction error\")\n",
    "plt.legend()\n",
    "plt.savefig(\"best_autoencoder_reconstruction_loss_test_dataset_with_threshold.png\")\n",
    "plt.show()\n",
    "\n",
    "outliers = mse > threshold\n",
    "print(\"Number of outliers: \", sum(outliers))\n",
    "\n",
    "# Convert predictions to match y_test labels (1 for anomalies, 0 for normal)\n",
    "y_pred = outliers.astype(int)\n",
    "\n",
    "# compute metrics\n",
    "evaluator = ModelEvaluator(y_test, y_pred, mse)\n",
    "metrics = evaluator.basic_report()"
   ]
  },
  {
   "cell_type": "markdown",
   "id": "b18daf3b-b078-402c-af81-95d44d17cd43",
   "metadata": {},
   "source": [
    "## encoding the dataset to the latent space"
   ]
  },
  {
   "cell_type": "code",
   "execution_count": 35,
   "id": "febb1691-883b-4ab7-8dbd-fc1f280995ca",
   "metadata": {},
   "outputs": [],
   "source": [
    "model.eval()\n",
    "# Transform the data using only the encoder part\n",
    "with torch.no_grad():\n",
    "    encoded_X_train = model.encoder(X_train_tensor).cpu().numpy()\n",
    "    encoded_X_test = model.encoder(X_test_tensor).cpu().numpy()"
   ]
  },
  {
   "cell_type": "code",
   "execution_count": 52,
   "id": "6256724d-aa62-4cc5-805f-3c02ce9af6f4",
   "metadata": {},
   "outputs": [
    {
     "data": {
      "text/plain": [
       "array([[3.2018504 , 2.106742  , 1.7771053 , ..., 2.6001818 , 1.5712452 ,\n",
       "        0.2648418 ],\n",
       "       [1.8962164 , 1.8534446 , 1.859011  , ..., 3.3660688 , 0.5571087 ,\n",
       "        0.5975636 ],\n",
       "       [1.7979131 , 1.2056639 , 2.1025486 , ..., 3.6047344 , 0.45853156,\n",
       "        1.3557084 ],\n",
       "       ...,\n",
       "       [1.4238945 , 2.2603192 , 1.8663855 , ..., 3.4379077 , 0.88286763,\n",
       "        1.0849566 ],\n",
       "       [1.7356632 , 1.7142673 , 1.232574  , ..., 3.5561767 , 0.82608485,\n",
       "        0.9213147 ],\n",
       "       [1.272428  , 1.3619392 , 0.43058717, ..., 3.4039807 , 0.90568894,\n",
       "        0.97961265]], dtype=float32)"
      ]
     },
     "execution_count": 52,
     "metadata": {},
     "output_type": "execute_result"
    }
   ],
   "source": [
    "encoded_X_train"
   ]
  },
  {
   "cell_type": "code",
   "execution_count": 40,
   "id": "73c84810-e691-4269-bb3c-fc191fef2fae",
   "metadata": {},
   "outputs": [
    {
     "data": {
      "text/plain": [
       "torch.Size([255883, 29])"
      ]
     },
     "execution_count": 40,
     "metadata": {},
     "output_type": "execute_result"
    }
   ],
   "source": [
    "X_train_tensor.shape"
   ]
  },
  {
   "cell_type": "code",
   "execution_count": 39,
   "id": "48cb108f-0941-403c-bc43-3a8be4ae478c",
   "metadata": {},
   "outputs": [
    {
     "data": {
      "text/plain": [
       "(255883, 8)"
      ]
     },
     "execution_count": 39,
     "metadata": {},
     "output_type": "execute_result"
    }
   ],
   "source": [
    "encoded_X_train.shape"
   ]
  },
  {
   "cell_type": "code",
   "execution_count": 41,
   "id": "34176fe3-fdb5-4710-a66b-195db46bc696",
   "metadata": {},
   "outputs": [
    {
     "data": {
      "text/plain": [
       "torch.Size([56864, 29])"
      ]
     },
     "execution_count": 41,
     "metadata": {},
     "output_type": "execute_result"
    }
   ],
   "source": [
    "X_test_tensor.shape"
   ]
  },
  {
   "cell_type": "code",
   "execution_count": 42,
   "id": "13e4bb4a-3aae-49d6-b6dd-e0aa9bd2dda8",
   "metadata": {},
   "outputs": [
    {
     "data": {
      "text/plain": [
       "(56864, 8)"
      ]
     },
     "execution_count": 42,
     "metadata": {},
     "output_type": "execute_result"
    }
   ],
   "source": [
    "encoded_X_test.shape"
   ]
  },
  {
   "cell_type": "code",
   "execution_count": 47,
   "id": "7019130e-29a7-4925-9efb-c21f4a847f14",
   "metadata": {},
   "outputs": [],
   "source": [
    "import pickle\n",
    "\n",
    "# Prepare the new setup dictionary\n",
    "new_setup = {\n",
    "    'X_train': encoded_X_train,\n",
    "    'X_test': encoded_X_test,\n",
    "    'y_test': y_test  # Assuming you want to keep the labels the same\n",
    "}\n",
    "\n",
    "# Save the new setup to a pickle file\n",
    "with open('../../data/setup_1_latent.pkl', 'wb') as file:\n",
    "    pickle.dump(new_setup, file)"
   ]
  },
  {
   "cell_type": "markdown",
   "id": "948abb10-ef30-4f59-8c73-eecf471b2369",
   "metadata": {},
   "source": [
    "# Load models and apply them on a test set"
   ]
  },
  {
   "cell_type": "code",
   "execution_count": 22,
   "id": "773ae997-ec3b-49f4-9186-870e29ca0ee2",
   "metadata": {},
   "outputs": [],
   "source": [
    "metrics_list = []"
   ]
  },
  {
   "cell_type": "code",
   "execution_count": 34,
   "id": "73906913-d0f5-4b9c-87a4-dea114827a93",
   "metadata": {},
   "outputs": [
    {
     "name": "stdout",
     "output_type": "stream",
     "text": [
      "Training Data Shape: (255883, 29)\n",
      "Testing Data Shape: (44070, 29)\n",
      "Testing Labels Data Shape: (44070,)\n"
     ]
    }
   ],
   "source": [
    "from data_loader import MyDataLoader\n",
    "\n",
    "loader = MyDataLoader()\n",
    "\n",
    "# Load setups\n",
    "setup1 = loader.load_setup('../../data/setup_1.pkl')\n",
    "setup2 = loader.load_setup('../../data/setup_2.pkl')\n",
    "\n",
    "loader.fit_data(setup1['X_train'])\n",
    "X_train = loader.transform_data(setup1['X_train'])\n",
    "X_test = loader.transform_data(setup2['X_test'])\n",
    "\n",
    "print(\"Training Data Shape:\", X_train.shape)\n",
    "print(\"Testing Data Shape:\", X_test.shape)\n",
    "\n",
    "y_test = setup2['y_test']\n",
    "print(\"Testing Labels Data Shape:\", y_test.shape)"
   ]
  },
  {
   "cell_type": "code",
   "execution_count": 35,
   "id": "75a31be4-1b49-4797-862b-22ef82a0315c",
   "metadata": {},
   "outputs": [],
   "source": [
    "X_train_tensor = torch.Tensor(X_train)\n",
    "X_test_tensor = torch.Tensor(X_test)"
   ]
  },
  {
   "cell_type": "markdown",
   "id": "ae62e741-b368-4ef5-b810-70743dbdfb49",
   "metadata": {},
   "source": [
    "### Autoencoder"
   ]
  },
  {
   "cell_type": "code",
   "execution_count": 46,
   "id": "7f9853e9-eecd-426e-a5e7-187494e488bc",
   "metadata": {},
   "outputs": [],
   "source": [
    "class Autoencoder(nn.Module):\n",
    "    def __init__(self, input_dim):\n",
    "        super(Autoencoder, self).__init__()\n",
    "        # Encoder\n",
    "        self.encoder = nn.Sequential(\n",
    "            nn.Linear(input_dim, 16),\n",
    "            nn.ELU(),\n",
    "            nn.Linear(16, 8),\n",
    "            nn.ELU()\n",
    "        )\n",
    "        # Decoder\n",
    "        self.decoder = nn.Sequential(\n",
    "            nn.Linear(8, 16),\n",
    "            nn.ELU(),\n",
    "            nn.Linear(16, input_dim),\n",
    "            nn.ELU()\n",
    "        )\n",
    "\n",
    "    def forward(self, x):\n",
    "        x = self.encoder(x)\n",
    "        x = self.decoder(x)\n",
    "        return x"
   ]
  },
  {
   "cell_type": "code",
   "execution_count": 44,
   "id": "08e20952-f281-46f7-a9e7-ed9210e9518f",
   "metadata": {},
   "outputs": [],
   "source": [
    "class Autoencoder(nn.Module):\n",
    "    def __init__(self, input_dim):\n",
    "        super(Autoencoder, self).__init__()\n",
    "        # Encoder\n",
    "        self.encoder = nn.Sequential(\n",
    "            nn.Linear(input_dim, 16),\n",
    "            nn.BatchNorm1d(16),\n",
    "            nn.ELU(),\n",
    "            nn.Linear(16, 8),\n",
    "            nn.BatchNorm1d(8),\n",
    "            nn.ELU()\n",
    "        )\n",
    "        # Decoder\n",
    "        self.decoder = nn.Sequential(\n",
    "            nn.Linear(8, 16),\n",
    "            nn.BatchNorm1d(16),\n",
    "            nn.ELU(),\n",
    "            nn.Linear(16, input_dim),\n",
    "            nn.ELU()\n",
    "        )\n",
    "\n",
    "    def forward(self, x):\n",
    "        x = self.encoder(x)\n",
    "        x = self.decoder(x)\n",
    "        return x"
   ]
  },
  {
   "cell_type": "code",
   "execution_count": 51,
   "id": "ebf4a087-263e-447c-b74e-ba77f56c0094",
   "metadata": {},
   "outputs": [],
   "source": [
    "class Autoencoder(nn.Module): #VAE\n",
    "    def __init__(self, input_dim):\n",
    "        super(Autoencoder, self).__init__()\n",
    "        # Encoder\n",
    "        self.encoder = nn.Sequential(\n",
    "            nn.Linear(input_dim, 16),\n",
    "            nn.BatchNorm1d(16),  # Batch normalization layer\n",
    "            nn.ELU()\n",
    "        )\n",
    "        \n",
    "        self.mean_layer = nn.Linear(16, 8)  # Mean of the latent space\n",
    "        self.logvar_layer = nn.Linear(16, 8)  # Standard deviation of the latent space\n",
    "\n",
    "        # Decoder\n",
    "        self.decoder = nn.Sequential(\n",
    "            nn.Linear(8, 16),\n",
    "            nn.BatchNorm1d(16),  # Batch normalization layer\n",
    "            nn.ELU(),\n",
    "            nn.Linear(16, input_dim),\n",
    "            nn.ELU()  # or nn.Sigmoid()\n",
    "        )\n",
    "\n",
    "    def encode(self, x):\n",
    "        x = self.encoder(x)\n",
    "        mean, logvar = self.mean_layer(x), self.logvar_layer(x)\n",
    "        return mean, logvar\n",
    "\n",
    "    def reparameterize(self, mu, log_var):\n",
    "        std = torch.exp(0.5*log_var)\n",
    "        eps = torch.randn_like(std)\n",
    "        return mu + eps*std\n",
    "\n",
    "    def decode(self, z):\n",
    "        return self.decoder(z)\n",
    "\n",
    "    def forward(self, x):\n",
    "        mu, log_var = self.encode(x)\n",
    "        z = self.reparameterize(mu, log_var)\n",
    "        return self.decode(z), mu, log_var"
   ]
  },
  {
   "cell_type": "code",
   "execution_count": 55,
   "id": "b21c5b67-b367-4071-af89-e25970398e66",
   "metadata": {},
   "outputs": [],
   "source": [
    "input_dim = X_train.shape[1]\n",
    "MODEL_TYPE = 'VAE'"
   ]
  },
  {
   "cell_type": "code",
   "execution_count": 56,
   "id": "a45b0a15-6e3b-407c-bb79-42bdabaa3ec5",
   "metadata": {},
   "outputs": [
    {
     "name": "stdout",
     "output_type": "stream",
     "text": [
      "0.5435250759124757\n",
      "Number of outliers:  15837\n",
      "Basic Evaluation Metrics:\n",
      "Precision: 0.8162530782345141\n",
      "Recall: 0.8266402353242103\n",
      "F1-Score: 0.8214138204924544\n",
      "MCC: 0.7222578786154524\n",
      "AUC: 0.9183096129973717\n",
      "0.5354907035827637\n",
      "Number of outliers:  15872\n",
      "Basic Evaluation Metrics:\n",
      "Precision: 0.8209425403225806\n",
      "Recall: 0.8332267553395575\n",
      "F1-Score: 0.827039035226912\n",
      "MCC: 0.7308573706707289\n",
      "AUC: 0.9206984504705252\n",
      "0.5357627987861634\n",
      "Number of outliers:  15878\n",
      "Basic Evaluation Metrics:\n",
      "Precision: 0.8169794684469077\n",
      "Recall: 0.8295178411561581\n",
      "F1-Score: 0.8232009138215509\n",
      "MCC: 0.7248572155054859\n",
      "AUC: 0.9184653978469542\n",
      "0.5360929369926454\n",
      "Number of outliers:  15774\n",
      "Basic Evaluation Metrics:\n",
      "Precision: 0.8175478635729682\n",
      "Recall: 0.8246578846399796\n",
      "F1-Score: 0.8210874824907678\n",
      "MCC: 0.722037461791376\n",
      "AUC: 0.9189386248311635\n",
      "0.5296502590179444\n",
      "Number of outliers:  16113\n",
      "Basic Evaluation Metrics:\n",
      "Precision: 0.821200273071433\n",
      "Recall: 0.84614400818519\n",
      "F1-Score: 0.8334855595099367\n",
      "MCC: 0.7399612162462603\n",
      "AUC: 0.9230462101339227\n",
      "0.5362049460411072\n",
      "Number of outliers:  15833\n",
      "Basic Evaluation Metrics:\n",
      "Precision: 0.8208172803637971\n",
      "Recall: 0.8310525642665303\n",
      "F1-Score: 0.8259032124813319\n",
      "MCC: 0.7292585962009153\n",
      "AUC: 0.919734227380557\n",
      "0.5318721413612366\n",
      "Number of outliers:  15929\n",
      "Basic Evaluation Metrics:\n",
      "Precision: 0.8209554899868164\n",
      "Recall: 0.8362322547640363\n",
      "F1-Score: 0.8285234580416257\n",
      "MCC: 0.7329300293227485\n",
      "AUC: 0.9209946542259619\n",
      "0.5371918439865114\n",
      "Number of outliers:  15784\n",
      "Basic Evaluation Metrics:\n",
      "Precision: 0.8191206284845413\n",
      "Recall: 0.8267681289167412\n",
      "F1-Score: 0.8229266119279485\n",
      "MCC: 0.7248494296684173\n",
      "AUC: 0.9186863192738668\n",
      "0.5407954216003419\n",
      "Number of outliers:  15848\n",
      "Basic Evaluation Metrics:\n",
      "Precision: 0.8201034830893488\n",
      "Recall: 0.8311165110627957\n",
      "F1-Score: 0.8255732706599758\n",
      "MCC: 0.7286798905061979\n",
      "AUC: 0.9204237032582927\n",
      "0.5301313161849975\n",
      "Number of outliers:  15968\n",
      "Basic Evaluation Metrics:\n",
      "Precision: 0.8202029058116233\n",
      "Recall: 0.8375111906893464\n",
      "F1-Score: 0.8287666898690121\n",
      "MCC: 0.7331500863491113\n",
      "AUC: 0.9208454592790616\n"
     ]
    }
   ],
   "source": [
    "metrics_list = []\n",
    "for i in range(1,11):\n",
    "    model = Autoencoder(input_dim)\n",
    "    #autoencoder.load_state_dict(torch.load('autoencoder_best_parameters_f190.pth'))\n",
    "    model.load_state_dict(torch.load('../../../10fold_performances/variationalAE/VariationalAutoencoder_fold{}.pth'.format(i)))\n",
    "                          \n",
    "    device = torch.device(\"cuda\" if torch.cuda.is_available() else \"cpu\")\n",
    "    model = model.to(device)\n",
    "\n",
    "    # GET THRESHOLD\n",
    "    X_train_tensor = X_train_tensor.to(device)\n",
    "    \n",
    "    # Get the model's reconstruction of the test set\n",
    "    model.eval()\n",
    "    with torch.no_grad():\n",
    "        if MODEL_TYPE == 'VAE':\n",
    "            reconstructions, _, _ = model(X_train_tensor)\n",
    "            reconstructions = reconstructions.cpu().numpy()\n",
    "        else:\n",
    "            reconstructions = model(X_train_tensor).cpu().numpy()\n",
    "    \n",
    "    # Calculate the MSE reconstruction loss per row\n",
    "    train_mse = np.mean(np.power(X_train_tensor.cpu().numpy() - reconstructions, 2), axis=1)\n",
    "    \n",
    "    threshold = np.quantile(train_mse, 0.90)\n",
    "    print(threshold)\n",
    "    \n",
    "    # EVALUATION\n",
    "    \n",
    "    # Convert the transformed test set to a PyTorch tensor\n",
    "    X_test_tensor = X_test_tensor.to(device)\n",
    "    \n",
    "    # Get the model's reconstruction of the test set\n",
    "    model.eval()\n",
    "    with torch.no_grad():\n",
    "        if MODEL_TYPE == 'VAE':\n",
    "            reconstructions, _, _ = model(X_test_tensor)\n",
    "            reconstructions = reconstructions.cpu().numpy()\n",
    "        else:\n",
    "            reconstructions = model(X_test_tensor).cpu().numpy()\n",
    "    \n",
    "    # Calculate the MSE reconstruction loss per row\n",
    "    mse = np.mean(np.power(X_test_tensor.cpu().numpy() - reconstructions, 2), axis=1)\n",
    "    \n",
    "    outliers = mse > threshold\n",
    "    print(\"Number of outliers: \", sum(outliers))\n",
    "    \n",
    "    # Convert predictions to match y_test labels (1 for anomalies, 0 for normal)\n",
    "    y_pred = outliers.astype(int)\n",
    "    \n",
    "    # compute metrics\n",
    "    evaluator = ModelEvaluator(y_test, y_pred, mse)\n",
    "    metrics = evaluator.basic_report()\n",
    "    \n",
    "    metrics_list.append(metrics)"
   ]
  },
  {
   "cell_type": "markdown",
   "id": "8c4be341-37a8-4797-bb29-874a593b1b72",
   "metadata": {},
   "source": [
    "### OCNN \n",
    "not possible because we did not save the threshold r with the OCNN models and r is an optimized parameter during training"
   ]
  },
  {
   "cell_type": "code",
   "execution_count": null,
   "id": "f4fb7806-f752-4c32-8687-c002bac0d7c4",
   "metadata": {},
   "outputs": [],
   "source": [
    "class OneClassNN(nn.Module):\n",
    "    def __init__(self, input_dim, hidden_layer_size, activation_func=nn.Sigmoid):\n",
    "        \"\"\"\n",
    "        Initialize the One Class Neural Network.\n",
    "        :param input_dim: The number of input features.\n",
    "        :param hidden_layer_size: The number of neurons in the hidden layer.\n",
    "        :param activation_func: The activation function to use in the hidden layer.\n",
    "        \"\"\"\n",
    "        super(OneClassNN, self).__init__()\n",
    "        self.dense_out1 = nn.Linear(input_dim, hidden_layer_size)\n",
    "        self.out2 = nn.Linear(hidden_layer_size, 1)\n",
    "        self.activation_func = activation_func()\n",
    "\n",
    "    def forward(self, x):\n",
    "        \"\"\"\n",
    "        Forward pass of the network.\n",
    "        :param x: Input tensor.\n",
    "        :return: Output tensor after passing through the network.\n",
    "        \"\"\"\n",
    "        x = self.activation_func(self.dense_out1(x))\n",
    "        return self.out2(x)"
   ]
  },
  {
   "cell_type": "markdown",
   "id": "4d1c4e70",
   "metadata": {},
   "source": [
    "# Visualization of OCNN anomaly scores after epochs"
   ]
  },
  {
   "cell_type": "code",
   "execution_count": 2,
   "id": "93431994",
   "metadata": {},
   "outputs": [],
   "source": [
    "VALIDATE_SIZE = 0.1\n",
    "RANDOM_SEED = 0\n",
    "batch_size = 256 # "
   ]
  },
  {
   "cell_type": "code",
   "execution_count": 3,
   "id": "495c69dd",
   "metadata": {},
   "outputs": [
    {
     "name": "stdout",
     "output_type": "stream",
     "text": [
      "Training Data Shape: (255883, 29)\n",
      "Testing Data Shape: (56864, 29)\n",
      "Testing Labels Data Shape: (56864,)\n"
     ]
    }
   ],
   "source": [
    "from data_loader import MyDataLoader\n",
    "\n",
    "loader = MyDataLoader()\n",
    "\n",
    "# Load setups\n",
    "setup = loader.load_setup('../../data/setup_1.pkl')\n",
    "\n",
    "loader.fit_data(setup['X_train'])\n",
    "X_train = loader.transform_data(setup['X_train'])\n",
    "X_test = loader.transform_data(setup['X_test'])\n",
    "\n",
    "print(\"Training Data Shape:\", X_train.shape)\n",
    "print(\"Testing Data Shape:\", X_test.shape)\n",
    "\n",
    "y_test = setup['y_test']\n",
    "print(\"Testing Labels Data Shape:\", y_test.shape)"
   ]
  },
  {
   "cell_type": "code",
   "execution_count": 4,
   "id": "214f0870",
   "metadata": {},
   "outputs": [],
   "source": [
    "from sklearn.model_selection import train_test_split\n",
    "\n",
    "# train // validate - no labels since they're all clean anyway\n",
    "X_train_, X_validate_ = train_test_split(X_train, #X_train_scaled\n",
    "                                       test_size=VALIDATE_SIZE, \n",
    "                                       random_state=RANDOM_SEED)"
   ]
  },
  {
   "cell_type": "code",
   "execution_count": 5,
   "id": "dbd13dfd",
   "metadata": {},
   "outputs": [],
   "source": [
    "from torch.utils.data import DataLoader, TensorDataset\n",
    "\n",
    "# Convert data to PyTorch tensors\n",
    "X_train_tensor = torch.Tensor(X_train_)\n",
    "\n",
    "# Create a dataset and data loader\n",
    "train_dataset = TensorDataset(X_train_tensor, X_train_tensor)\n",
    "train_loader = DataLoader(dataset=train_dataset, batch_size=batch_size, shuffle=True)\n",
    "\n",
    "# Convert validation data to PyTorch tensors\n",
    "X_val_tensor = torch.Tensor(X_validate_)\n",
    "\n",
    "# Create a dataset and data loader for validation\n",
    "val_dataset = TensorDataset(X_val_tensor, X_val_tensor)\n",
    "val_loader = DataLoader(dataset=val_dataset, batch_size=batch_size)\n",
    "\n",
    "# Convert test data to PyTorch tensor\n",
    "X_test_tensor = torch.Tensor(X_test)"
   ]
  },
  {
   "cell_type": "code",
   "execution_count": 6,
   "id": "1e8339b5",
   "metadata": {},
   "outputs": [],
   "source": [
    "import torch\n",
    "import torch.nn as nn\n",
    "import torch.optim as optim\n",
    "\n",
    "class OneClassNN(nn.Module):\n",
    "    def __init__(self, input_dim, hidden_layer_size, activation_func=nn.Sigmoid):\n",
    "        \"\"\"\n",
    "        Initialize the One Class Neural Network.\n",
    "        :param input_dim: The number of input features.\n",
    "        :param hidden_layer_size: The number of neurons in the hidden layer.\n",
    "        :param activation_func: The activation function to use in the hidden layer.\n",
    "        \"\"\"\n",
    "        super(OneClassNN, self).__init__()\n",
    "        self.dense_out1 = nn.Linear(input_dim, hidden_layer_size)\n",
    "        self.out2 = nn.Linear(hidden_layer_size, 1)\n",
    "        self.activation_func = activation_func()\n",
    "\n",
    "    def forward(self, x):\n",
    "        \"\"\"\n",
    "        Forward pass of the network.\n",
    "        :param x: Input tensor.\n",
    "        :return: Output tensor after passing through the network.\n",
    "        \"\"\"\n",
    "        x = self.activation_func(self.dense_out1(x))\n",
    "        return self.out2(x)\n",
    "\n",
    "    \n",
    "def quantile_loss(r, y_hat, nu):\n",
    "    \"\"\"\n",
    "    3rd term in Eq (4) of the original paper\n",
    "    :param r: bias of hyperplane\n",
    "    :param y_hat: data / output we're operating on\n",
    "    :param nu: parameter between [0, 1] controls trade-off between maximizing the distance of the hyperplane from\n",
    "        the origin and the number of data points permitted to cross the hyper-plane (false positives) (default 1e-2)\n",
    "    :return: the loss function value\n",
    "    \"\"\"\n",
    "    return (1 / nu) * torch.mean(torch.relu(r - y_hat)) - r\n",
    "\n",
    "\n",
    "def custom_ocnn_loss(model, r, nu):\n",
    "    \"\"\"\n",
    "    Compute the OC-NN loss.\n",
    "    :param y_hat: The predicted values from the model.\n",
    "    :return: The computed loss value.\n",
    "    \"\"\"\n",
    "    def loss(y_hat):\n",
    "        w1_norm = 0.5 * torch.norm(model.dense_out1.weight)**2\n",
    "        w2_norm = 0.5 * torch.norm(model.out2.weight)**2\n",
    "        q_loss = quantile_loss(r, y_hat, nu)\n",
    "        return w1_norm + w2_norm + q_loss\n",
    "    return loss"
   ]
  },
  {
   "cell_type": "code",
   "execution_count": 7,
   "id": "0a966c04",
   "metadata": {},
   "outputs": [],
   "source": [
    "input_dim = X_train.shape[1] \n",
    "hidden_layer_size = 12\n",
    "init_lr = 1e-4 # 1e-2 for SGD, 1e-4 for Adam\n",
    "epochs = 6\n",
    "r = 1.0"
   ]
  },
  {
   "cell_type": "code",
   "execution_count": 8,
   "id": "920f8a49",
   "metadata": {},
   "outputs": [],
   "source": [
    "nu = 0.01"
   ]
  },
  {
   "cell_type": "code",
   "execution_count": 18,
   "id": "9ef2390f",
   "metadata": {},
   "outputs": [],
   "source": [
    "# Model and Optimizer\n",
    "model = OneClassNN(input_dim, hidden_layer_size)\n",
    "optimizer = optim.Adam(model.parameters(), lr=init_lr)"
   ]
  },
  {
   "cell_type": "code",
   "execution_count": 19,
   "id": "32eedef7",
   "metadata": {},
   "outputs": [],
   "source": [
    "device = torch.device(\"cuda\" if torch.cuda.is_available() else \"cpu\")\n",
    "model = model.to(device)"
   ]
  },
  {
   "cell_type": "code",
   "execution_count": 20,
   "id": "51944e32",
   "metadata": {},
   "outputs": [
    {
     "name": "stdout",
     "output_type": "stream",
     "text": [
      "Epoch 1/6, Loss: 0.2949551045894623\n",
      "Epoch 2/6, Loss: -0.470074862241745\n",
      "Epoch 3/6, Loss: -0.8405627012252808\n",
      "Epoch 4/6, Loss: -1.1987214088439941\n",
      "Epoch 5/6, Loss: -1.575148344039917\n",
      "Epoch 6/6, Loss: -1.958207130432129\n"
     ]
    }
   ],
   "source": [
    "# Training Loop\n",
    "mean_scores = []\n",
    "variance_scores = []\n",
    "for epoch in range(epochs):\n",
    "    model.train()\n",
    "    for data in train_loader:  # Assuming train_loader yields batches of data\n",
    "        inputs, _ = data\n",
    "        inputs = inputs.to(device)\n",
    "        optimizer.zero_grad()\n",
    "\n",
    "        outputs = model(inputs)\n",
    "        loss = custom_ocnn_loss(model, r, nu)(outputs)\n",
    "        loss.backward()\n",
    "        optimizer.step()\n",
    "\n",
    "        # Update r based on quantile of outputs\n",
    "        with torch.no_grad():\n",
    "            r = torch.quantile(outputs, nu).item()\n",
    "\n",
    "    print(f'Epoch {epoch+1}/{epochs}, Loss: {loss.item()}')\n",
    "\n",
    "    model.eval()\n",
    "    normal_count = 0\n",
    "    total_count = 0\n",
    "\n",
    "    with torch.no_grad():\n",
    "        ### Training scores\n",
    "        train_outputs = model(torch.Tensor(X_train).to(device))\n",
    "        train_scores = train_outputs.cpu().numpy()\n",
    "        train_scores = np.reshape(train_scores, -1)\n",
    "        \n",
    "        # Create histogram\n",
    "        plt.figure(figsize=(10, 6))\n",
    "        plt.hist(train_scores, bins=20, range=[0,3], alpha=0.7, label='Normal', color='green', density=True)\n",
    "        plt.axvline(r, color='black', linestyle='dashed', linewidth=2, label=f'r={r}')\n",
    "        plt.xlabel('Decision Scores')\n",
    "        #plt.ylabel('Frequency')\n",
    "        plt.xlim(0, 3)\n",
    "        plt.ylim(0,7) # plt.ylim(0, 260000)\n",
    "        plt.title('Training: Normalized Histogram of Decision Scores')\n",
    "        plt.legend()\n",
    "        plt.savefig(\"../../../visualization_ocnn/Histogram_decision_scores_Epoch{}.png\".format(epoch))\n",
    "        plt.close()\n",
    "\n",
    "        # 1D plot\n",
    "        plt.figure()\n",
    "        plt.scatter(train_scores, [0]*len(train_scores), marker='|', s=50)\n",
    "        plt.xlabel('Anomaly Scores')\n",
    "        plt.xlim(0, 3)\n",
    "        plt.title('Training: 1D Plot of Decision Scores')\n",
    "        plt.yticks([])  # Hide the y-axis\n",
    "        plt.savefig(\"../../../visualization_ocnn/1D_decision_scores_Epoch{}.png\".format(epoch))\n",
    "        plt.close()\n",
    "\n",
    "        # store mean and variance over time\n",
    "        mean_scores.append(np.mean(train_scores))\n",
    "        variance_scores.append(np.var(train_scores))\n",
    "\n",
    "        ### Testing scores\n",
    "        test_outputs = model(torch.Tensor(X_test).to(device))\n",
    "        test_scores = test_outputs.cpu().numpy()\n",
    "        test_scores = np.reshape(test_scores, -1)\n",
    "\n",
    "        # Create histogram\n",
    "        # Assuming y_test contains the true labels (0 for normal, 1 for anomaly)\n",
    "        normal_scores = test_scores[y_test == 0]\n",
    "        anomaly_scores = test_scores[y_test == 1]\n",
    "        \n",
    "        # Create histogram\n",
    "        plt.figure(figsize=(10, 6))\n",
    "        plt.hist(normal_scores, bins=150, range=[0,3], alpha=0.7, label='Normal', color='green', density=True)\n",
    "        plt.hist(anomaly_scores, bins=150, range=[0,3], alpha=0.7, label='Anomaly', color='red', density=True)\n",
    "        plt.axvline(r, color='black', linestyle='dashed', linewidth=2, label=f'r={r}')\n",
    "        plt.xlabel('Decision Scores')\n",
    "        #plt.ylabel('Frequency')\n",
    "        plt.xlim(0, 3)\n",
    "        plt.ylim(0, 15)# plt.ylim(0, 10000)\n",
    "        plt.title('Testing: Normalized Histogram of Decision Scores')\n",
    "        plt.legend()\n",
    "        plt.savefig(\"../../../visualization_ocnn/Histogram_decision_scores_testing_Epoch{}.png\".format(epoch))\n",
    "        plt.close()"
   ]
  },
  {
   "cell_type": "markdown",
   "id": "2b1d440b",
   "metadata": {},
   "source": [
    "### train scores"
   ]
  },
  {
   "cell_type": "code",
   "execution_count": 16,
   "id": "875b0fe4",
   "metadata": {},
   "outputs": [
    {
     "data": {
      "text/plain": [
       "array([[0.53919077],\n",
       "       [0.5609317 ],\n",
       "       [0.493335  ],\n",
       "       ...,\n",
       "       [0.513694  ],\n",
       "       [0.5320164 ],\n",
       "       [0.5883739 ]], dtype=float32)"
      ]
     },
     "execution_count": 16,
     "metadata": {},
     "output_type": "execute_result"
    }
   ],
   "source": [
    "# Evaluation on test data\n",
    "model.eval()\n",
    "with torch.no_grad():\n",
    "    train_outputs = model(torch.Tensor(X_train).to(device))\n",
    "    train_scores = train_outputs.cpu().numpy()\n",
    "train_scores"
   ]
  },
  {
   "cell_type": "code",
   "execution_count": 17,
   "id": "7e3291ec",
   "metadata": {},
   "outputs": [],
   "source": [
    "train_scores = np.reshape(train_scores, -1)"
   ]
  },
  {
   "cell_type": "code",
   "execution_count": 18,
   "id": "87a3a3be",
   "metadata": {},
   "outputs": [
    {
     "data": {
      "image/png": "[encoded data removed]",
      "text/plain": [
       "<Figure size 1000x600 with 1 Axes>"
      ]
     },
     "metadata": {},
     "output_type": "display_data"
    }
   ],
   "source": [
    "import matplotlib.pyplot as plt\n",
    "import numpy as np\n",
    "\n",
    "# Create histogram\n",
    "plt.figure(figsize=(10, 6))\n",
    "plt.hist(train_scores, bins=20, alpha=0.7, label='Normal', color='green')\n",
    "plt.axvline(r, color='black', linestyle='dashed', linewidth=2, label=f'r={r}')\n",
    "plt.xlabel('Decision Scores')\n",
    "plt.ylabel('Frequency')\n",
    "plt.title('Training: Histogram of Decision Scores')\n",
    "plt.legend()\n",
    "plt.savefig(\"Histogram_decision_scores.png\")\n",
    "plt.show()"
   ]
  },
  {
   "cell_type": "code",
   "execution_count": 33,
   "id": "9bd6e475-16b0-4fdb-b477-8b785f8a4ef9",
   "metadata": {},
   "outputs": [
    {
     "data": {
      "image/png": "[encoded data removed]",
      "text/plain": [
       "<Figure size 640x480 with 1 Axes>"
      ]
     },
     "metadata": {},
     "output_type": "display_data"
    }
   ],
   "source": [
    "plt.scatter(train_scores, [0]*len(train_scores), marker='|', s=50)\n",
    "plt.xlabel('Anomaly Scores')\n",
    "plt.title('Training: 1D Plot of Decision Scores')\n",
    "plt.yticks([])  # Hide the y-axis\n",
    "plt.show()"
   ]
  },
  {
   "cell_type": "markdown",
   "id": "4d4c82c0",
   "metadata": {},
   "source": [
    "### test scores"
   ]
  },
  {
   "cell_type": "code",
   "execution_count": 22,
   "id": "c4da6ed9",
   "metadata": {},
   "outputs": [
    {
     "data": {
      "text/plain": [
       "array([[0.5921033 ],\n",
       "       [0.5455104 ],\n",
       "       [0.5459193 ],\n",
       "       ...,\n",
       "       [0.44672242],\n",
       "       [0.44756272],\n",
       "       [0.31381106]], dtype=float32)"
      ]
     },
     "execution_count": 22,
     "metadata": {},
     "output_type": "execute_result"
    }
   ],
   "source": [
    "# Evaluation on test data\n",
    "model.eval()\n",
    "with torch.no_grad():\n",
    "    test_outputs = model(torch.Tensor(X_test).to(device))\n",
    "    test_scores = test_outputs.cpu().numpy()\n",
    "test_scores"
   ]
  },
  {
   "cell_type": "code",
   "execution_count": 23,
   "id": "c571f975",
   "metadata": {},
   "outputs": [],
   "source": [
    "test_scores = np.reshape(test_scores, -1)"
   ]
  },
  {
   "cell_type": "code",
   "execution_count": 24,
   "id": "b810ee31",
   "metadata": {},
   "outputs": [
    {
     "data": {
      "image/png": "[encoded data removed]",
      "text/plain": [
       "<Figure size 1000x600 with 1 Axes>"
      ]
     },
     "metadata": {},
     "output_type": "display_data"
    }
   ],
   "source": [
    "import matplotlib.pyplot as plt\n",
    "import numpy as np\n",
    "\n",
    "# Assuming y_test contains the true labels (0 for normal, 1 for anomaly)\n",
    "normal_scores = test_scores[y_test == 0]\n",
    "anomaly_scores = test_scores[y_test == 1]\n",
    "\n",
    "# Create histogram\n",
    "plt.figure(figsize=(10, 6))\n",
    "plt.hist(normal_scores, bins=50, alpha=0.7, label='Normal', color='green')\n",
    "plt.hist(anomaly_scores, bins=50, alpha=0.7, label='Anomaly', color='red')\n",
    "plt.axvline(r, color='black', linestyle='dashed', linewidth=2, label=f'r={r}')\n",
    "plt.xlabel('Decision Scores')\n",
    "plt.ylabel('Frequency')\n",
    "plt.title('Testing: Histogram of Decision Scores')\n",
    "plt.legend()\n",
    "plt.savefig(\"Histogram_decision_scores_testing.png\")\n",
    "plt.show()"
   ]
  },
  {
   "cell_type": "code",
   "execution_count": 74,
   "id": "036a8b36-28d8-4209-b491-b24d1fec46a9",
   "metadata": {},
   "outputs": [
    {
     "data": {
      "image/png": "[encoded data removed]",
      "text/plain": [
       "<Figure size 640x480 with 1 Axes>"
      ]
     },
     "metadata": {},
     "output_type": "display_data"
    }
   ],
   "source": [
    "plt.plot(mean_scores, marker='o')\n",
    "plt.xlabel('Epoch')\n",
    "plt.ylabel('Mean Decision Score')\n",
    "plt.title('Training: Mean of Decision Scores per Epoch')\n",
    "plt.savefig(\"../../../visualization_ocnn/Mean_Decision_Score.png\")"
   ]
  },
  {
   "cell_type": "code",
   "execution_count": 76,
   "id": "9722bcc4-7dcd-4b13-bb83-00ed58569660",
   "metadata": {},
   "outputs": [
    {
     "data": {
      "image/png": "[encoded data removed]",
      "text/plain": [
       "<Figure size 640x480 with 1 Axes>"
      ]
     },
     "metadata": {},
     "output_type": "display_data"
    }
   ],
   "source": [
    "plt.plot(variance_scores, marker='o', c='orange')\n",
    "plt.xlabel('Epoch')\n",
    "plt.ylabel('Variance Decision Score')\n",
    "plt.title('Training: Variance of Decision Scores per Epoch')\n",
    "plt.savefig(\"../../../visualization_ocnn/Variance_Decision_Score.png\")"
   ]
  },
  {
   "cell_type": "code",
   "execution_count": null,
   "id": "a9c89a30-82df-452f-a625-d04c8a9ba0fb",
   "metadata": {},
   "outputs": [],
   "source": []
  },
  {
   "cell_type": "code",
   "execution_count": null,
   "id": "aeb44704-e59e-459c-949a-7616cc33f359",
   "metadata": {},
   "outputs": [],
   "source": []
  }
 ],
 "metadata": {
  "kernelspec": {
   "display_name": "Python 3 (ipykernel)",
   "language": "python",
   "name": "python3"
  },
  "language_info": {
   "codemirror_mode": {
    "name": "ipython",
    "version": 3
   },
   "file_extension": ".py",
   "mimetype": "text/x-python",
   "name": "python",
   "nbconvert_exporter": "python",
   "pygments_lexer": "ipython3",
   "version": "3.9.18"
  }
 },
 "nbformat": 4,
 "nbformat_minor": 5
}
