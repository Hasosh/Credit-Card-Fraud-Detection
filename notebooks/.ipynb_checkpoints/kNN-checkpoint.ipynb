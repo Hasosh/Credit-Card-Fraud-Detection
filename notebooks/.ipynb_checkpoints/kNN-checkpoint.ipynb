{
 "cells": [
  {
   "cell_type": "code",
   "execution_count": 47,
   "id": "2f4e9856",
   "metadata": {},
   "outputs": [],
   "source": [
    "# Imports\n",
    "import numpy as np\n",
    "import matplotlib.pyplot as plt\n",
    "import pandas as pd\n",
    "from tqdm import tqdm\n",
    "import sys\n",
    "import time\n",
    "import seaborn as sns\n",
    "import os\n",
    "import math\n",
    "import pickle as pkl\n",
    "\n",
    "#%%\n",
    "# ML\n",
    "from sklearn.model_selection import train_test_split, KFold\n",
    "from sklearn.metrics import (\n",
    "    f1_score,\n",
    "    confusion_matrix,\n",
    "    mean_absolute_error,\n",
    "    mean_squared_error,\n",
    "    precision_recall_curve,\n",
    "    r2_score,\n",
    "    roc_auc_score,\n",
    "    classification_report,\n",
    "    roc_curve,\n",
    "    auc\n",
    ")\n",
    "from sklearn.preprocessing import MinMaxScaler, StandardScaler, RobustScaler, Normalizer\n",
    "\n",
    "import torch\n",
    "import torch.nn as nn\n",
    "import torch.optim as optim\n",
    "\n",
    "# # Anomaly detection models\n",
    "# import pyod\n",
    "# from pyod.models.ocsvm import OCSVM\n",
    "from sklearn.ensemble import IsolationForest\n",
    "from sklearn.svm import OneClassSVM\n",
    "from sklearn.neighbors import (LocalOutlierFactor, NearestNeighbors)"
   ]
  },
  {
   "cell_type": "code",
   "execution_count": 48,
   "id": "189fa46f",
   "metadata": {},
   "outputs": [
    {
     "data": {
      "text/plain": [
       "'\\nTodos: \\n- Try Different Scalers\\n\\n'"
      ]
     },
     "execution_count": 48,
     "metadata": {},
     "output_type": "execute_result"
    }
   ],
   "source": [
    "'''\n",
    "Todos: \n",
    "- Try Different Scalers\n",
    "\n",
    "''' \n"
   ]
  },
  {
   "cell_type": "code",
   "execution_count": 49,
   "id": "bac76582",
   "metadata": {},
   "outputs": [],
   "source": [
    "# Data loading\n",
    "df_head = pd.read_csv('../data/creditcard_2023_head.csv')\n",
    "\n",
    "# Loading first setup\n",
    "with open('../data/setup_1.pkl', 'rb') as f:\n",
    "    setup1 = pkl.load(f)\n",
    "\n",
    "X_train, _, X_test, y_test = setup1['X_train'], setup1['y_train'], setup1['X_test'], setup1['y_test']\n",
    "\n",
    "# Todo: Try Different Scalers\n",
    "scaler = MinMaxScaler().fit(X_train)  # Initialize the MinMaxScaler and fit to the training set\n",
    "X_train_scaled = scaler.transform(X_train)  # the scaler is applied to the training set\n",
    "X_test_scaled = scaler.transform(X_test)  # the scaler is applied to the test set\n",
    "\n",
    "# Convert everything to DataFrame\n",
    "# Assuming the first column is 'id' and the last column is 'amount'\n",
    "columns = ['Feature_' + str(i) for i in range(1, X_train_scaled.shape[1]-1)] + ['Amount']\n",
    "X_train_scaled_df = pd.DataFrame(X_train_scaled[:, 1:], columns=columns)  # Excluding 'id'\n",
    "X_test_scaled_df = pd.DataFrame(X_test_scaled[:, 1:], columns=columns)  # Excluding 'id'\n",
    "\n",
    "y_test_df = pd.DataFrame(y_test, columns=['Class'])"
   ]
  },
  {
   "cell_type": "code",
   "execution_count": 50,
   "id": "6863b820",
   "metadata": {},
   "outputs": [
    {
     "name": "stdout",
     "output_type": "stream",
     "text": [
      "Training time: 0.00 seconds\n"
     ]
    }
   ],
   "source": [
    "X_train_scaled_df_mini = X_train_scaled_df[:10000] # Prototyping with only 10000 instances.\n",
    "# Timing and Training the model\n",
    "start_time = time.time()\n",
    "oc_svm = OneClassSVM().fit(X_train_df_mini)\n",
    "duration = time.time() - start_time\n",
    "print(f\"Training time: {duration:.2f} seconds\")"
   ]
  },
  {
   "cell_type": "code",
   "execution_count": 51,
   "id": "20a4fd66",
   "metadata": {},
   "outputs": [],
   "source": [
    "# Assuming you have your X_train_scaled and X_test_scaled ready\n",
    "# Set the number of neighbors\n",
    "k = 5\n",
    "\n",
    "# Initialize and fit the NearestNeighbors model\n",
    "model = NearestNeighbors(n_neighbors=k)\n",
    "model.fit(X_train_scaled_df_mini)\n",
    "\n",
    "# Calculate the distance to the kth nearest neighbor for each point in the training set\n",
    "distances, indices = model.kneighbors(X_train_scaled_df_mini)\n",
    "kth_dist_train = distances[:, k-1]\n",
    "\n",
    "# Calculate the distance to the kth nearest neighbor for each point in the test set\n",
    "distances_test, indices_test = model.kneighbors(X_test_scaled_df)\n",
    "kth_dist_test = distances_test[:, k-1]\n",
    "\n",
    "# Set a threshold for anomaly detection\n",
    "# This could be a fixed value or based on a percentile. Here we use the 95th percentile of the training distances.\n",
    "threshold = np.percentile(kth_dist_train, 95)\n",
    "\n",
    "# Detect anomalies in the training set\n",
    "anomalies_train = kth_dist_train > threshold\n",
    "\n",
    "# Detect anomalies in the test set\n",
    "anomalies_test = kth_dist_test > threshold\n",
    "\n",
    "# Now, anomalies_train and anomalies_test contain boolean arrays indicating anomalies in your datasets."
   ]
  },
  {
   "cell_type": "code",
   "execution_count": 53,
   "id": "f50ca27b",
   "metadata": {},
   "outputs": [
    {
     "ename": "AttributeError",
     "evalue": "'NearestNeighbors' object has no attribute 'predict'",
     "output_type": "error",
     "traceback": [
      "\u001b[1;31m---------------------------------------------------------------------------\u001b[0m",
      "\u001b[1;31mAttributeError\u001b[0m                            Traceback (most recent call last)",
      "Cell \u001b[1;32mIn[53], line 2\u001b[0m\n\u001b[0;32m      1\u001b[0m \u001b[38;5;66;03m# Predict on the test set\u001b[39;00m\n\u001b[1;32m----> 2\u001b[0m y_pred_test \u001b[38;5;241m=\u001b[39m \u001b[43mmodel\u001b[49m\u001b[38;5;241;43m.\u001b[39;49m\u001b[43mpredict\u001b[49m(X_test_scaled_df)\n\u001b[0;32m      3\u001b[0m \u001b[38;5;66;03m# Convert predictions to match y_test labels (0 for anomalies, 1 for normal)\u001b[39;00m\n\u001b[0;32m      4\u001b[0m y_pred_test \u001b[38;5;241m=\u001b[39m (y_pred_test \u001b[38;5;241m==\u001b[39m \u001b[38;5;241m1\u001b[39m)\u001b[38;5;241m.\u001b[39mastype(\u001b[38;5;28mint\u001b[39m)\n",
      "\u001b[1;31mAttributeError\u001b[0m: 'NearestNeighbors' object has no attribute 'predict'"
     ]
    }
   ],
   "source": [
    "# Predict on the test set\n",
    "y_pred_test = model.predict(X_test_scaled_df)\n",
    "# Convert predictions to match y_test labels (0 for anomalies, 1 for normal)\n",
    "y_pred_test = (y_pred_test == 1).astype(int)\n",
    "\n",
    "# Calculate ROC Curve and AUC\n",
    "fpr, tpr, _ = roc_curve(y_test_df, y_pred_test)\n",
    "roc_auc = auc(fpr, tpr)\n",
    "\n",
    "# Calculate Precision-Recall Curve and AUC\n",
    "precision, recall, _ = precision_recall_curve(y_test_df, y_pred_test)\n",
    "pr_auc = auc(recall, precision)\n",
    "\n",
    "# Generate a classification report\n",
    "class_report = classification_report(y_test_df, y_pred_test)\n",
    "\n",
    "# Plotting the ROC and Precision-Recall Curves\n",
    "plt.figure(figsize=(12, 5))\n",
    "\n",
    "plt.subplot(1, 2, 1)\n",
    "plt.plot(fpr, tpr, color='darkorange', lw=2, label=f'ROC curve (area = {roc_auc:.2f})')\n",
    "plt.plot([0, 1], [0, 1], color='navy', lw=2, linestyle='--')\n",
    "plt.xlabel('False Positive Rate')\n",
    "plt.ylabel('True Positive Rate')\n",
    "plt.title('Receiver Operating Characteristic (kNN)')\n",
    "plt.legend(loc=\"lower right\")\n",
    "\n",
    "plt.subplot(1, 2, 2)\n",
    "plt.plot(recall, precision, color='blue', lw=2, label=f'PR curve (area = {pr_auc:.2f})')\n",
    "plt.xlabel('Recall')\n",
    "plt.ylabel('Precision')\n",
    "plt.title('Precision-Recall curve (kNN)')\n",
    "plt.legend(loc=\"upper right\")\n",
    "\n",
    "plt.tight_layout()\n",
    "plt.show()\n",
    "\n",
    "print(class_report)"
   ]
  },
  {
   "cell_type": "code",
   "execution_count": null,
   "id": "771f057f",
   "metadata": {},
   "outputs": [],
   "source": []
  },
  {
   "cell_type": "code",
   "execution_count": 33,
   "id": "e7f0daf9",
   "metadata": {},
   "outputs": [
    {
     "data": {
      "text/plain": [
       "array([[ 2.80671000e+05, -8.08528462e-01,  6.74858605e-01, ...,\n",
       "         2.11655911e-01,  6.86938843e-01,  5.62733000e+03],\n",
       "       [ 8.43760000e+04,  7.44825917e-02, -4.12612090e-01, ...,\n",
       "        -1.84876612e-01,  3.22587263e-01,  1.50637600e+04],\n",
       "       [ 1.42456000e+05,  7.56834805e-01, -4.49988696e-01, ...,\n",
       "        -1.59757067e-01, -7.57162666e-02,  1.96396500e+04],\n",
       "       ...,\n",
       "       [ 2.33693000e+05, -5.35104472e-01, -8.24174857e-02, ...,\n",
       "        -6.51894955e-02, -4.50267367e-01,  1.85104000e+03],\n",
       "       [ 1.83175000e+05, -3.81533059e-01, -2.58213631e-02, ...,\n",
       "         4.98182210e-02, -5.70302169e-02,  1.77748100e+04],\n",
       "       [ 1.25630000e+04,  8.85956620e-01, -3.44200065e-01, ...,\n",
       "        -2.24585410e-01, -1.47908027e-02,  2.98234000e+03]])"
      ]
     },
     "execution_count": 33,
     "metadata": {},
     "output_type": "execute_result"
    }
   ],
   "source": [
    "# For kNN\n",
    "x_train, x_test, y_train, y_test= train_test_split(x, y,\n",
    "                                                   test_size= 0.2,\n",
    "                                                   shuffle= True, #shuffle the data to avoid bias\n",
    "                                                   random_state= 0)\n",
    "x_train= np.asarray(x_train)\n",
    "y_train= np.asarray(y_train)\n",
    "\n",
    "x_test= np.asarray(x_test)\n",
    "y_test= np.asarray(y_test)\n"
   ]
  }
 ],
 "metadata": {
  "kernelspec": {
   "display_name": "Python 3 (ipykernel)",
   "language": "python",
   "name": "python3"
  },
  "language_info": {
   "codemirror_mode": {
    "name": "ipython",
    "version": 3
   },
   "file_extension": ".py",
   "mimetype": "text/x-python",
   "name": "python",
   "nbconvert_exporter": "python",
   "pygments_lexer": "ipython3",
   "version": "3.11.5"
  }
 },
 "nbformat": 4,
 "nbformat_minor": 5
}
