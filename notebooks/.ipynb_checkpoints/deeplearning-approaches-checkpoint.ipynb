{
 "cells": [
  {
   "cell_type": "code",
   "execution_count": 1,
   "id": "f5cda777",
   "metadata": {},
   "outputs": [],
   "source": [
    "import numpy as np\n",
    "import matplotlib.pyplot as plt\n",
    "import pandas as pd\n",
    "import seaborn as sns\n",
    "import torch"
   ]
  },
  {
   "cell_type": "code",
   "execution_count": 2,
   "id": "934ce854",
   "metadata": {},
   "outputs": [],
   "source": [
    "RANDOM_SEED = 0\n",
    "VALIDATE_SIZE = 0.2"
   ]
  },
  {
   "cell_type": "code",
   "execution_count": 3,
   "id": "28c08d4f",
   "metadata": {},
   "outputs": [
    {
     "data": {
      "text/plain": [
       "'C:\\\\Users\\\\Hasan\\\\Desktop\\\\Studium\\\\_Masterstudium\\\\_Semester4\\\\Fachpraktikum AI Deep Learning Lab\\\\Credit Card Fraud\\\\ccf_students\\\\notebooks'"
      ]
     },
     "execution_count": 3,
     "metadata": {},
     "output_type": "execute_result"
    }
   ],
   "source": [
    "import os\n",
    "os.getcwd()"
   ]
  },
  {
   "cell_type": "code",
   "execution_count": 4,
   "id": "0aeb245e",
   "metadata": {},
   "outputs": [],
   "source": [
    "import sys\n",
    "sys.path.append(\"../src/main/\")"
   ]
  },
  {
   "cell_type": "markdown",
   "id": "7ced02bf",
   "metadata": {},
   "source": [
    "# Load Data"
   ]
  },
  {
   "cell_type": "code",
   "execution_count": 5,
   "id": "ebeb6484",
   "metadata": {},
   "outputs": [
    {
     "data": {
      "text/html": [
       "<div>\n",
       "<style scoped>\n",
       "    .dataframe tbody tr th:only-of-type {\n",
       "        vertical-align: middle;\n",
       "    }\n",
       "\n",
       "    .dataframe tbody tr th {\n",
       "        vertical-align: top;\n",
       "    }\n",
       "\n",
       "    .dataframe thead th {\n",
       "        text-align: right;\n",
       "    }\n",
       "</style>\n",
       "<table border=\"1\" class=\"dataframe\">\n",
       "  <thead>\n",
       "    <tr style=\"text-align: right;\">\n",
       "      <th></th>\n",
       "      <th>id</th>\n",
       "      <th>V1</th>\n",
       "      <th>V2</th>\n",
       "      <th>V3</th>\n",
       "      <th>V4</th>\n",
       "      <th>V5</th>\n",
       "      <th>V6</th>\n",
       "      <th>V7</th>\n",
       "      <th>V8</th>\n",
       "      <th>V9</th>\n",
       "      <th>...</th>\n",
       "      <th>V21</th>\n",
       "      <th>V22</th>\n",
       "      <th>V23</th>\n",
       "      <th>V24</th>\n",
       "      <th>V25</th>\n",
       "      <th>V26</th>\n",
       "      <th>V27</th>\n",
       "      <th>V28</th>\n",
       "      <th>Amount</th>\n",
       "      <th>Class</th>\n",
       "    </tr>\n",
       "  </thead>\n",
       "  <tbody>\n",
       "    <tr>\n",
       "      <th>0</th>\n",
       "      <td>0</td>\n",
       "      <td>-0.260648</td>\n",
       "      <td>-0.469648</td>\n",
       "      <td>2.496266</td>\n",
       "      <td>-0.083724</td>\n",
       "      <td>0.129681</td>\n",
       "      <td>0.732898</td>\n",
       "      <td>0.519014</td>\n",
       "      <td>-0.130006</td>\n",
       "      <td>0.727159</td>\n",
       "      <td>...</td>\n",
       "      <td>-0.110552</td>\n",
       "      <td>0.217606</td>\n",
       "      <td>-0.134794</td>\n",
       "      <td>0.165959</td>\n",
       "      <td>0.126280</td>\n",
       "      <td>-0.434824</td>\n",
       "      <td>-0.081230</td>\n",
       "      <td>-0.151045</td>\n",
       "      <td>17982.10</td>\n",
       "      <td>0</td>\n",
       "    </tr>\n",
       "    <tr>\n",
       "      <th>1</th>\n",
       "      <td>1</td>\n",
       "      <td>0.985100</td>\n",
       "      <td>-0.356045</td>\n",
       "      <td>0.558056</td>\n",
       "      <td>-0.429654</td>\n",
       "      <td>0.277140</td>\n",
       "      <td>0.428605</td>\n",
       "      <td>0.406466</td>\n",
       "      <td>-0.133118</td>\n",
       "      <td>0.347452</td>\n",
       "      <td>...</td>\n",
       "      <td>-0.194936</td>\n",
       "      <td>-0.605761</td>\n",
       "      <td>0.079469</td>\n",
       "      <td>-0.577395</td>\n",
       "      <td>0.190090</td>\n",
       "      <td>0.296503</td>\n",
       "      <td>-0.248052</td>\n",
       "      <td>-0.064512</td>\n",
       "      <td>6531.37</td>\n",
       "      <td>0</td>\n",
       "    </tr>\n",
       "    <tr>\n",
       "      <th>2</th>\n",
       "      <td>2</td>\n",
       "      <td>-0.260272</td>\n",
       "      <td>-0.949385</td>\n",
       "      <td>1.728538</td>\n",
       "      <td>-0.457986</td>\n",
       "      <td>0.074062</td>\n",
       "      <td>1.419481</td>\n",
       "      <td>0.743511</td>\n",
       "      <td>-0.095576</td>\n",
       "      <td>-0.261297</td>\n",
       "      <td>...</td>\n",
       "      <td>-0.005020</td>\n",
       "      <td>0.702906</td>\n",
       "      <td>0.945045</td>\n",
       "      <td>-1.154666</td>\n",
       "      <td>-0.605564</td>\n",
       "      <td>-0.312895</td>\n",
       "      <td>-0.300258</td>\n",
       "      <td>-0.244718</td>\n",
       "      <td>2513.54</td>\n",
       "      <td>0</td>\n",
       "    </tr>\n",
       "    <tr>\n",
       "      <th>3</th>\n",
       "      <td>3</td>\n",
       "      <td>-0.152152</td>\n",
       "      <td>-0.508959</td>\n",
       "      <td>1.746840</td>\n",
       "      <td>-1.090178</td>\n",
       "      <td>0.249486</td>\n",
       "      <td>1.143312</td>\n",
       "      <td>0.518269</td>\n",
       "      <td>-0.065130</td>\n",
       "      <td>-0.205698</td>\n",
       "      <td>...</td>\n",
       "      <td>-0.146927</td>\n",
       "      <td>-0.038212</td>\n",
       "      <td>-0.214048</td>\n",
       "      <td>-1.893131</td>\n",
       "      <td>1.003963</td>\n",
       "      <td>-0.515950</td>\n",
       "      <td>-0.165316</td>\n",
       "      <td>0.048424</td>\n",
       "      <td>5384.44</td>\n",
       "      <td>0</td>\n",
       "    </tr>\n",
       "    <tr>\n",
       "      <th>4</th>\n",
       "      <td>4</td>\n",
       "      <td>-0.206820</td>\n",
       "      <td>-0.165280</td>\n",
       "      <td>1.527053</td>\n",
       "      <td>-0.448293</td>\n",
       "      <td>0.106125</td>\n",
       "      <td>0.530549</td>\n",
       "      <td>0.658849</td>\n",
       "      <td>-0.212660</td>\n",
       "      <td>1.049921</td>\n",
       "      <td>...</td>\n",
       "      <td>-0.106984</td>\n",
       "      <td>0.729727</td>\n",
       "      <td>-0.161666</td>\n",
       "      <td>0.312561</td>\n",
       "      <td>-0.414116</td>\n",
       "      <td>1.071126</td>\n",
       "      <td>0.023712</td>\n",
       "      <td>0.419117</td>\n",
       "      <td>14278.97</td>\n",
       "      <td>0</td>\n",
       "    </tr>\n",
       "  </tbody>\n",
       "</table>\n",
       "<p>5 rows × 31 columns</p>\n",
       "</div>"
      ],
      "text/plain": [
       "   id        V1        V2        V3        V4        V5        V6        V7   \n",
       "0   0 -0.260648 -0.469648  2.496266 -0.083724  0.129681  0.732898  0.519014  \\\n",
       "1   1  0.985100 -0.356045  0.558056 -0.429654  0.277140  0.428605  0.406466   \n",
       "2   2 -0.260272 -0.949385  1.728538 -0.457986  0.074062  1.419481  0.743511   \n",
       "3   3 -0.152152 -0.508959  1.746840 -1.090178  0.249486  1.143312  0.518269   \n",
       "4   4 -0.206820 -0.165280  1.527053 -0.448293  0.106125  0.530549  0.658849   \n",
       "\n",
       "         V8        V9  ...       V21       V22       V23       V24       V25   \n",
       "0 -0.130006  0.727159  ... -0.110552  0.217606 -0.134794  0.165959  0.126280  \\\n",
       "1 -0.133118  0.347452  ... -0.194936 -0.605761  0.079469 -0.577395  0.190090   \n",
       "2 -0.095576 -0.261297  ... -0.005020  0.702906  0.945045 -1.154666 -0.605564   \n",
       "3 -0.065130 -0.205698  ... -0.146927 -0.038212 -0.214048 -1.893131  1.003963   \n",
       "4 -0.212660  1.049921  ... -0.106984  0.729727 -0.161666  0.312561 -0.414116   \n",
       "\n",
       "        V26       V27       V28    Amount  Class  \n",
       "0 -0.434824 -0.081230 -0.151045  17982.10      0  \n",
       "1  0.296503 -0.248052 -0.064512   6531.37      0  \n",
       "2 -0.312895 -0.300258 -0.244718   2513.54      0  \n",
       "3 -0.515950 -0.165316  0.048424   5384.44      0  \n",
       "4  1.071126  0.023712  0.419117  14278.97      0  \n",
       "\n",
       "[5 rows x 31 columns]"
      ]
     },
     "execution_count": 5,
     "metadata": {},
     "output_type": "execute_result"
    }
   ],
   "source": [
    "from data_loader import MyDataLoader\n",
    "\n",
    "loader = MyDataLoader()\n",
    "df_head = loader.load_head('../data/creditcard_2023_head.csv')\n",
    "df_head"
   ]
  },
  {
   "cell_type": "code",
   "execution_count": 6,
   "id": "084d448c",
   "metadata": {},
   "outputs": [
    {
     "name": "stdout",
     "output_type": "stream",
     "text": [
      "Training Data Shape: (255883, 29)\n",
      "Testing Data Shape: (56864, 29)\n"
     ]
    }
   ],
   "source": [
    "# Load setups\n",
    "setup1 = loader.load_setup('../data/setup_1.pkl')\n",
    "\n",
    "X_train = loader.transform_data(setup1['X_train'], is_train=True)\n",
    "X_test = loader.transform_data(setup1['X_test'], is_train=False)\n",
    "\n",
    "print(\"Training Data Shape:\", X_train.shape)\n",
    "print(\"Testing Data Shape:\", X_test.shape)"
   ]
  },
  {
   "cell_type": "code",
   "execution_count": 7,
   "id": "60af772a",
   "metadata": {},
   "outputs": [
    {
     "name": "stdout",
     "output_type": "stream",
     "text": [
      "Testing Labels Data Shape: (56864,)\n"
     ]
    }
   ],
   "source": [
    "y_test = setup1['y_test']\n",
    "print(\"Testing Labels Data Shape:\", y_test.shape)"
   ]
  },
  {
   "cell_type": "markdown",
   "id": "e4ceb8fe",
   "metadata": {},
   "source": [
    "### if wanted: additional min max scaling"
   ]
  },
  {
   "cell_type": "code",
   "execution_count": 144,
   "id": "e9706986",
   "metadata": {},
   "outputs": [],
   "source": [
    "from sklearn.preprocessing import MinMaxScaler\n",
    "\n",
    "# Instantiate the MinMaxScaler\n",
    "scaler = MinMaxScaler()\n",
    "\n",
    "# Fit the scaler on the training data\n",
    "scaler.fit(X_train)\n",
    "\n",
    "# Transform both training and test data\n",
    "X_train_scaled = scaler.transform(X_train)\n",
    "X_test_scaled = scaler.transform(X_test)"
   ]
  },
  {
   "cell_type": "markdown",
   "id": "0be96039",
   "metadata": {},
   "source": [
    "### if wanted: Robust Scaling"
   ]
  },
  {
   "cell_type": "code",
   "execution_count": 339,
   "id": "38f38ad3",
   "metadata": {},
   "outputs": [],
   "source": [
    "from sklearn.preprocessing import RobustScaler\n",
    "\n",
    "# Instantiate the RobustScaler\n",
    "scaler = RobustScaler()\n",
    "\n",
    "# Fit the scaler on the training data\n",
    "scaler.fit(X_train)\n",
    "\n",
    "# Transform both training and test data\n",
    "X_train_scaled = scaler.transform(X_train)\n",
    "X_test_scaled = scaler.transform(X_test)"
   ]
  },
  {
   "cell_type": "markdown",
   "id": "be8e682f",
   "metadata": {},
   "source": [
    "# Make the data for DL models"
   ]
  },
  {
   "cell_type": "code",
   "execution_count": 8,
   "id": "c5559b1d",
   "metadata": {},
   "outputs": [],
   "source": [
    "from sklearn.model_selection import train_test_split\n",
    "\n",
    "# train // validate - no labels since they're all clean anyway\n",
    "X_train_, X_validate_ = train_test_split(X_train, \n",
    "                                       test_size=VALIDATE_SIZE, \n",
    "                                       random_state=RANDOM_SEED)"
   ]
  },
  {
   "cell_type": "code",
   "execution_count": 9,
   "id": "437296b0",
   "metadata": {},
   "outputs": [],
   "source": [
    "X_train_transformed = X_train_\n",
    "X_validate_transformed = X_validate_\n",
    "X_test_transformed = X_test"
   ]
  },
  {
   "cell_type": "code",
   "execution_count": 10,
   "id": "2175c911",
   "metadata": {},
   "outputs": [],
   "source": [
    "batch_size = 128\n",
    "epochs = 100"
   ]
  },
  {
   "cell_type": "code",
   "execution_count": 11,
   "id": "0b011954",
   "metadata": {},
   "outputs": [],
   "source": [
    "from torch.utils.data import DataLoader, TensorDataset\n",
    "\n",
    "# Convert data to PyTorch tensors\n",
    "X_train_tensor = torch.Tensor(X_train_transformed)\n",
    "\n",
    "# Create a dataset and data loader\n",
    "train_dataset = TensorDataset(X_train_tensor, X_train_tensor)\n",
    "train_loader = DataLoader(dataset=train_dataset, batch_size=batch_size, shuffle=True)\n",
    "\n",
    "# Convert validation data to PyTorch tensors\n",
    "X_val_tensor = torch.Tensor(X_validate_transformed)\n",
    "\n",
    "# Create a dataset and data loader for validation\n",
    "val_dataset = TensorDataset(X_val_tensor, X_val_tensor)\n",
    "val_loader = DataLoader(dataset=val_dataset, batch_size=batch_size)"
   ]
  },
  {
   "cell_type": "markdown",
   "id": "1ab476f6",
   "metadata": {},
   "source": [
    "# Autoencoder / Denoising Autoencoder"
   ]
  },
  {
   "cell_type": "code",
   "execution_count": 57,
   "id": "50585a49",
   "metadata": {},
   "outputs": [],
   "source": [
    "import torch\n",
    "import torch.nn as nn\n",
    "import torch.optim as optim\n",
    "\n",
    "class Autoencoder(nn.Module):\n",
    "    def __init__(self, input_dim):\n",
    "        super(Autoencoder, self).__init__()\n",
    "        # Encoder\n",
    "        self.encoder = nn.Sequential(\n",
    "            nn.Linear(input_dim, input_dim),\n",
    "            nn.ELU(),\n",
    "            nn.Linear(input_dim, 16),\n",
    "            nn.ELU(),\n",
    "            nn.Linear(16, 8),\n",
    "            nn.ELU(),\n",
    "            nn.Linear(8, 4),\n",
    "            nn.ELU(),\n",
    "            nn.Linear(4, 2),\n",
    "            nn.ELU()\n",
    "        )\n",
    "        # Decoder\n",
    "        self.decoder = nn.Sequential(\n",
    "            nn.Linear(2, 4),\n",
    "            nn.ELU(),\n",
    "            nn.Linear(4, 8),\n",
    "            nn.ELU(),\n",
    "            nn.Linear(8, 16),\n",
    "            nn.ELU(),\n",
    "            nn.Linear(16, input_dim),\n",
    "            nn.ELU()\n",
    "        )\n",
    "\n",
    "    def forward(self, x):\n",
    "        x = self.encoder(x)\n",
    "        x = self.decoder(x)\n",
    "        return x"
   ]
  },
  {
   "cell_type": "code",
   "execution_count": 363,
   "id": "fa849859",
   "metadata": {},
   "outputs": [],
   "source": [
    "import torch\n",
    "import torch.nn as nn\n",
    "import torch.optim as optim\n",
    "\n",
    "class Autoencoder(nn.Module):\n",
    "    def __init__(self, input_dim):\n",
    "        super(Autoencoder, self).__init__()\n",
    "        # Encoder\n",
    "        self.encoder = nn.Sequential(\n",
    "            nn.Linear(input_dim, input_dim),\n",
    "            nn.ReLU(),\n",
    "            nn.Linear(input_dim, 16),\n",
    "            nn.ReLU(),\n",
    "            nn.Linear(16, 8),\n",
    "            nn.ReLU(),\n",
    "            nn.Linear(8, 4),\n",
    "            nn.ReLU(),\n",
    "        )\n",
    "        # Decoder\n",
    "        self.decoder = nn.Sequential(\n",
    "            nn.Linear(4, 8),\n",
    "            nn.ReLU(),\n",
    "            nn.Linear(8, 16),\n",
    "            nn.ReLU(),\n",
    "            nn.Linear(16, input_dim),\n",
    "            nn.ReLU()\n",
    "        )\n",
    "\n",
    "    def forward(self, x):\n",
    "        x = self.encoder(x)\n",
    "        x = self.decoder(x)\n",
    "        return x"
   ]
  },
  {
   "cell_type": "code",
   "execution_count": 62,
   "id": "44c233ad",
   "metadata": {},
   "outputs": [],
   "source": [
    "import torch\n",
    "import torch.nn as nn\n",
    "import torch.optim as optim\n",
    "\n",
    "class Autoencoder(nn.Module):\n",
    "    def __init__(self, input_dim):\n",
    "        super(Autoencoder, self).__init__()\n",
    "        # Encoder\n",
    "        self.encoder = nn.Sequential(\n",
    "            nn.Linear(input_dim, input_dim),\n",
    "            nn.ReLU(),\n",
    "            nn.Linear(input_dim, 16),\n",
    "            nn.ReLU(),\n",
    "            nn.Linear(16, 8),\n",
    "            nn.ReLU(),\n",
    "            nn.Linear(8, 4),\n",
    "            nn.ReLU(),\n",
    "            nn.Linear(4, 2),\n",
    "            nn.ReLU()\n",
    "        )\n",
    "        # Decoder\n",
    "        self.decoder = nn.Sequential(\n",
    "            nn.Linear(2, 4),\n",
    "            nn.ReLU(),\n",
    "            nn.Linear(4, 8),\n",
    "            nn.ReLU(),\n",
    "            nn.Linear(8, 16),\n",
    "            nn.ReLU(),\n",
    "            nn.Linear(16, input_dim),\n",
    "            nn.ReLU()\n",
    "        )\n",
    "\n",
    "    def forward(self, x):\n",
    "        x = self.encoder(x)\n",
    "        x = self.decoder(x)\n",
    "        return x"
   ]
  },
  {
   "cell_type": "code",
   "execution_count": 81,
   "id": "d56971cc",
   "metadata": {},
   "outputs": [],
   "source": [
    "import torch\n",
    "import torch.nn as nn\n",
    "import torch.optim as optim\n",
    "\n",
    "class Autoencoder(nn.Module):\n",
    "    def __init__(self, input_dim):\n",
    "        super(Autoencoder, self).__init__()\n",
    "        # Encoder\n",
    "        self.encoder = nn.Sequential(\n",
    "            nn.Linear(input_dim, input_dim),\n",
    "            nn.ReLU(),\n",
    "            nn.Linear(input_dim, 16),\n",
    "            nn.ReLU(),\n",
    "            nn.Linear(16, 8),\n",
    "            nn.ReLU(),\n",
    "            nn.Linear(8, 4),\n",
    "            nn.ReLU(),\n",
    "            nn.Linear(4, 2),\n",
    "            nn.ReLU()\n",
    "        )\n",
    "        # Decoder\n",
    "        self.decoder = nn.Sequential(\n",
    "            nn.Linear(2, 4),\n",
    "            nn.ReLU(),\n",
    "            nn.Linear(4, 8),\n",
    "            nn.ReLU(),\n",
    "            nn.Linear(8, 16),\n",
    "            nn.ReLU(),\n",
    "            nn.Linear(16, input_dim),\n",
    "            nn.Sigmoid()\n",
    "        )\n",
    "\n",
    "    def forward(self, x):\n",
    "        x = self.encoder(x)\n",
    "        x = self.decoder(x)\n",
    "        return x"
   ]
  },
  {
   "cell_type": "code",
   "execution_count": 12,
   "id": "2a47499e",
   "metadata": {},
   "outputs": [],
   "source": [
    "import torch\n",
    "import torch.nn as nn\n",
    "import torch.optim as optim\n",
    "\n",
    "class Autoencoder(nn.Module):\n",
    "    def __init__(self, input_dim):\n",
    "        super(Autoencoder, self).__init__()\n",
    "        # Encoder\n",
    "        self.encoder = nn.Sequential(\n",
    "            nn.Linear(input_dim, input_dim),\n",
    "            nn.Tanh(),\n",
    "            nn.Linear(input_dim, 16),\n",
    "            nn.Tanh(),\n",
    "            nn.Linear(16, 8),\n",
    "            nn.Tanh(),\n",
    "            nn.Linear(8, 4),\n",
    "            nn.Tanh(),\n",
    "            nn.Linear(4, 2),\n",
    "            nn.Tanh()\n",
    "        )\n",
    "        # Decoder\n",
    "        self.decoder = nn.Sequential(\n",
    "            nn.Linear(2, 4),\n",
    "            nn.Tanh(),\n",
    "            nn.Linear(4, 8),\n",
    "            nn.Tanh(),\n",
    "            nn.Linear(8, 16),\n",
    "            nn.Tanh(),\n",
    "            nn.Linear(16, input_dim),\n",
    "            nn.Sigmoid()\n",
    "        )\n",
    "\n",
    "    def forward(self, x):\n",
    "        x = self.encoder(x)\n",
    "        x = self.decoder(x)\n",
    "        return x"
   ]
  },
  {
   "cell_type": "code",
   "execution_count": 29,
   "id": "eeceeed1",
   "metadata": {},
   "outputs": [],
   "source": [
    "import torch\n",
    "import torch.nn as nn\n",
    "import torch.optim as optim\n",
    "\n",
    "class Autoencoder(nn.Module):\n",
    "    def __init__(self, input_dim):\n",
    "        super(Autoencoder, self).__init__()\n",
    "        # Encoder\n",
    "        self.encoder = nn.Sequential(\n",
    "            nn.Linear(input_dim, input_dim),\n",
    "            nn.Tanh(),\n",
    "            nn.Linear(input_dim, 16),\n",
    "            nn.Tanh(),\n",
    "            nn.Linear(16, 8),\n",
    "            nn.Tanh(),\n",
    "            nn.Linear(8, 4),\n",
    "            nn.Tanh(),\n",
    "            nn.Linear(4, 2),\n",
    "            nn.Tanh()\n",
    "        )\n",
    "        # Decoder\n",
    "        self.decoder = nn.Sequential(\n",
    "            nn.Linear(2, 4),\n",
    "            nn.Tanh(),\n",
    "            nn.Linear(4, 8),\n",
    "            nn.Tanh(),\n",
    "            nn.Linear(8, 16),\n",
    "            nn.Tanh(),\n",
    "            nn.Linear(16, input_dim),\n",
    "        )\n",
    "\n",
    "    def forward(self, x):\n",
    "        x = self.encoder(x)\n",
    "        x = self.decoder(x)\n",
    "        return x"
   ]
  },
  {
   "cell_type": "markdown",
   "id": "25c50548",
   "metadata": {},
   "source": [
    "### higher bottleneck value is better! bottleneck = 4, F1 = 89"
   ]
  },
  {
   "cell_type": "code",
   "execution_count": 19,
   "id": "2bac55f0",
   "metadata": {},
   "outputs": [],
   "source": [
    "import torch\n",
    "import torch.nn as nn\n",
    "import torch.optim as optim\n",
    "\n",
    "class Autoencoder(nn.Module):\n",
    "    def __init__(self, input_dim):\n",
    "        super(Autoencoder, self).__init__()\n",
    "        # Encoder\n",
    "        self.encoder = nn.Sequential(\n",
    "            nn.Linear(input_dim, input_dim),\n",
    "            nn.ELU(),\n",
    "            nn.Linear(input_dim, 16),\n",
    "            nn.ELU(),\n",
    "            nn.Linear(16, 8),\n",
    "            nn.ELU(),\n",
    "            nn.Linear(8, 4),\n",
    "            nn.ELU(),\n",
    "        )\n",
    "        # Decoder\n",
    "        self.decoder = nn.Sequential(\n",
    "            nn.Linear(4, 8),\n",
    "            nn.ELU(),\n",
    "            nn.Linear(8, 16),\n",
    "            nn.ELU(),\n",
    "            nn.Linear(16, input_dim),\n",
    "            nn.ELU()\n",
    "        )\n",
    "\n",
    "    def forward(self, x):\n",
    "        x = self.encoder(x)\n",
    "        x = self.decoder(x)\n",
    "        return x"
   ]
  },
  {
   "cell_type": "markdown",
   "id": "5de6eab8",
   "metadata": {},
   "source": [
    "### higher dim in bottleneck e.g. 8 is not better, F1 = 88"
   ]
  },
  {
   "cell_type": "code",
   "execution_count": 94,
   "id": "1c839f24",
   "metadata": {},
   "outputs": [],
   "source": [
    "import torch\n",
    "import torch.nn as nn\n",
    "import torch.optim as optim\n",
    "\n",
    "class Autoencoder(nn.Module):\n",
    "    def __init__(self, input_dim):\n",
    "        super(Autoencoder, self).__init__()\n",
    "        # Encoder\n",
    "        self.encoder = nn.Sequential(\n",
    "            nn.Linear(input_dim, input_dim),\n",
    "            nn.ELU(),\n",
    "            nn.Linear(input_dim, 16),\n",
    "            nn.ELU(),\n",
    "            nn.Linear(16, 8),\n",
    "            nn.ELU(),\n",
    "        )\n",
    "        # Decoder\n",
    "        self.decoder = nn.Sequential(\n",
    "            nn.Linear(8, 16),\n",
    "            nn.ELU(),\n",
    "            nn.Linear(16, input_dim),\n",
    "            nn.ELU()\n",
    "        )\n",
    "\n",
    "    def forward(self, x):\n",
    "        x = self.encoder(x)\n",
    "        x = self.decoder(x)\n",
    "        return x"
   ]
  },
  {
   "cell_type": "markdown",
   "id": "77c9695a",
   "metadata": {},
   "source": [
    "### ReLU function very bad (probably because of vanishing gradient problem)"
   ]
  },
  {
   "cell_type": "code",
   "execution_count": 111,
   "id": "5d1973f8",
   "metadata": {},
   "outputs": [],
   "source": [
    "import torch\n",
    "import torch.nn as nn\n",
    "import torch.optim as optim\n",
    "\n",
    "class Autoencoder(nn.Module):\n",
    "    def __init__(self, input_dim):\n",
    "        super(Autoencoder, self).__init__()\n",
    "        # Encoder\n",
    "        self.encoder = nn.Sequential(\n",
    "            nn.Linear(input_dim, input_dim),\n",
    "            nn.ReLU(),\n",
    "            nn.Linear(input_dim, 16),\n",
    "            nn.ReLU(),\n",
    "            nn.Linear(16, 8),\n",
    "            nn.ReLU(),\n",
    "        )\n",
    "        # Decoder\n",
    "        self.decoder = nn.Sequential(\n",
    "            nn.Linear(8, 16),\n",
    "            nn.ReLU(),\n",
    "            nn.Linear(16, input_dim),\n",
    "            nn.ReLU()\n",
    "        )\n",
    "\n",
    "    def forward(self, x):\n",
    "        x = self.encoder(x)\n",
    "        x = self.decoder(x)\n",
    "        return x"
   ]
  },
  {
   "cell_type": "markdown",
   "id": "0eb286b9",
   "metadata": {},
   "source": [
    "### does not work well!"
   ]
  },
  {
   "cell_type": "code",
   "execution_count": 151,
   "id": "b5a83a73",
   "metadata": {},
   "outputs": [],
   "source": [
    "import torch\n",
    "import torch.nn as nn\n",
    "import torch.optim as optim\n",
    "\n",
    "class Autoencoder(nn.Module):\n",
    "    def __init__(self, input_dim):\n",
    "        super(Autoencoder, self).__init__()\n",
    "        # Encoder\n",
    "        self.encoder = nn.Sequential(\n",
    "            nn.Linear(input_dim, input_dim),\n",
    "            nn.ELU(),\n",
    "            nn.Linear(input_dim, 16),\n",
    "            nn.ELU(),\n",
    "            nn.Linear(16, 8),\n",
    "            nn.ELU(),\n",
    "        )\n",
    "        # Decoder\n",
    "        self.decoder = nn.Sequential(\n",
    "            nn.Linear(8, 16),\n",
    "            nn.ELU(),\n",
    "            nn.Linear(16, input_dim),\n",
    "            nn.Sigmoid()\n",
    "        )\n",
    "\n",
    "    def forward(self, x):\n",
    "        x = self.encoder(x)\n",
    "        x = self.decoder(x)\n",
    "        return x"
   ]
  },
  {
   "cell_type": "markdown",
   "id": "18e1b06d",
   "metadata": {},
   "source": [
    "### a bit worse than best (with minmax scaling)"
   ]
  },
  {
   "cell_type": "code",
   "execution_count": 162,
   "id": "8d1a3274",
   "metadata": {},
   "outputs": [],
   "source": [
    "import torch\n",
    "import torch.nn as nn\n",
    "import torch.optim as optim\n",
    "\n",
    "class Autoencoder(nn.Module):\n",
    "    def __init__(self, input_dim):\n",
    "        super(Autoencoder, self).__init__()\n",
    "        # Encoder\n",
    "        self.encoder = nn.Sequential(\n",
    "            nn.Linear(input_dim, input_dim),\n",
    "            nn.ELU(),\n",
    "            nn.Linear(input_dim, 16),\n",
    "            nn.ELU(),\n",
    "            nn.Linear(16, 8),\n",
    "            nn.ELU(),\n",
    "            nn.Linear(8, 4),\n",
    "            nn.ELU(),\n",
    "            nn.Linear(4, 2),\n",
    "            nn.ELU()\n",
    "        )\n",
    "        # Decoder\n",
    "        self.decoder = nn.Sequential(\n",
    "            nn.Linear(2, 4),\n",
    "            nn.ELU(),\n",
    "            nn.Linear(4, 8),\n",
    "            nn.ELU(),\n",
    "            nn.Linear(8, 16),\n",
    "            nn.ELU(),\n",
    "            nn.Linear(16, input_dim),\n",
    "            nn.Sigmoid()\n",
    "        )\n",
    "\n",
    "    def forward(self, x):\n",
    "        x = self.encoder(x)\n",
    "        x = self.decoder(x)\n",
    "        return x"
   ]
  },
  {
   "cell_type": "markdown",
   "id": "244d49d0",
   "metadata": {},
   "source": [
    "### same as above"
   ]
  },
  {
   "cell_type": "code",
   "execution_count": 206,
   "id": "75b8bca6",
   "metadata": {},
   "outputs": [],
   "source": [
    "import torch\n",
    "import torch.nn as nn\n",
    "import torch.optim as optim\n",
    "\n",
    "class Autoencoder(nn.Module):\n",
    "    def __init__(self, input_dim):\n",
    "        super(Autoencoder, self).__init__()\n",
    "        # Encoder\n",
    "        self.encoder = nn.Sequential(\n",
    "            nn.Linear(input_dim, input_dim),\n",
    "            nn.ELU(),\n",
    "            nn.Linear(input_dim, 16),\n",
    "            nn.ELU(),\n",
    "            nn.Linear(16, 8),\n",
    "            nn.ELU(),\n",
    "            nn.Linear(8, 4),\n",
    "            nn.ELU(),\n",
    "            nn.Linear(4, 2),\n",
    "            nn.ELU()\n",
    "        )\n",
    "        # Decoder\n",
    "        self.decoder = nn.Sequential(\n",
    "            nn.Linear(2, 4),\n",
    "            nn.ELU(),\n",
    "            nn.Linear(4, 8),\n",
    "            nn.ELU(),\n",
    "            nn.Linear(8, 16),\n",
    "            nn.ELU(),\n",
    "            nn.Linear(16, input_dim),\n",
    "            nn.ELU()\n",
    "        )\n",
    "\n",
    "    def forward(self, x):\n",
    "        x = self.encoder(x)\n",
    "        x = self.decoder(x)\n",
    "        return x"
   ]
  },
  {
   "cell_type": "markdown",
   "id": "35428606",
   "metadata": {},
   "source": [
    "### best model so far with minmax scaling F1 = 88 (batch size 64)"
   ]
  },
  {
   "cell_type": "code",
   "execution_count": 269,
   "id": "13aeff62",
   "metadata": {},
   "outputs": [],
   "source": [
    "import torch\n",
    "import torch.nn as nn\n",
    "import torch.optim as optim\n",
    "\n",
    "class Autoencoder(nn.Module):\n",
    "    def __init__(self, input_dim):\n",
    "        super(Autoencoder, self).__init__()\n",
    "        # Encoder\n",
    "        self.encoder = nn.Sequential(\n",
    "            nn.Linear(input_dim, input_dim),\n",
    "            nn.ELU(),\n",
    "            nn.Linear(input_dim, 16),\n",
    "            nn.ELU(),\n",
    "            nn.Linear(16, 8),\n",
    "            nn.ELU(),\n",
    "            nn.Linear(8, 4),\n",
    "            nn.ELU(),\n",
    "        )\n",
    "        # Decoder\n",
    "        self.decoder = nn.Sequential(\n",
    "            nn.Linear(4, 8),\n",
    "            nn.ELU(),\n",
    "            nn.Linear(8, 16),\n",
    "            nn.ELU(),\n",
    "            nn.Linear(16, input_dim),\n",
    "            nn.ELU()\n",
    "        )\n",
    "\n",
    "    def forward(self, x):\n",
    "        x = self.encoder(x)\n",
    "        x = self.decoder(x)\n",
    "        return x"
   ]
  },
  {
   "cell_type": "markdown",
   "id": "8cbd562c",
   "metadata": {},
   "source": [
    "### tanh with minmax scaling and BCE and bs = 64 (F1 = 90)"
   ]
  },
  {
   "cell_type": "code",
   "execution_count": 295,
   "id": "b1054529",
   "metadata": {},
   "outputs": [],
   "source": [
    "import torch\n",
    "import torch.nn as nn\n",
    "import torch.optim as optim\n",
    "\n",
    "class Autoencoder(nn.Module):\n",
    "    def __init__(self, input_dim):\n",
    "        super(Autoencoder, self).__init__()\n",
    "        # Encoder\n",
    "        self.encoder = nn.Sequential(\n",
    "            nn.Linear(input_dim, input_dim),\n",
    "            nn.Tanh(),\n",
    "            nn.Linear(input_dim, 16),\n",
    "            nn.Tanh(),\n",
    "            nn.Linear(16, 8),\n",
    "            nn.Tanh(),\n",
    "            nn.Linear(8, 4),\n",
    "            nn.Tanh(),\n",
    "        )\n",
    "        # Decoder\n",
    "        self.decoder = nn.Sequential(\n",
    "            nn.Linear(4, 8),\n",
    "            nn.Tanh(),\n",
    "            nn.Linear(8, 16),\n",
    "            nn.Tanh(),\n",
    "            nn.Linear(16, input_dim),\n",
    "            nn.Sigmoid()\n",
    "        )\n",
    "\n",
    "    def forward(self, x):\n",
    "        x = self.encoder(x)\n",
    "        x = self.decoder(x)\n",
    "        return x"
   ]
  },
  {
   "cell_type": "markdown",
   "id": "46362843",
   "metadata": {},
   "source": [
    "### tanh with minmax scaling and MSE and bs = 128 (F1 = 90)"
   ]
  },
  {
   "cell_type": "code",
   "execution_count": 317,
   "id": "d8b99f8e",
   "metadata": {},
   "outputs": [],
   "source": [
    "import torch\n",
    "import torch.nn as nn\n",
    "import torch.optim as optim\n",
    "\n",
    "class Autoencoder(nn.Module):\n",
    "    def __init__(self, input_dim):\n",
    "        super(Autoencoder, self).__init__()\n",
    "        # Encoder\n",
    "        self.encoder = nn.Sequential(\n",
    "            nn.Linear(input_dim, input_dim),\n",
    "            nn.Tanh(),\n",
    "            nn.Linear(input_dim, 16),\n",
    "            nn.Tanh(),\n",
    "            nn.Linear(16, 8),\n",
    "            nn.Tanh(),\n",
    "            nn.Linear(8, 4),\n",
    "            nn.Tanh(),\n",
    "        )\n",
    "        # Decoder\n",
    "        self.decoder = nn.Sequential(\n",
    "            nn.Linear(4, 8),\n",
    "            nn.Tanh(),\n",
    "            nn.Linear(8, 16),\n",
    "            nn.Tanh(),\n",
    "            nn.Linear(16, input_dim),\n",
    "            nn.Tanh()\n",
    "        )\n",
    "\n",
    "    def forward(self, x):\n",
    "        x = self.encoder(x)\n",
    "        x = self.decoder(x)\n",
    "        return x"
   ]
  },
  {
   "cell_type": "markdown",
   "id": "b1d2368f",
   "metadata": {},
   "source": [
    "### best model but with robust scaling (bad because large distribution of anomaly overlaps with normal data)"
   ]
  },
  {
   "cell_type": "code",
   "execution_count": null,
   "id": "6520113c",
   "metadata": {},
   "outputs": [],
   "source": [
    "import torch\n",
    "import torch.nn as nn\n",
    "import torch.optim as optim\n",
    "\n",
    "class Autoencoder(nn.Module):\n",
    "    def __init__(self, input_dim):\n",
    "        super(Autoencoder, self).__init__()\n",
    "        # Encoder\n",
    "        self.encoder = nn.Sequential(\n",
    "            nn.Linear(input_dim, input_dim),\n",
    "            nn.ELU(),\n",
    "            nn.Linear(input_dim, 16),\n",
    "            nn.ELU(),\n",
    "            nn.Linear(16, 8),\n",
    "            nn.ELU(),\n",
    "            nn.Linear(8, 4),\n",
    "            nn.ELU(),\n",
    "        )\n",
    "        # Decoder\n",
    "        self.decoder = nn.Sequential(\n",
    "            nn.Linear(4, 8),\n",
    "            nn.ELU(),\n",
    "            nn.Linear(8, 16),\n",
    "            nn.ELU(),\n",
    "            nn.Linear(16, input_dim),\n",
    "            nn.ELU()\n",
    "        )\n",
    "\n",
    "    def forward(self, x):\n",
    "        x = self.encoder(x)\n",
    "        x = self.decoder(x)\n",
    "        return x"
   ]
  },
  {
   "cell_type": "markdown",
   "id": "97ec6e83",
   "metadata": {},
   "source": [
    "### best model with dropout (F1: 86%)"
   ]
  },
  {
   "cell_type": "code",
   "execution_count": 396,
   "id": "b40adb44",
   "metadata": {},
   "outputs": [],
   "source": [
    "import torch\n",
    "import torch.nn as nn\n",
    "import torch.optim as optim\n",
    "\n",
    "class Autoencoder(nn.Module):\n",
    "    def __init__(self, input_dim, dropout_rate=0.5):\n",
    "        super(Autoencoder, self).__init__()\n",
    "        # Encoder\n",
    "        self.encoder = nn.Sequential(\n",
    "            nn.Linear(input_dim, input_dim),\n",
    "            nn.ELU(),\n",
    "            nn.Dropout(dropout_rate),\n",
    "            nn.Linear(input_dim, 16),\n",
    "            nn.ELU(),\n",
    "            nn.Dropout(dropout_rate),\n",
    "            nn.Linear(16, 8),\n",
    "            nn.ELU(),\n",
    "            nn.Dropout(dropout_rate),\n",
    "            nn.Linear(8, 4),\n",
    "            nn.ELU(),\n",
    "            nn.Dropout(dropout_rate)\n",
    "        )\n",
    "        # Decoder\n",
    "        self.decoder = nn.Sequential(\n",
    "            nn.Linear(4, 8),\n",
    "            nn.ELU(),\n",
    "            nn.Dropout(dropout_rate),\n",
    "            nn.Linear(8, 16),\n",
    "            nn.ELU(),\n",
    "            nn.Dropout(dropout_rate),\n",
    "            nn.Linear(16, input_dim),\n",
    "            nn.ELU()\n",
    "        )\n",
    "\n",
    "    def forward(self, x):\n",
    "        x = self.encoder(x)\n",
    "        x = self.decoder(x)\n",
    "        return x"
   ]
  },
  {
   "cell_type": "markdown",
   "id": "1ce0b522",
   "metadata": {},
   "source": [
    "### best model corrected: no identity layer anymore"
   ]
  },
  {
   "cell_type": "code",
   "execution_count": 12,
   "id": "2aff1d04",
   "metadata": {},
   "outputs": [],
   "source": [
    "import torch\n",
    "import torch.nn as nn\n",
    "import torch.optim as optim\n",
    "\n",
    "class Autoencoder(nn.Module):\n",
    "    def __init__(self, input_dim):\n",
    "        super(Autoencoder, self).__init__()\n",
    "        # Encoder\n",
    "        self.encoder = nn.Sequential(\n",
    "            nn.Linear(input_dim, 16),\n",
    "            nn.ELU(),\n",
    "            nn.Linear(16, 8),\n",
    "            nn.ELU(),\n",
    "            nn.Linear(8, 4),\n",
    "            nn.ELU(),\n",
    "        )\n",
    "        # Decoder\n",
    "        self.decoder = nn.Sequential(\n",
    "            nn.Linear(4, 8),\n",
    "            nn.ELU(),\n",
    "            nn.Linear(8, 16),\n",
    "            nn.ELU(),\n",
    "            nn.Linear(16, input_dim),\n",
    "            nn.ELU()\n",
    "        )\n",
    "\n",
    "    def forward(self, x):\n",
    "        x = self.encoder(x)\n",
    "        x = self.decoder(x)\n",
    "        return x"
   ]
  },
  {
   "cell_type": "markdown",
   "id": "500ba1bc",
   "metadata": {},
   "source": [
    "### For Denoising: 88% F1 score"
   ]
  },
  {
   "cell_type": "code",
   "execution_count": 31,
   "id": "fcc85baa",
   "metadata": {},
   "outputs": [],
   "source": [
    "import torch\n",
    "import torch.nn as nn\n",
    "import torch.optim as optim\n",
    "\n",
    "class Autoencoder(nn.Module):\n",
    "    def __init__(self, input_dim):\n",
    "        super(Autoencoder, self).__init__()\n",
    "        # Encoder\n",
    "        self.encoder = nn.Sequential(\n",
    "            nn.Linear(input_dim, 16),\n",
    "            nn.ELU(),\n",
    "            nn.Linear(16, 8),\n",
    "            nn.ELU(),\n",
    "        )\n",
    "        # Decoder\n",
    "        self.decoder = nn.Sequential(\n",
    "            nn.Linear(8, 16),\n",
    "            nn.ELU(),\n",
    "            nn.Linear(16, input_dim),\n",
    "            nn.ELU()\n",
    "        )\n",
    "\n",
    "    def forward(self, x):\n",
    "        x = self.encoder(x)\n",
    "        x = self.decoder(x)\n",
    "        return x"
   ]
  },
  {
   "cell_type": "markdown",
   "id": "8d9e3f3b",
   "metadata": {},
   "source": [
    "# Parameter influences\n",
    "- Batch size: \n",
    "    - 1024 is bad, distributions come closer\n",
    "    - 256 is also good\n",
    "    - 64 is much better"
   ]
  },
  {
   "cell_type": "code",
   "execution_count": 32,
   "id": "08cd459b",
   "metadata": {},
   "outputs": [
    {
     "data": {
      "text/plain": [
       "Autoencoder(\n",
       "  (encoder): Sequential(\n",
       "    (0): Linear(in_features=29, out_features=16, bias=True)\n",
       "    (1): ELU(alpha=1.0)\n",
       "    (2): Linear(in_features=16, out_features=8, bias=True)\n",
       "    (3): ELU(alpha=1.0)\n",
       "  )\n",
       "  (decoder): Sequential(\n",
       "    (0): Linear(in_features=8, out_features=16, bias=True)\n",
       "    (1): ELU(alpha=1.0)\n",
       "    (2): Linear(in_features=16, out_features=29, bias=True)\n",
       "    (3): ELU(alpha=1.0)\n",
       "  )\n",
       ")"
      ]
     },
     "execution_count": 32,
     "metadata": {},
     "output_type": "execute_result"
    }
   ],
   "source": [
    "# Parameters\n",
    "input_dim = X_train_transformed.shape[1]\n",
    "\n",
    "# Create the model\n",
    "autoencoder = Autoencoder(input_dim)\n",
    "autoencoder"
   ]
  },
  {
   "cell_type": "code",
   "execution_count": 33,
   "id": "a2eed4e2",
   "metadata": {},
   "outputs": [],
   "source": [
    "# using GPU\n",
    "device = torch.device(\"cuda\" if torch.cuda.is_available() else \"cpu\")\n",
    "autoencoder = autoencoder.to(device)"
   ]
  },
  {
   "cell_type": "markdown",
   "id": "1e34a57e",
   "metadata": {},
   "source": [
    "#### Loss function\n",
    "- if ReLU / ELU at the end of decoder, use MSE\n",
    "- if Sigmoid at the end of decoder, use BCE. Note that data needs to bin normalized between 0 and 1!"
   ]
  },
  {
   "cell_type": "code",
   "execution_count": 298,
   "id": "37f9afb2",
   "metadata": {},
   "outputs": [],
   "source": [
    "optimizer = optim.Adam(autoencoder.parameters(), lr=0.001)\n",
    "criterion = nn.BCELoss()"
   ]
  },
  {
   "cell_type": "code",
   "execution_count": 34,
   "id": "1f4d4c1c",
   "metadata": {},
   "outputs": [],
   "source": [
    "optimizer = optim.Adam(autoencoder.parameters(), lr=0.001)\n",
    "criterion = nn.MSELoss()"
   ]
  },
  {
   "cell_type": "markdown",
   "id": "afd99eb5",
   "metadata": {},
   "source": [
    "#### Training loop"
   ]
  },
  {
   "cell_type": "code",
   "execution_count": 35,
   "id": "dc02d921",
   "metadata": {},
   "outputs": [],
   "source": [
    "# Early stopping parameters\n",
    "patience = 10  # Number of epochs to wait for improvement before stopping\n",
    "min_delta = 0.01  # Minimum change to qualify as an improvement\n",
    "best_loss = float('inf')\n",
    "counter = 0"
   ]
  },
  {
   "cell_type": "markdown",
   "id": "ee33b67c",
   "metadata": {},
   "source": [
    "#### For Autoencoder"
   ]
  },
  {
   "cell_type": "code",
   "execution_count": 26,
   "id": "8936c78f",
   "metadata": {},
   "outputs": [
    {
     "name": "stdout",
     "output_type": "stream",
     "text": [
      "Epoch [1/100], Loss: 0.27877125, Val Loss: 0.35345528\n",
      "Epoch [2/100], Loss: 0.23171403, Val Loss: 0.33297070\n",
      "Epoch [3/100], Loss: 0.28434855, Val Loss: 0.32532706\n",
      "Epoch [4/100], Loss: 0.36245483, Val Loss: 0.32007289\n",
      "Epoch [5/100], Loss: 0.22629921, Val Loss: 0.31576165\n",
      "Epoch [6/100], Loss: 0.26008591, Val Loss: 0.30973334\n",
      "Epoch [7/100], Loss: 0.28293997, Val Loss: 0.30409522\n",
      "Epoch [8/100], Loss: 0.24881274, Val Loss: 0.30044832\n",
      "Epoch [9/100], Loss: 0.26597881, Val Loss: 0.29823324\n",
      "Epoch [10/100], Loss: 0.27888387, Val Loss: 0.29706495\n",
      "Epoch [11/100], Loss: 0.32346427, Val Loss: 0.29522057\n",
      "Epoch [12/100], Loss: 0.31767109, Val Loss: 0.29365851\n",
      "Epoch [13/100], Loss: 0.29840913, Val Loss: 0.29823364\n",
      "Epoch [14/100], Loss: 0.30120745, Val Loss: 0.29165206\n",
      "Epoch [15/100], Loss: 0.34597245, Val Loss: 0.29022850\n",
      "Epoch [16/100], Loss: 0.26106960, Val Loss: 0.28822045\n",
      "Epoch [17/100], Loss: 0.25045195, Val Loss: 0.29688510\n",
      "Epoch [18/100], Loss: 0.22076958, Val Loss: 0.28549298\n",
      "Epoch [19/100], Loss: 0.31765124, Val Loss: 0.28496140\n",
      "Epoch [20/100], Loss: 0.41607684, Val Loss: 0.28323771\n",
      "Epoch [21/100], Loss: 0.22471090, Val Loss: 0.28224595\n",
      "Epoch [22/100], Loss: 0.20104589, Val Loss: 0.28166928\n",
      "Epoch [23/100], Loss: 0.41691807, Val Loss: 0.28629020\n",
      "Epoch [24/100], Loss: 0.22974926, Val Loss: 0.28833818\n",
      "Epoch [25/100], Loss: 0.73908502, Val Loss: 0.27912924\n",
      "Epoch [26/100], Loss: 0.26653266, Val Loss: 0.27772118\n",
      "Epoch [27/100], Loss: 0.19187243, Val Loss: 0.27787154\n",
      "Epoch [28/100], Loss: 0.23738705, Val Loss: 0.27543699\n",
      "Epoch [29/100], Loss: 0.28180018, Val Loss: 0.27447612\n",
      "Epoch [30/100], Loss: 0.24561758, Val Loss: 0.27342975\n",
      "Epoch [31/100], Loss: 0.25321111, Val Loss: 0.27356460\n",
      "Epoch [32/100], Loss: 0.29105005, Val Loss: 0.27161976\n",
      "Epoch [33/100], Loss: 0.23923397, Val Loss: 0.27083015\n",
      "Epoch [34/100], Loss: 0.21641645, Val Loss: 0.27234282\n",
      "Epoch [35/100], Loss: 0.22684750, Val Loss: 0.27120173\n",
      "Epoch [36/100], Loss: 0.23398393, Val Loss: 0.26908283\n",
      "Epoch [37/100], Loss: 0.21873504, Val Loss: 0.27202749\n",
      "Epoch [38/100], Loss: 0.32029265, Val Loss: 0.26792246\n",
      "Epoch [39/100], Loss: 0.23168422, Val Loss: 0.26729320\n",
      "Epoch [40/100], Loss: 0.23861159, Val Loss: 0.26698654\n",
      "Epoch [41/100], Loss: 0.22163372, Val Loss: 0.26635304\n",
      "Epoch [42/100], Loss: 0.20981818, Val Loss: 0.26548097\n",
      "Epoch [43/100], Loss: 0.25285038, Val Loss: 0.26674408\n",
      "Epoch [44/100], Loss: 0.28408009, Val Loss: 0.26445731\n",
      "Epoch [45/100], Loss: 0.19162157, Val Loss: 0.26603990\n",
      "Epoch [46/100], Loss: 0.26224059, Val Loss: 0.26386115\n",
      "Epoch [47/100], Loss: 0.91630203, Val Loss: 0.26490476\n",
      "Epoch [48/100], Loss: 0.19070357, Val Loss: 0.26287682\n",
      "Epoch [49/100], Loss: 0.24444567, Val Loss: 0.26248971\n",
      "Epoch [50/100], Loss: 0.24508199, Val Loss: 0.26208518\n",
      "Epoch [51/100], Loss: 0.40779945, Val Loss: 0.26160463\n",
      "Epoch [52/100], Loss: 0.24366519, Val Loss: 0.26256667\n",
      "Epoch [53/100], Loss: 0.19119769, Val Loss: 0.26106079\n",
      "Epoch [54/100], Loss: 0.22568260, Val Loss: 0.26076963\n",
      "Epoch [55/100], Loss: 0.19717103, Val Loss: 0.26273356\n",
      "Epoch [56/100], Loss: 0.28941044, Val Loss: 0.26138411\n",
      "Epoch [57/100], Loss: 0.19441998, Val Loss: 0.26075973\n",
      "Epoch [58/100], Loss: 0.24764137, Val Loss: 0.26011807\n",
      "Epoch [59/100], Loss: 0.28359458, Val Loss: 0.26024238\n",
      "Epoch [60/100], Loss: 0.20700206, Val Loss: 0.26005860\n",
      "Epoch [61/100], Loss: 0.20820227, Val Loss: 0.25937932\n",
      "Epoch [62/100], Loss: 0.38883406, Val Loss: 0.26144653\n",
      "Epoch [63/100], Loss: 0.28986895, Val Loss: 0.25978142\n",
      "Epoch [64/100], Loss: 0.19064860, Val Loss: 0.25923735\n",
      "Epoch [65/100], Loss: 0.22384362, Val Loss: 0.25900352\n",
      "Epoch [66/100], Loss: 0.16120601, Val Loss: 0.25937635\n",
      "Epoch [67/100], Loss: 0.22731291, Val Loss: 0.25973266\n",
      "Epoch [68/100], Loss: 0.42253882, Val Loss: 0.25895389\n",
      "Epoch [69/100], Loss: 1.60805976, Val Loss: 0.25999095\n",
      "Epoch [70/100], Loss: 0.29919359, Val Loss: 0.25868924\n",
      "Epoch [71/100], Loss: 0.24430290, Val Loss: 0.25890412\n",
      "Epoch [72/100], Loss: 0.29909313, Val Loss: 0.25943225\n",
      "Epoch [73/100], Loss: 0.26725370, Val Loss: 0.25827874\n",
      "Epoch [74/100], Loss: 0.21983665, Val Loss: 0.25832149\n",
      "Epoch [75/100], Loss: 0.23776488, Val Loss: 0.25763580\n",
      "Epoch [76/100], Loss: 0.31580850, Val Loss: 0.25783074\n",
      "Epoch [77/100], Loss: 0.35759103, Val Loss: 0.25763441\n",
      "Epoch [78/100], Loss: 0.22982469, Val Loss: 0.25742918\n",
      "Epoch [79/100], Loss: 0.24261653, Val Loss: 0.25862551\n",
      "Epoch [80/100], Loss: 0.18914275, Val Loss: 0.25755819\n",
      "Epoch [81/100], Loss: 0.23540969, Val Loss: 0.25808548\n",
      "Epoch [82/100], Loss: 0.22962809, Val Loss: 0.25726712\n",
      "Epoch [83/100], Loss: 0.16778061, Val Loss: 0.25742900\n",
      "Epoch [84/100], Loss: 0.29356140, Val Loss: 0.25721696\n",
      "Epoch [85/100], Loss: 0.22048672, Val Loss: 0.25888752\n",
      "Early stopping triggered after 85 epochs\n"
     ]
    }
   ],
   "source": [
    "for epoch in range(epochs):\n",
    "    # Training\n",
    "    autoencoder.train()\n",
    "    for data in train_loader:\n",
    "        inputs, targets = data\n",
    "        inputs, targets = inputs.to(device), targets.to(device)  # Move data to the same device as the model\n",
    "        optimizer.zero_grad()\n",
    "        outputs = autoencoder(inputs)\n",
    "        loss = criterion(outputs, targets)\n",
    "        loss.backward()\n",
    "        optimizer.step()\n",
    "\n",
    "    # Validation\n",
    "    autoencoder.eval()\n",
    "    val_loss = 0.0\n",
    "    with torch.no_grad():\n",
    "        for data in val_loader:\n",
    "            inputs, targets = data\n",
    "            inputs, targets = inputs.to(device), targets.to(device)  # Move data to the same device as the model\n",
    "            outputs = autoencoder(inputs)\n",
    "            val_loss += criterion(outputs, targets).item()\n",
    "\n",
    "    val_loss /= len(val_loader)\n",
    "    print(f'Epoch [{epoch+1}/{epochs}], Loss: {loss.item():.8f}, Val Loss: {val_loss:.8f}')\n",
    "\n",
    "    # Check for improvement for early stopping\n",
    "    if best_loss - val_loss > min_delta:\n",
    "        best_loss = val_loss\n",
    "        counter = 0\n",
    "        # Save the best model\n",
    "        torch.save(autoencoder.state_dict(), 'best_autoencoder.pth')\n",
    "    else:\n",
    "        counter += 1\n",
    "\n",
    "    if counter >= patience:\n",
    "        print(f'Early stopping triggered after {epoch + 1} epochs')\n",
    "        break"
   ]
  },
  {
   "cell_type": "markdown",
   "id": "e0874d9e",
   "metadata": {},
   "source": [
    "#### For Denoising Autoencoder"
   ]
  },
  {
   "cell_type": "code",
   "execution_count": 36,
   "id": "621be6be",
   "metadata": {},
   "outputs": [],
   "source": [
    "def add_noise(inputs, noise_factor=0.5):\n",
    "    noise = torch.randn_like(inputs) * noise_factor\n",
    "    return inputs + noise"
   ]
  },
  {
   "cell_type": "code",
   "execution_count": 37,
   "id": "831d95f3",
   "metadata": {},
   "outputs": [],
   "source": [
    "noise_factor = 0.5"
   ]
  },
  {
   "cell_type": "code",
   "execution_count": 38,
   "id": "7988534e",
   "metadata": {},
   "outputs": [
    {
     "name": "stdout",
     "output_type": "stream",
     "text": [
      "Epoch [1/100], Loss: 0.35970736, Val Loss: 0.28185704\n",
      "Epoch [2/100], Loss: 0.21490629, Val Loss: 0.27307009\n",
      "Epoch [3/100], Loss: 0.25144127, Val Loss: 0.26901099\n",
      "Epoch [4/100], Loss: 0.35838196, Val Loss: 0.26565188\n",
      "Epoch [5/100], Loss: 0.19893810, Val Loss: 0.26252040\n",
      "Epoch [6/100], Loss: 0.20843959, Val Loss: 0.25830464\n",
      "Epoch [7/100], Loss: 0.84807533, Val Loss: 0.25645751\n",
      "Epoch [8/100], Loss: 0.25015125, Val Loss: 0.25378067\n",
      "Epoch [9/100], Loss: 0.28919038, Val Loss: 0.25127301\n",
      "Epoch [10/100], Loss: 0.36476690, Val Loss: 0.24863817\n",
      "Epoch [11/100], Loss: 0.27532920, Val Loss: 0.24629116\n",
      "Epoch [12/100], Loss: 0.24916819, Val Loss: 0.24383003\n",
      "Epoch [13/100], Loss: 0.21050225, Val Loss: 0.24394217\n",
      "Epoch [14/100], Loss: 0.25595444, Val Loss: 0.24227675\n",
      "Epoch [15/100], Loss: 0.43399289, Val Loss: 0.24162616\n",
      "Epoch [16/100], Loss: 0.32521319, Val Loss: 0.24238225\n",
      "Epoch [17/100], Loss: 0.18314765, Val Loss: 0.24192966\n",
      "Epoch [18/100], Loss: 0.34504306, Val Loss: 0.24053956\n",
      "Epoch [19/100], Loss: 0.33449674, Val Loss: 0.23978177\n",
      "Epoch [20/100], Loss: 0.22929344, Val Loss: 0.23939063\n",
      "Epoch [21/100], Loss: 0.27529445, Val Loss: 0.24048935\n",
      "Early stopping triggered after 21 epochs\n"
     ]
    }
   ],
   "source": [
    "for epoch in range(epochs):\n",
    "    # Training\n",
    "    autoencoder.train()\n",
    "    for data in train_loader:\n",
    "        inputs, targets = data\n",
    "        noisy_inputs = add_noise(inputs, noise_factor=noise_factor)\n",
    "        noisy_inputs, targets = noisy_inputs.to(device), targets.to(device) \n",
    "        \n",
    "        optimizer.zero_grad()\n",
    "        outputs = autoencoder(noisy_inputs)\n",
    "        loss = criterion(outputs, targets)\n",
    "        loss.backward()\n",
    "        optimizer.step()\n",
    "\n",
    "    # Validation\n",
    "    autoencoder.eval()\n",
    "    val_loss = 0.0\n",
    "    with torch.no_grad():\n",
    "        for data in val_loader:\n",
    "            inputs, targets = data\n",
    "            inputs, targets = inputs.to(device), targets.to(device)  # Move data to the same device as the model\n",
    "            outputs = autoencoder(inputs)\n",
    "            val_loss += criterion(outputs, targets).item()\n",
    "\n",
    "    val_loss /= len(val_loader)\n",
    "    print(f'Epoch [{epoch+1}/{epochs}], Loss: {loss.item():.8f}, Val Loss: {val_loss:.8f}')\n",
    "\n",
    "    # Check for improvement for early stopping\n",
    "    if best_loss - val_loss > min_delta:\n",
    "        best_loss = val_loss\n",
    "        counter = 0\n",
    "        # Save the best model\n",
    "        torch.save(autoencoder.state_dict(), 'best_denoising_autoencoder.pth')\n",
    "    else:\n",
    "        counter += 1\n",
    "\n",
    "    if counter >= patience:\n",
    "        print(f'Early stopping triggered after {epoch + 1} epochs')\n",
    "        break"
   ]
  },
  {
   "cell_type": "markdown",
   "id": "226874d1",
   "metadata": {},
   "source": [
    "### Testing"
   ]
  },
  {
   "cell_type": "code",
   "execution_count": 39,
   "id": "19fe4eb3",
   "metadata": {},
   "outputs": [],
   "source": [
    "# Convert the transformed test set to a PyTorch tensor\n",
    "X_test_tensor = torch.Tensor(X_test_transformed).to(device)"
   ]
  },
  {
   "cell_type": "code",
   "execution_count": 40,
   "id": "3e1592d7",
   "metadata": {},
   "outputs": [],
   "source": [
    "# Get the model's reconstruction of the test set\n",
    "autoencoder.eval()\n",
    "with torch.no_grad():\n",
    "    reconstructions = autoencoder(X_test_tensor).cpu().numpy()"
   ]
  },
  {
   "cell_type": "code",
   "execution_count": 41,
   "id": "a1776c9f",
   "metadata": {},
   "outputs": [],
   "source": [
    "# Calculate the MSE reconstruction loss per row\n",
    "mse = np.mean(np.power(X_test_transformed - reconstructions, 2), axis=1)"
   ]
  },
  {
   "cell_type": "code",
   "execution_count": 42,
   "id": "0f598627",
   "metadata": {},
   "outputs": [],
   "source": [
    "clean = mse[y_test == 0]\n",
    "fraud = mse[y_test == 1]"
   ]
  },
  {
   "cell_type": "code",
   "execution_count": 43,
   "id": "fb9081b8",
   "metadata": {},
   "outputs": [
    {
     "data": {
      "image/png": "[encoded data removed]",
      "text/plain": [
       "<Figure size 600x600 with 1 Axes>"
      ]
     },
     "metadata": {},
     "output_type": "display_data"
    }
   ],
   "source": [
    "x_clip = 10 # was 10 / 0.050\n",
    "\n",
    "# Plotting the distribution of reconstruction loss\n",
    "fig, ax = plt.subplots(figsize=(6,6))\n",
    "ax.hist(clean[clean <= x_clip], bins=50, density=True, label=\"clean\", alpha=.6, color=\"green\")\n",
    "ax.hist(fraud[fraud <= x_clip], bins=50, density=True, label=\"fraud\", alpha=.6, color=\"red\")\n",
    "plt.title(\"(Normalized) Distribution of the Reconstruction Loss\")\n",
    "plt.xlabel(\"Reconstruction error\")\n",
    "plt.legend()\n",
    "plt.show()"
   ]
  },
  {
   "cell_type": "code",
   "execution_count": 374,
   "id": "910b9ceb",
   "metadata": {},
   "outputs": [
    {
     "name": "stderr",
     "output_type": "stream",
     "text": [
      "C:\\Users\\Hasan\\AppData\\Local\\Temp\\ipykernel_24064\\1735040835.py:2: UserWarning: \n",
      "\n",
      "`distplot` is a deprecated function and will be removed in seaborn v0.14.0.\n",
      "\n",
      "Please adapt your code to use either `displot` (a figure-level function with\n",
      "similar flexibility) or `histplot` (an axes-level function for histograms).\n",
      "\n",
      "For a guide to updating your code to use the new functions, please see\n",
      "https://gist.github.com/mwaskom/de44147ed2974457ad6372750bbe5751\n",
      "\n",
      "  sns.distplot(clean[clean <= 10], bins=50, label = 'Normal')\n",
      "C:\\Users\\Hasan\\AppData\\Local\\Temp\\ipykernel_24064\\1735040835.py:3: UserWarning: \n",
      "\n",
      "`distplot` is a deprecated function and will be removed in seaborn v0.14.0.\n",
      "\n",
      "Please adapt your code to use either `displot` (a figure-level function with\n",
      "similar flexibility) or `histplot` (an axes-level function for histograms).\n",
      "\n",
      "For a guide to updating your code to use the new functions, please see\n",
      "https://gist.github.com/mwaskom/de44147ed2974457ad6372750bbe5751\n",
      "\n",
      "  sns.distplot(fraud[fraud <= 10], bins=50, label = 'Fraud')\n"
     ]
    },
    {
     "data": {
      "image/png": "[encoded data removed]",
      "text/plain": [
       "<Figure size 1000x500 with 1 Axes>"
      ]
     },
     "metadata": {},
     "output_type": "display_data"
    }
   ],
   "source": [
    "plt.figure(figsize = (10,5))\n",
    "sns.distplot(clean[clean <= 10], bins=50, label = 'Normal')\n",
    "sns.distplot(fraud[fraud <= 10], bins=50, label = 'Fraud')\n",
    "plt.legend()\n",
    "plt.show()"
   ]
  },
  {
   "cell_type": "markdown",
   "id": "8cb6c043",
   "metadata": {},
   "source": [
    "## Threshold 1: where max fraud begins"
   ]
  },
  {
   "cell_type": "code",
   "execution_count": 32,
   "id": "8128e9a5",
   "metadata": {},
   "outputs": [
    {
     "name": "stdout",
     "output_type": "stream",
     "text": [
      "Max clean bin range: (0.0127206355629393, 0.20319936467687616)\n",
      "Max fraud bin range: (0.4337258562368329, 0.6320970852336969)\n"
     ]
    }
   ],
   "source": [
    "import numpy as np\n",
    "\n",
    "# Assuming 'clean' and 'fraud' are the arrays containing your MSE values\n",
    "\n",
    "# Define the number of bins\n",
    "num_bins = 50\n",
    "\n",
    "# Calculate histograms\n",
    "clean_counts, clean_bins = np.histogram(clean[clean <= 10], bins=num_bins)\n",
    "fraud_counts, fraud_bins = np.histogram(fraud[fraud <= 10], bins=num_bins)\n",
    "\n",
    "# Find the bin with the most elements for clean data\n",
    "max_clean_bin_index = np.argmax(clean_counts)\n",
    "max_clean_bin_range = (clean_bins[max_clean_bin_index], clean_bins[max_clean_bin_index + 1])\n",
    "\n",
    "# Find the bin with the most elements for fraud data\n",
    "max_fraud_bin_index = np.argmax(fraud_counts)\n",
    "max_fraud_bin_range = (fraud_bins[max_fraud_bin_index], fraud_bins[max_fraud_bin_index + 1])\n",
    "\n",
    "print(\"Max clean bin range:\", max_clean_bin_range)\n",
    "print(\"Max fraud bin range:\", max_fraud_bin_range)"
   ]
  },
  {
   "cell_type": "code",
   "execution_count": 380,
   "id": "165323b4",
   "metadata": {},
   "outputs": [
    {
     "data": {
      "text/plain": [
       "1.6779619642376185"
      ]
     },
     "execution_count": 380,
     "metadata": {},
     "output_type": "execute_result"
    }
   ],
   "source": [
    "threshold = max_fraud_bin_range[0]\n",
    "#threshold = max_clean_bin_range[1]\n",
    "threshold"
   ]
  },
  {
   "cell_type": "markdown",
   "id": "e4002384",
   "metadata": {},
   "source": [
    "## Threshold 2: Brute-Forcing (Threshold that leads to best F1)"
   ]
  },
  {
   "cell_type": "code",
   "execution_count": 44,
   "id": "15e67611",
   "metadata": {},
   "outputs": [
    {
     "name": "stdout",
     "output_type": "stream",
     "text": [
      "Best Threshold: 0.41155114008998295\n",
      "Best F1 Score: 0.880285259194903\n"
     ]
    }
   ],
   "source": [
    "import numpy as np\n",
    "from sklearn.metrics import f1_score\n",
    "\n",
    "best_f1 = 0\n",
    "best_threshold = 0\n",
    "#c = 0\n",
    "\n",
    "# Iterate over a range of possible thresholds\n",
    "for threshold in np.linspace(min(mse), max(mse), num=1000):\n",
    "    #print(c)\n",
    "    #c = c + 1\n",
    "    \n",
    "    # Predict anomalies based on the threshold\n",
    "    y_pred = (mse > threshold).astype(int)\n",
    "    \n",
    "    # Calculate F1 score\n",
    "    current_f1 = f1_score(y_test, y_pred)\n",
    "    \n",
    "    # Update the best threshold if current F1 score is higher\n",
    "    if current_f1 > best_f1:\n",
    "        best_f1 = current_f1\n",
    "        best_threshold = threshold\n",
    "\n",
    "print(f\"Best Threshold: {best_threshold}\")\n",
    "print(f\"Best F1 Score: {best_f1}\")"
   ]
  },
  {
   "cell_type": "code",
   "execution_count": 45,
   "id": "eb5b5277",
   "metadata": {},
   "outputs": [],
   "source": [
    "threshold = best_threshold"
   ]
  },
  {
   "cell_type": "markdown",
   "id": "721daf52",
   "metadata": {},
   "source": [
    "## Threshold 3: manually through (visual) inspection"
   ]
  },
  {
   "cell_type": "code",
   "execution_count": 51,
   "id": "a9e9fea7",
   "metadata": {},
   "outputs": [],
   "source": [
    "# Manually:\n",
    "# threshold = 0.7"
   ]
  },
  {
   "cell_type": "markdown",
   "id": "aefb6fc1",
   "metadata": {},
   "source": [
    "### Classification"
   ]
  },
  {
   "cell_type": "code",
   "execution_count": 46,
   "id": "d3b1e6e8",
   "metadata": {},
   "outputs": [
    {
     "name": "stdout",
     "output_type": "stream",
     "text": [
      "Number of outliers:  26816\n"
     ]
    }
   ],
   "source": [
    "outliers = mse > threshold\n",
    "print(\"Number of outliers: \", sum(outliers))"
   ]
  },
  {
   "cell_type": "code",
   "execution_count": 47,
   "id": "5a65d6d6",
   "metadata": {},
   "outputs": [],
   "source": [
    "y_pred = outliers\n",
    "# Convert predictions to match y_test labels (1 for anomalies, 0 for normal)\n",
    "y_pred = y_pred.astype(int)"
   ]
  },
  {
   "cell_type": "code",
   "execution_count": 48,
   "id": "59d54dca",
   "metadata": {},
   "outputs": [
    {
     "name": "stdout",
     "output_type": "stream",
     "text": [
      "Basic Evaluation Metrics:\n",
      "Precision: 0.9068093675417661\n",
      "Recall: 0.8552687113111986\n",
      "F1-Score: 0.880285259194903\n",
      "MCC: 0.7686172970489499\n"
     ]
    },
    {
     "data": {
      "image/png": "[encoded data removed]",
      "text/plain": [
       "<Figure size 640x480 with 2 Axes>"
      ]
     },
     "metadata": {},
     "output_type": "display_data"
    },
    {
     "data": {
      "image/png": "[encoded data removed]",
      "text/plain": [
       "<Figure size 600x600 with 1 Axes>"
      ]
     },
     "metadata": {},
     "output_type": "display_data"
    },
    {
     "data": {
      "image/png": "[encoded data removed]",
      "text/plain": [
       "<Figure size 600x600 with 1 Axes>"
      ]
     },
     "metadata": {},
     "output_type": "display_data"
    },
    {
     "name": "stdout",
     "output_type": "stream",
     "text": [
      "              precision    recall  f1-score   support\n",
      "\n",
      "           0       0.86      0.91      0.89     28432\n",
      "           1       0.91      0.86      0.88     28432\n",
      "\n",
      "    accuracy                           0.88     56864\n",
      "   macro avg       0.88      0.88      0.88     56864\n",
      "weighted avg       0.88      0.88      0.88     56864\n",
      "\n"
     ]
    },
    {
     "data": {
      "text/plain": [
       "{'precision': 0.9068093675417661,\n",
       " 'recall': 0.8552687113111986,\n",
       " 'f1_score': 0.880285259194903,\n",
       " 'mcc': 0.7686172970489499}"
      ]
     },
     "execution_count": 48,
     "metadata": {},
     "output_type": "execute_result"
    }
   ],
   "source": [
    "from evaluation import ModelEvaluator\n",
    "\n",
    "evaluator = ModelEvaluator(y_test, y_pred, mse)\n",
    "evaluator.full_report()"
   ]
  },
  {
   "cell_type": "markdown",
   "id": "ab07062e",
   "metadata": {},
   "source": [
    "# Variational Autoencoder"
   ]
  },
  {
   "cell_type": "code",
   "execution_count": 22,
   "id": "df4d41f9",
   "metadata": {},
   "outputs": [],
   "source": [
    "import torch\n",
    "import torch.nn as nn\n",
    "import torch.optim as optim\n",
    "\n",
    "class VariationalAutoencoder(nn.Module):\n",
    "    def __init__(self, input_dim):\n",
    "        super(VariationalAutoencoder, self).__init__()\n",
    "        # Encoder\n",
    "        self.fc1 = nn.Linear(input_dim, input_dim)\n",
    "        self.fc2 = nn.Linear(input_dim, 16)\n",
    "        self.fc31 = nn.Linear(16, 8)  # Mean of the latent space\n",
    "        self.fc32 = nn.Linear(16, 8)  # Standard deviation of the latent space\n",
    "\n",
    "        # Decoder\n",
    "        self.fc4 = nn.Linear(8, 16)\n",
    "        self.fc5 = nn.Linear(16, input_dim)\n",
    "\n",
    "    def encode(self, x):\n",
    "        h1 = nn.functional.elu(self.fc1(x))\n",
    "        h2 = nn.functional.elu(self.fc2(h1))\n",
    "        return self.fc31(h2), self.fc32(h2)\n",
    "\n",
    "    def reparameterize(self, mu, log_var):\n",
    "        std = torch.exp(0.5*log_var)\n",
    "        eps = torch.randn_like(std)\n",
    "        return mu + eps*std\n",
    "\n",
    "    def decode(self, z):\n",
    "        h3 = nn.functional.elu(self.fc4(z))\n",
    "        return torch.sigmoid(self.fc5(h3))\n",
    "\n",
    "    def forward(self, x):\n",
    "        mu, log_var = self.encode(x.view(-1, input_dim))\n",
    "        z = self.reparameterize(mu, log_var)\n",
    "        return self.decode(z), mu, log_var"
   ]
  },
  {
   "cell_type": "code",
   "execution_count": 12,
   "id": "ccbb1595",
   "metadata": {},
   "outputs": [],
   "source": [
    "import torch\n",
    "import torch.nn as nn\n",
    "import torch.optim as optim\n",
    "\n",
    "class VariationalAutoencoder(nn.Module):\n",
    "    def __init__(self, input_dim):\n",
    "        super(VariationalAutoencoder, self).__init__()\n",
    "        # Encoder\n",
    "        self.fc1 = nn.Linear(input_dim, input_dim)\n",
    "        self.fc2 = nn.Linear(input_dim, 16)\n",
    "        self.fc31 = nn.Linear(16, 8)  # Mean of the latent space\n",
    "        self.fc32 = nn.Linear(16, 8)  # Standard deviation of the latent space\n",
    "\n",
    "        # Decoder\n",
    "        self.fc4 = nn.Linear(8, 16)\n",
    "        self.fc5 = nn.Linear(16, input_dim)\n",
    "\n",
    "    def encode(self, x):\n",
    "        h1 = nn.functional.relu(self.fc1(x))\n",
    "        h2 = nn.functional.relu(self.fc2(h1))\n",
    "        return self.fc31(h2), self.fc32(h2)\n",
    "\n",
    "    def reparameterize(self, mu, log_var):\n",
    "        std = torch.exp(0.5*log_var)\n",
    "        eps = torch.randn_like(std)\n",
    "        return mu + eps*std\n",
    "\n",
    "    def decode(self, z):\n",
    "        h3 = nn.functional.relu(self.fc4(z))\n",
    "        return torch.sigmoid(self.fc5(h3))\n",
    "\n",
    "    def forward(self, x):\n",
    "        mu, log_var = self.encode(x.view(-1, input_dim))\n",
    "        z = self.reparameterize(mu, log_var)\n",
    "        return self.decode(z), mu, log_var"
   ]
  },
  {
   "cell_type": "code",
   "execution_count": 13,
   "id": "faa5f220",
   "metadata": {},
   "outputs": [],
   "source": [
    "# Parameters\n",
    "input_dim = X_train_transformed.shape[1]\n",
    "\n",
    "# Create the model\n",
    "vae = VariationalAutoencoder(input_dim)\n",
    "\n",
    "# Define optimizer and modified loss function\n",
    "optimizer = optim.Adam(vae.parameters(), lr=0.001)\n",
    "\n",
    "# Loss function\n",
    "def loss_function(recon_x, x, mu, log_var):\n",
    "    BCE = nn.functional.binary_cross_entropy(recon_x, x.view(-1, input_dim), reduction='sum')\n",
    "    KLD = -0.5 * torch.sum(1 + log_var - mu.pow(2) - log_var.exp())\n",
    "    return BCE + KLD\n",
    "\n",
    "# using GPU\n",
    "device = torch.device(\"cuda\" if torch.cuda.is_available() else \"cpu\")\n",
    "vae = vae.to(device)"
   ]
  },
  {
   "cell_type": "code",
   "execution_count": 12,
   "id": "6167bfe9",
   "metadata": {},
   "outputs": [],
   "source": [
    "import torch\n",
    "import torch.nn as nn\n",
    "import torch.optim as optim\n",
    "\n",
    "class VariationalAutoencoder(nn.Module):\n",
    "    def __init__(self, input_dim):\n",
    "        super(VariationalAutoencoder, self).__init__()\n",
    "        # Encoder\n",
    "        self.encoder = nn.Sequential(\n",
    "            nn.Linear(input_dim, input_dim),\n",
    "            nn.LeakyReLU(0.2),\n",
    "            nn.Linear(input_dim, 16),\n",
    "            nn.LeakyReLU(0.2)\n",
    "        )\n",
    "        \n",
    "        # latent mean and variance\n",
    "        self.mean_layer = nn.Linear(16, 2)\n",
    "        self.logvar_layer = nn.Linear(16, 2)\n",
    "\n",
    "        # Decoder\n",
    "        self.fc3 = nn.Linear(16, input_dim)\n",
    "        self.decoder = nn.Sequential(\n",
    "            nn.Linear(2, 16),\n",
    "            nn.LeakyReLU(0.2),\n",
    "            nn.Linear(16, input_dim),\n",
    "            nn.Sigmoid()\n",
    "        )\n",
    "\n",
    "    def encode(self, x):\n",
    "        x = self.encoder(x)\n",
    "        mean, logvar = self.mean_layer(x), self.logvar_layer(x)\n",
    "        return mean, logvar\n",
    "\n",
    "    def reparameterize(self, mean, logvar):\n",
    "        std = torch.exp(0.5 * logvar)  # Convert log variance to standard deviation\n",
    "        epsilon = torch.randn_like(std)  # No need to specify device here; it will be the same as `std`\n",
    "        return mean + epsilon * std\n",
    "\n",
    "\n",
    "    def decode(self, x):\n",
    "        return self.decoder(x)\n",
    "\n",
    "    def forward(self, x):\n",
    "        mean, logvar = self.encode(x)\n",
    "        z = self.reparameterize(mean, logvar)\n",
    "        x_hat = self.decode(z)\n",
    "        return x_hat, mean, logvar"
   ]
  },
  {
   "cell_type": "code",
   "execution_count": 13,
   "id": "eae38ac3",
   "metadata": {},
   "outputs": [],
   "source": [
    "# Parameters\n",
    "input_dim = X_train_transformed.shape[1]\n",
    "\n",
    "# Create the model\n",
    "vae = VariationalAutoencoder(input_dim)\n",
    "\n",
    "# Define optimizer and modified loss function\n",
    "optimizer = optim.Adam(vae.parameters(), lr=0.001)\n",
    "\n",
    "def loss_function(x, x_hat, mean, log_var):\n",
    "    reproduction_loss = nn.functional.binary_cross_entropy(x_hat, x, reduction='sum')\n",
    "    KLD = - 0.5 * torch.sum(1+ log_var - mean.pow(2) - log_var.exp())\n",
    "\n",
    "    return reproduction_loss + KLD"
   ]
  },
  {
   "cell_type": "code",
   "execution_count": 14,
   "id": "e69a0d6a",
   "metadata": {},
   "outputs": [],
   "source": [
    "# using GPU\n",
    "device = torch.device(\"cuda\" if torch.cuda.is_available() else \"cpu\")\n",
    "vae = vae.to(device)"
   ]
  },
  {
   "cell_type": "code",
   "execution_count": 15,
   "id": "177a812e",
   "metadata": {},
   "outputs": [],
   "source": [
    "# Early stopping parameters\n",
    "patience = 10  # Number of epochs to wait for improvement before stopping\n",
    "min_delta = 0.001  # Minimum change to qualify as an improvement\n",
    "best_loss = float('inf')\n",
    "counter = 0"
   ]
  },
  {
   "cell_type": "code",
   "execution_count": 16,
   "id": "17f68433",
   "metadata": {},
   "outputs": [
    {
     "name": "stdout",
     "output_type": "stream",
     "text": [
      "Epoch [1/100], Train Loss: -195.12327695, Val Loss: -222.45490971\n",
      "Epoch [2/100], Train Loss: -244.79831573, Val Loss: -271.04282815\n",
      "Epoch [3/100], Train Loss: -288.50596696, Val Loss: -312.59349552\n",
      "Epoch [4/100], Train Loss: -327.58399481, Val Loss: -342.34437528\n",
      "Epoch [5/100], Train Loss: -349.43389462, Val Loss: -353.29532370\n",
      "Epoch [6/100], Train Loss: -362.33366444, Val Loss: -373.25743529\n",
      "Epoch [7/100], Train Loss: -377.25751279, Val Loss: -382.78001043\n",
      "Epoch [8/100], Train Loss: -389.47183596, Val Loss: -395.05178733\n",
      "Epoch [9/100], Train Loss: -400.82464873, Val Loss: -410.07172442\n",
      "Epoch [10/100], Train Loss: -413.32329719, Val Loss: -420.90080108\n",
      "Epoch [11/100], Train Loss: -425.69914666, Val Loss: -435.75905894\n",
      "Epoch [12/100], Train Loss: -448.78136354, Val Loss: -463.38188465\n",
      "Epoch [13/100], Train Loss: -466.47015697, Val Loss: -473.76032248\n",
      "Epoch [14/100], Train Loss: -477.70702900, Val Loss: -485.78018202\n",
      "Epoch [15/100], Train Loss: -486.43088514, Val Loss: -487.77634072\n",
      "Epoch [16/100], Train Loss: -489.73205078, Val Loss: -491.73303162\n",
      "Epoch [17/100], Train Loss: -493.07008569, Val Loss: -495.05872587\n",
      "Epoch [18/100], Train Loss: -496.01423142, Val Loss: -499.98084772\n",
      "Epoch [19/100], Train Loss: -498.07245051, Val Loss: -499.35508612\n",
      "Epoch [20/100], Train Loss: -500.24632407, Val Loss: -504.47100458\n",
      "Epoch [21/100], Train Loss: -502.39050661, Val Loss: -504.19994913\n",
      "Epoch [22/100], Train Loss: -505.48887913, Val Loss: -506.69225388\n",
      "Epoch [23/100], Train Loss: -507.01157930, Val Loss: -506.78547263\n",
      "Epoch [24/100], Train Loss: -509.11956610, Val Loss: -512.06466482\n",
      "Epoch [25/100], Train Loss: -511.41199463, Val Loss: -513.13303049\n",
      "Epoch [26/100], Train Loss: -514.09873718, Val Loss: -516.98235856\n",
      "Epoch [27/100], Train Loss: -516.88440778, Val Loss: -515.77505993\n"
     ]
    },
    {
     "ename": "KeyboardInterrupt",
     "evalue": "",
     "output_type": "error",
     "traceback": [
      "\u001b[1;31m---------------------------------------------------------------------------\u001b[0m",
      "\u001b[1;31mKeyboardInterrupt\u001b[0m                         Traceback (most recent call last)",
      "Cell \u001b[1;32mIn[16], line 4\u001b[0m\n\u001b[0;32m      2\u001b[0m vae\u001b[38;5;241m.\u001b[39mtrain()\n\u001b[0;32m      3\u001b[0m train_loss \u001b[38;5;241m=\u001b[39m \u001b[38;5;241m0\u001b[39m\n\u001b[1;32m----> 4\u001b[0m \u001b[38;5;28;01mfor\u001b[39;00m inputs, _ \u001b[38;5;129;01min\u001b[39;00m train_loader:  \u001b[38;5;66;03m# _ since inputs are the same as targets\u001b[39;00m\n\u001b[0;32m      5\u001b[0m     inputs \u001b[38;5;241m=\u001b[39m inputs\u001b[38;5;241m.\u001b[39mto(device)\n\u001b[0;32m      6\u001b[0m     optimizer\u001b[38;5;241m.\u001b[39mzero_grad()\n",
      "File \u001b[1;32m~\\anaconda3\\envs\\pytorch3\\lib\\site-packages\\torch\\utils\\data\\dataloader.py:628\u001b[0m, in \u001b[0;36m_BaseDataLoaderIter.__next__\u001b[1;34m(self)\u001b[0m\n\u001b[0;32m    625\u001b[0m \u001b[38;5;28;01mif\u001b[39;00m \u001b[38;5;28mself\u001b[39m\u001b[38;5;241m.\u001b[39m_sampler_iter \u001b[38;5;129;01mis\u001b[39;00m \u001b[38;5;28;01mNone\u001b[39;00m:\n\u001b[0;32m    626\u001b[0m     \u001b[38;5;66;03m# TODO(https://github.com/pytorch/pytorch/issues/76750)\u001b[39;00m\n\u001b[0;32m    627\u001b[0m     \u001b[38;5;28mself\u001b[39m\u001b[38;5;241m.\u001b[39m_reset()  \u001b[38;5;66;03m# type: ignore[call-arg]\u001b[39;00m\n\u001b[1;32m--> 628\u001b[0m data \u001b[38;5;241m=\u001b[39m \u001b[38;5;28;43mself\u001b[39;49m\u001b[38;5;241;43m.\u001b[39;49m\u001b[43m_next_data\u001b[49m\u001b[43m(\u001b[49m\u001b[43m)\u001b[49m\n\u001b[0;32m    629\u001b[0m \u001b[38;5;28mself\u001b[39m\u001b[38;5;241m.\u001b[39m_num_yielded \u001b[38;5;241m+\u001b[39m\u001b[38;5;241m=\u001b[39m \u001b[38;5;241m1\u001b[39m\n\u001b[0;32m    630\u001b[0m \u001b[38;5;28;01mif\u001b[39;00m \u001b[38;5;28mself\u001b[39m\u001b[38;5;241m.\u001b[39m_dataset_kind \u001b[38;5;241m==\u001b[39m _DatasetKind\u001b[38;5;241m.\u001b[39mIterable \u001b[38;5;129;01mand\u001b[39;00m \\\n\u001b[0;32m    631\u001b[0m         \u001b[38;5;28mself\u001b[39m\u001b[38;5;241m.\u001b[39m_IterableDataset_len_called \u001b[38;5;129;01mis\u001b[39;00m \u001b[38;5;129;01mnot\u001b[39;00m \u001b[38;5;28;01mNone\u001b[39;00m \u001b[38;5;129;01mand\u001b[39;00m \\\n\u001b[0;32m    632\u001b[0m         \u001b[38;5;28mself\u001b[39m\u001b[38;5;241m.\u001b[39m_num_yielded \u001b[38;5;241m>\u001b[39m \u001b[38;5;28mself\u001b[39m\u001b[38;5;241m.\u001b[39m_IterableDataset_len_called:\n",
      "File \u001b[1;32m~\\anaconda3\\envs\\pytorch3\\lib\\site-packages\\torch\\utils\\data\\dataloader.py:671\u001b[0m, in \u001b[0;36m_SingleProcessDataLoaderIter._next_data\u001b[1;34m(self)\u001b[0m\n\u001b[0;32m    669\u001b[0m \u001b[38;5;28;01mdef\u001b[39;00m \u001b[38;5;21m_next_data\u001b[39m(\u001b[38;5;28mself\u001b[39m):\n\u001b[0;32m    670\u001b[0m     index \u001b[38;5;241m=\u001b[39m \u001b[38;5;28mself\u001b[39m\u001b[38;5;241m.\u001b[39m_next_index()  \u001b[38;5;66;03m# may raise StopIteration\u001b[39;00m\n\u001b[1;32m--> 671\u001b[0m     data \u001b[38;5;241m=\u001b[39m \u001b[38;5;28;43mself\u001b[39;49m\u001b[38;5;241;43m.\u001b[39;49m\u001b[43m_dataset_fetcher\u001b[49m\u001b[38;5;241;43m.\u001b[39;49m\u001b[43mfetch\u001b[49m\u001b[43m(\u001b[49m\u001b[43mindex\u001b[49m\u001b[43m)\u001b[49m  \u001b[38;5;66;03m# may raise StopIteration\u001b[39;00m\n\u001b[0;32m    672\u001b[0m     \u001b[38;5;28;01mif\u001b[39;00m \u001b[38;5;28mself\u001b[39m\u001b[38;5;241m.\u001b[39m_pin_memory:\n\u001b[0;32m    673\u001b[0m         data \u001b[38;5;241m=\u001b[39m _utils\u001b[38;5;241m.\u001b[39mpin_memory\u001b[38;5;241m.\u001b[39mpin_memory(data, \u001b[38;5;28mself\u001b[39m\u001b[38;5;241m.\u001b[39m_pin_memory_device)\n",
      "File \u001b[1;32m~\\anaconda3\\envs\\pytorch3\\lib\\site-packages\\torch\\utils\\data\\_utils\\fetch.py:61\u001b[0m, in \u001b[0;36m_MapDatasetFetcher.fetch\u001b[1;34m(self, possibly_batched_index)\u001b[0m\n\u001b[0;32m     59\u001b[0m \u001b[38;5;28;01melse\u001b[39;00m:\n\u001b[0;32m     60\u001b[0m     data \u001b[38;5;241m=\u001b[39m \u001b[38;5;28mself\u001b[39m\u001b[38;5;241m.\u001b[39mdataset[possibly_batched_index]\n\u001b[1;32m---> 61\u001b[0m \u001b[38;5;28;01mreturn\u001b[39;00m \u001b[38;5;28;43mself\u001b[39;49m\u001b[38;5;241;43m.\u001b[39;49m\u001b[43mcollate_fn\u001b[49m\u001b[43m(\u001b[49m\u001b[43mdata\u001b[49m\u001b[43m)\u001b[49m\n",
      "File \u001b[1;32m~\\anaconda3\\envs\\pytorch3\\lib\\site-packages\\torch\\utils\\data\\_utils\\collate.py:265\u001b[0m, in \u001b[0;36mdefault_collate\u001b[1;34m(batch)\u001b[0m\n\u001b[0;32m    204\u001b[0m \u001b[38;5;28;01mdef\u001b[39;00m \u001b[38;5;21mdefault_collate\u001b[39m(batch):\n\u001b[0;32m    205\u001b[0m \u001b[38;5;250m    \u001b[39m\u001b[38;5;124mr\u001b[39m\u001b[38;5;124;03m\"\"\"\u001b[39;00m\n\u001b[0;32m    206\u001b[0m \u001b[38;5;124;03m        Function that takes in a batch of data and puts the elements within the batch\u001b[39;00m\n\u001b[0;32m    207\u001b[0m \u001b[38;5;124;03m        into a tensor with an additional outer dimension - batch size. The exact output type can be\u001b[39;00m\n\u001b[1;32m   (...)\u001b[0m\n\u001b[0;32m    263\u001b[0m \u001b[38;5;124;03m            >>> default_collate(batch)  # Handle `CustomType` automatically\u001b[39;00m\n\u001b[0;32m    264\u001b[0m \u001b[38;5;124;03m    \"\"\"\u001b[39;00m\n\u001b[1;32m--> 265\u001b[0m     \u001b[38;5;28;01mreturn\u001b[39;00m \u001b[43mcollate\u001b[49m\u001b[43m(\u001b[49m\u001b[43mbatch\u001b[49m\u001b[43m,\u001b[49m\u001b[43m \u001b[49m\u001b[43mcollate_fn_map\u001b[49m\u001b[38;5;241;43m=\u001b[39;49m\u001b[43mdefault_collate_fn_map\u001b[49m\u001b[43m)\u001b[49m\n",
      "File \u001b[1;32m~\\anaconda3\\envs\\pytorch3\\lib\\site-packages\\torch\\utils\\data\\_utils\\collate.py:143\u001b[0m, in \u001b[0;36mcollate\u001b[1;34m(batch, collate_fn_map)\u001b[0m\n\u001b[0;32m    140\u001b[0m transposed \u001b[38;5;241m=\u001b[39m \u001b[38;5;28mlist\u001b[39m(\u001b[38;5;28mzip\u001b[39m(\u001b[38;5;241m*\u001b[39mbatch))  \u001b[38;5;66;03m# It may be accessed twice, so we use a list.\u001b[39;00m\n\u001b[0;32m    142\u001b[0m \u001b[38;5;28;01mif\u001b[39;00m \u001b[38;5;28misinstance\u001b[39m(elem, \u001b[38;5;28mtuple\u001b[39m):\n\u001b[1;32m--> 143\u001b[0m     \u001b[38;5;28;01mreturn\u001b[39;00m [collate(samples, collate_fn_map\u001b[38;5;241m=\u001b[39mcollate_fn_map) \u001b[38;5;28;01mfor\u001b[39;00m samples \u001b[38;5;129;01min\u001b[39;00m transposed]  \u001b[38;5;66;03m# Backwards compatibility.\u001b[39;00m\n\u001b[0;32m    144\u001b[0m \u001b[38;5;28;01melse\u001b[39;00m:\n\u001b[0;32m    145\u001b[0m     \u001b[38;5;28;01mtry\u001b[39;00m:\n",
      "File \u001b[1;32m~\\anaconda3\\envs\\pytorch3\\lib\\site-packages\\torch\\utils\\data\\_utils\\collate.py:143\u001b[0m, in \u001b[0;36m<listcomp>\u001b[1;34m(.0)\u001b[0m\n\u001b[0;32m    140\u001b[0m transposed \u001b[38;5;241m=\u001b[39m \u001b[38;5;28mlist\u001b[39m(\u001b[38;5;28mzip\u001b[39m(\u001b[38;5;241m*\u001b[39mbatch))  \u001b[38;5;66;03m# It may be accessed twice, so we use a list.\u001b[39;00m\n\u001b[0;32m    142\u001b[0m \u001b[38;5;28;01mif\u001b[39;00m \u001b[38;5;28misinstance\u001b[39m(elem, \u001b[38;5;28mtuple\u001b[39m):\n\u001b[1;32m--> 143\u001b[0m     \u001b[38;5;28;01mreturn\u001b[39;00m [\u001b[43mcollate\u001b[49m\u001b[43m(\u001b[49m\u001b[43msamples\u001b[49m\u001b[43m,\u001b[49m\u001b[43m \u001b[49m\u001b[43mcollate_fn_map\u001b[49m\u001b[38;5;241;43m=\u001b[39;49m\u001b[43mcollate_fn_map\u001b[49m\u001b[43m)\u001b[49m \u001b[38;5;28;01mfor\u001b[39;00m samples \u001b[38;5;129;01min\u001b[39;00m transposed]  \u001b[38;5;66;03m# Backwards compatibility.\u001b[39;00m\n\u001b[0;32m    144\u001b[0m \u001b[38;5;28;01melse\u001b[39;00m:\n\u001b[0;32m    145\u001b[0m     \u001b[38;5;28;01mtry\u001b[39;00m:\n",
      "File \u001b[1;32m~\\anaconda3\\envs\\pytorch3\\lib\\site-packages\\torch\\utils\\data\\_utils\\collate.py:120\u001b[0m, in \u001b[0;36mcollate\u001b[1;34m(batch, collate_fn_map)\u001b[0m\n\u001b[0;32m    118\u001b[0m \u001b[38;5;28;01mif\u001b[39;00m collate_fn_map \u001b[38;5;129;01mis\u001b[39;00m \u001b[38;5;129;01mnot\u001b[39;00m \u001b[38;5;28;01mNone\u001b[39;00m:\n\u001b[0;32m    119\u001b[0m     \u001b[38;5;28;01mif\u001b[39;00m elem_type \u001b[38;5;129;01min\u001b[39;00m collate_fn_map:\n\u001b[1;32m--> 120\u001b[0m         \u001b[38;5;28;01mreturn\u001b[39;00m \u001b[43mcollate_fn_map\u001b[49m\u001b[43m[\u001b[49m\u001b[43melem_type\u001b[49m\u001b[43m]\u001b[49m\u001b[43m(\u001b[49m\u001b[43mbatch\u001b[49m\u001b[43m,\u001b[49m\u001b[43m \u001b[49m\u001b[43mcollate_fn_map\u001b[49m\u001b[38;5;241;43m=\u001b[39;49m\u001b[43mcollate_fn_map\u001b[49m\u001b[43m)\u001b[49m\n\u001b[0;32m    122\u001b[0m     \u001b[38;5;28;01mfor\u001b[39;00m collate_type \u001b[38;5;129;01min\u001b[39;00m collate_fn_map:\n\u001b[0;32m    123\u001b[0m         \u001b[38;5;28;01mif\u001b[39;00m \u001b[38;5;28misinstance\u001b[39m(elem, collate_type):\n",
      "File \u001b[1;32m~\\anaconda3\\envs\\pytorch3\\lib\\site-packages\\torch\\utils\\data\\_utils\\collate.py:163\u001b[0m, in \u001b[0;36mcollate_tensor_fn\u001b[1;34m(batch, collate_fn_map)\u001b[0m\n\u001b[0;32m    161\u001b[0m     storage \u001b[38;5;241m=\u001b[39m elem\u001b[38;5;241m.\u001b[39mstorage()\u001b[38;5;241m.\u001b[39m_new_shared(numel, device\u001b[38;5;241m=\u001b[39melem\u001b[38;5;241m.\u001b[39mdevice)\n\u001b[0;32m    162\u001b[0m     out \u001b[38;5;241m=\u001b[39m elem\u001b[38;5;241m.\u001b[39mnew(storage)\u001b[38;5;241m.\u001b[39mresize_(\u001b[38;5;28mlen\u001b[39m(batch), \u001b[38;5;241m*\u001b[39m\u001b[38;5;28mlist\u001b[39m(elem\u001b[38;5;241m.\u001b[39msize()))\n\u001b[1;32m--> 163\u001b[0m \u001b[38;5;28;01mreturn\u001b[39;00m \u001b[43mtorch\u001b[49m\u001b[38;5;241;43m.\u001b[39;49m\u001b[43mstack\u001b[49m\u001b[43m(\u001b[49m\u001b[43mbatch\u001b[49m\u001b[43m,\u001b[49m\u001b[43m \u001b[49m\u001b[38;5;241;43m0\u001b[39;49m\u001b[43m,\u001b[49m\u001b[43m \u001b[49m\u001b[43mout\u001b[49m\u001b[38;5;241;43m=\u001b[39;49m\u001b[43mout\u001b[49m\u001b[43m)\u001b[49m\n",
      "\u001b[1;31mKeyboardInterrupt\u001b[0m: "
     ]
    }
   ],
   "source": [
    "for epoch in range(epochs):\n",
    "    vae.train()\n",
    "    train_loss = 0\n",
    "    for inputs, _ in train_loader:  # _ since inputs are the same as targets\n",
    "        inputs = inputs.to(device)\n",
    "        optimizer.zero_grad()\n",
    "        recon_batch, mu, log_var = vae(inputs)\n",
    "        loss = loss_function(recon_batch, inputs, mu, log_var)\n",
    "        loss.backward()\n",
    "        train_loss += loss.item()\n",
    "        optimizer.step()\n",
    "\n",
    "    train_loss /= len(train_loader.dataset)\n",
    "\n",
    "    # Validation\n",
    "    vae.eval()\n",
    "    val_loss = 0\n",
    "    with torch.no_grad():\n",
    "        for inputs, _ in val_loader:  # _ since inputs are the same as targets\n",
    "            inputs = inputs.to(device)\n",
    "            recon_batch, mu, log_var = vae(inputs)\n",
    "            val_loss += loss_function(recon_batch, inputs, mu, log_var).item()\n",
    "\n",
    "    val_loss /= len(val_loader.dataset)\n",
    "    print(f'Epoch [{epoch+1}/{epochs}], Train Loss: {train_loss:.8f}, Val Loss: {val_loss:.8f}')\n",
    "\n",
    "    # Early stopping check\n",
    "    if best_loss - val_loss > min_delta:\n",
    "        best_loss = val_loss\n",
    "        counter = 0\n",
    "        torch.save(vae.state_dict(), 'best_vae.pth')\n",
    "    else:\n",
    "        counter += 1\n",
    "\n",
    "    if counter >= patience:\n",
    "        print(f'Early stopping triggered after {epoch + 1} epochs')\n",
    "        break"
   ]
  },
  {
   "cell_type": "code",
   "execution_count": 17,
   "id": "4b2d8573",
   "metadata": {},
   "outputs": [],
   "source": [
    "X_test_tensor = torch.Tensor(X_test_transformed).to(device)"
   ]
  },
  {
   "cell_type": "code",
   "execution_count": 18,
   "id": "8d3a78e5",
   "metadata": {},
   "outputs": [],
   "source": [
    "vae.eval()\n",
    "with torch.no_grad():\n",
    "    reconstructions, _, _ = vae(X_test_tensor)  # Ignore mean and logvar for now\n",
    "    reconstructions = reconstructions.cpu().numpy()"
   ]
  },
  {
   "cell_type": "code",
   "execution_count": 19,
   "id": "3c54e26f",
   "metadata": {},
   "outputs": [],
   "source": [
    "mse = np.mean(np.power(X_test_transformed - reconstructions, 2), axis=1)"
   ]
  },
  {
   "cell_type": "code",
   "execution_count": 24,
   "id": "c8757144",
   "metadata": {},
   "outputs": [],
   "source": [
    "threshold = np.percentile(mse, 50)  # You might need to adjust this\n",
    "outliers = mse > threshold\n",
    "y_pred = outliers.astype(int)"
   ]
  },
  {
   "cell_type": "code",
   "execution_count": 31,
   "id": "b35eefd5",
   "metadata": {},
   "outputs": [
    {
     "name": "stdout",
     "output_type": "stream",
     "text": [
      "Basic Evaluation Metrics:\n",
      "Precision: 0.8090180078784468\n",
      "Recall: 0.8090180078784468\n",
      "F1-Score: 0.8090180078784469\n",
      "AUC-ROC: 0.8090180078784468\n"
     ]
    },
    {
     "data": {
      "image/png": "[encoded data removed]",
      "text/plain": [
       "<Figure size 600x600 with 1 Axes>"
      ]
     },
     "metadata": {},
     "output_type": "display_data"
    },
    {
     "data": {
      "image/png": "[encoded data removed]",
      "text/plain": [
       "<Figure size 600x600 with 1 Axes>"
      ]
     },
     "metadata": {},
     "output_type": "display_data"
    },
    {
     "name": "stdout",
     "output_type": "stream",
     "text": [
      "              precision    recall  f1-score   support\n",
      "\n",
      "           0       0.81      0.81      0.81     28432\n",
      "           1       0.81      0.81      0.81     28432\n",
      "\n",
      "    accuracy                           0.81     56864\n",
      "   macro avg       0.81      0.81      0.81     56864\n",
      "weighted avg       0.81      0.81      0.81     56864\n",
      "\n"
     ]
    }
   ],
   "source": [
    "from evaluation import ModelEvaluator\n",
    "\n",
    "evaluator = ModelEvaluator(y_test, y_pred)\n",
    "evaluator.full_report()"
   ]
  },
  {
   "cell_type": "code",
   "execution_count": 38,
   "id": "1bdd79f4",
   "metadata": {},
   "outputs": [],
   "source": [
    "from sklearn.metrics import (\n",
    "    precision_score,\n",
    "    recall_score,\n",
    "    f1_score,\n",
    "    roc_auc_score,\n",
    "    classification_report,\n",
    "    roc_curve,\n",
    "    auc,\n",
    "    precision_recall_curve\n",
    ")\n",
    "\n",
    "def plot_roc_curve(y_true, y_scores):\n",
    "    fpr, tpr, _ = roc_curve(y_true, y_scores)\n",
    "    roc_auc = auc(fpr, tpr)\n",
    "\n",
    "    plt.figure(figsize=(6, 6))\n",
    "    plt.plot(fpr, tpr, color='darkorange', lw=2, label=f'ROC curve (area = {roc_auc:.2f})')\n",
    "    plt.plot([0, 1], [0, 1], color='navy', lw=2, linestyle='--')\n",
    "    plt.xlabel('False Positive Rate')\n",
    "    plt.ylabel('True Positive Rate')\n",
    "    plt.title('Receiver Operating Characteristic')\n",
    "    plt.legend(loc=\"lower right\")\n",
    "    plt.show()\n",
    "\n",
    "def plot_precision_recall_curve(y_true, y_scores):\n",
    "    precision, recall, _ = precision_recall_curve(y_true, y_scores)\n",
    "    pr_auc = auc(recall, precision)\n",
    "\n",
    "    plt.figure(figsize=(6, 6))\n",
    "    plt.plot(recall, precision, color='blue', lw=2, label=f'PR curve (area = {pr_auc:.2f})')\n",
    "    plt.xlabel('Recall')\n",
    "    plt.ylabel('Precision')\n",
    "    plt.title('Precision-Recall curve')\n",
    "    plt.legend(loc=\"upper right\")\n",
    "    plt.show()"
   ]
  },
  {
   "cell_type": "code",
   "execution_count": 39,
   "id": "21fe5095",
   "metadata": {},
   "outputs": [
    {
     "data": {
      "image/png": "[encoded data removed]",
      "text/plain": [
       "<Figure size 600x600 with 1 Axes>"
      ]
     },
     "metadata": {},
     "output_type": "display_data"
    }
   ],
   "source": [
    "plot_roc_curve(y_test, mse)"
   ]
  },
  {
   "cell_type": "code",
   "execution_count": 35,
   "id": "260f2baf",
   "metadata": {},
   "outputs": [
    {
     "data": {
      "image/png": "[encoded data removed]",
      "text/plain": [
       "<Figure size 600x600 with 1 Axes>"
      ]
     },
     "metadata": {},
     "output_type": "display_data"
    }
   ],
   "source": [
    "plot_precision_recall_curve(y_test, mse)"
   ]
  },
  {
   "cell_type": "code",
   "execution_count": 22,
   "id": "4a5a5a5b",
   "metadata": {},
   "outputs": [
    {
     "data": {
      "image/png": "[encoded data removed]",
      "text/plain": [
       "<Figure size 600x600 with 1 Axes>"
      ]
     },
     "metadata": {},
     "output_type": "display_data"
    }
   ],
   "source": [
    "# Plotting the distribution of reconstruction loss\n",
    "fig, ax = plt.subplots(figsize=(6,6))\n",
    "ax.hist(clean[clean <= 10], bins=50, density=True, label=\"clean\", alpha=.6, color=\"green\")\n",
    "ax.hist(fraud[fraud <= 10], bins=50, density=True, label=\"fraud\", alpha=.6, color=\"red\")\n",
    "plt.title(\"(Normalized) Distribution of the Reconstruction Loss\")\n",
    "plt.xlabel(\"Reconstruction error\")\n",
    "plt.legend()\n",
    "plt.show()"
   ]
  },
  {
   "cell_type": "code",
   "execution_count": 21,
   "id": "2c9e0566",
   "metadata": {},
   "outputs": [
    {
     "name": "stderr",
     "output_type": "stream",
     "text": [
      "C:\\Users\\Hasan\\AppData\\Local\\Temp\\ipykernel_15532\\302822058.py:8: UserWarning: \n",
      "\n",
      "`distplot` is a deprecated function and will be removed in seaborn v0.14.0.\n",
      "\n",
      "Please adapt your code to use either `displot` (a figure-level function with\n",
      "similar flexibility) or `histplot` (an axes-level function for histograms).\n",
      "\n",
      "For a guide to updating your code to use the new functions, please see\n",
      "https://gist.github.com/mwaskom/de44147ed2974457ad6372750bbe5751\n",
      "\n",
      "  sns.distplot(clean, bins=50, label='Normal')\n",
      "C:\\Users\\Hasan\\AppData\\Local\\Temp\\ipykernel_15532\\302822058.py:9: UserWarning: \n",
      "\n",
      "`distplot` is a deprecated function and will be removed in seaborn v0.14.0.\n",
      "\n",
      "Please adapt your code to use either `displot` (a figure-level function with\n",
      "similar flexibility) or `histplot` (an axes-level function for histograms).\n",
      "\n",
      "For a guide to updating your code to use the new functions, please see\n",
      "https://gist.github.com/mwaskom/de44147ed2974457ad6372750bbe5751\n",
      "\n",
      "  sns.distplot(fraud, bins=50, label='Fraud')\n"
     ]
    },
    {
     "data": {
      "image/png": "[encoded data removed]",
      "text/plain": [
       "<Figure size 1000x500 with 1 Axes>"
      ]
     },
     "metadata": {},
     "output_type": "display_data"
    }
   ],
   "source": [
    "import matplotlib.pyplot as plt\n",
    "import seaborn as sns\n",
    "\n",
    "clean = mse[y_test == 0]\n",
    "fraud = mse[y_test == 1]\n",
    "\n",
    "plt.figure(figsize=(10, 5))\n",
    "sns.distplot(clean, bins=50, label='Normal')\n",
    "sns.distplot(fraud, bins=50, label='Fraud')\n",
    "plt.legend()\n",
    "plt.title(\"Distribution of the Reconstruction Loss\")\n",
    "plt.xlabel(\"Reconstruction error\")\n",
    "plt.show()"
   ]
  },
  {
   "cell_type": "code",
   "execution_count": null,
   "id": "5d4afa46",
   "metadata": {},
   "outputs": [],
   "source": []
  },
  {
   "cell_type": "code",
   "execution_count": null,
   "id": "3654bd3a",
   "metadata": {},
   "outputs": [],
   "source": []
  }
 ],
 "metadata": {
  "kernelspec": {
   "display_name": "Python 3 (ipykernel)",
   "language": "python",
   "name": "python3"
  },
  "language_info": {
   "codemirror_mode": {
    "name": "ipython",
    "version": 3
   },
   "file_extension": ".py",
   "mimetype": "text/x-python",
   "name": "python",
   "nbconvert_exporter": "python",
   "pygments_lexer": "ipython3",
   "version": "3.11.5"
  }
 },
 "nbformat": 4,
 "nbformat_minor": 5
}
